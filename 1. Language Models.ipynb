{
 "cells": [
  {
   "cell_type": "markdown",
   "id": "eb20e077",
   "metadata": {},
   "source": [
    "<div style=\"width: 100%; overflow: hidden;\">\n",
    "    <div style=\"width: 150px; float: left;\"> <img src=\"https://raw.githubusercontent.com/DataForScience/Networks/master/data/D4Sci_logo_ball.png\" alt=\"Data For Science, Inc\" align=\"left\" border=\"0\" width=150px> </div>\n",
    "    <div style=\"float: left; margin-left: 10px;\"> <h1>ChatGPT And Friends</h1>\n",
    "<h1>Language Models</h1>\n",
    "        <p>Bruno Gonçalves<br/>\n",
    "        <a href=\"http://www.data4sci.com/\">www.data4sci.com</a><br/>\n",
    "            @bgoncalves, @data4sci</p></div>\n",
    "</div>"
   ]
  },
  {
   "cell_type": "code",
   "execution_count": 1,
   "id": "377bf3fa",
   "metadata": {},
   "outputs": [],
   "source": [
    "from collections import Counter, defaultdict\n",
    "import random\n",
    "\n",
    "import pandas as pd\n",
    "import numpy as np\n",
    "\n",
    "import matplotlib\n",
    "import matplotlib.pyplot as plt \n",
    "\n",
    "import nltk\n",
    "from nltk.tokenize import word_tokenize\n",
    "from nltk.corpus import reuters\n",
    "from nltk import bigrams, trigrams\n",
    "\n",
    "import tqdm as tq\n",
    "from tqdm.notebook import tqdm\n",
    "\n",
    "import watermark\n",
    "\n",
    "%load_ext watermark\n",
    "%matplotlib inline"
   ]
  },
  {
   "cell_type": "markdown",
   "id": "1396b8d7",
   "metadata": {},
   "source": [
    "We start by printing out the versions of the libraries we're using for future reference"
   ]
  },
  {
   "cell_type": "code",
   "execution_count": 2,
   "id": "4acf22b4",
   "metadata": {},
   "outputs": [
    {
     "name": "stdout",
     "output_type": "stream",
     "text": [
      "Python implementation: CPython\n",
      "Python version       : 3.11.7\n",
      "IPython version      : 8.12.3\n",
      "\n",
      "Compiler    : Clang 14.0.6 \n",
      "OS          : Darwin\n",
      "Release     : 23.5.0\n",
      "Machine     : arm64\n",
      "Processor   : arm\n",
      "CPU cores   : 16\n",
      "Architecture: 64bit\n",
      "\n",
      "Git hash: 95a23b8725d520f577ffae3e98b501b423302225\n",
      "\n",
      "matplotlib: 3.8.0\n",
      "watermark : 2.4.3\n",
      "tqdm      : 4.66.4\n",
      "numpy     : 1.26.4\n",
      "pandas    : 2.1.4\n",
      "nltk      : 3.8.1\n",
      "\n"
     ]
    }
   ],
   "source": [
    "%watermark -n -v -m -g -iv"
   ]
  },
  {
   "cell_type": "markdown",
   "id": "a31675f6",
   "metadata": {},
   "source": [
    "Load default figure style"
   ]
  },
  {
   "cell_type": "code",
   "execution_count": 3,
   "id": "a1df2404",
   "metadata": {},
   "outputs": [],
   "source": [
    "plt.style.use('d4sci.mplstyle')\n",
    "colors = plt.rcParams['axes.prop_cycle'].by_key()['color']"
   ]
  },
  {
   "cell_type": "markdown",
   "id": "d7965e25",
   "metadata": {},
   "source": [
    "# Segmentation"
   ]
  },
  {
   "cell_type": "code",
   "execution_count": 4,
   "id": "b50d3890",
   "metadata": {},
   "outputs": [],
   "source": [
    "Pword = pd.read_csv('data/count_1w.txt.gz', sep='\\t', header=None, index_col=0)\n",
    "norm = float(Pword.sum().iloc[0])\n",
    "Pword/=norm\n",
    "\n",
    "pword_dict = defaultdict(lambda: 1/norm)\n",
    "pword_dict.update(dict(Pword.reset_index().values))"
   ]
  },
  {
   "cell_type": "code",
   "execution_count": 5,
   "id": "0a139965",
   "metadata": {},
   "outputs": [],
   "source": [
    "def Pwords(words):\n",
    "    \"Probability of words, assuming each word is independent of others.\"\n",
    "    return np.prod([float(pword_dict[w]) for w in words])"
   ]
  },
  {
   "cell_type": "code",
   "execution_count": 6,
   "id": "154562f9",
   "metadata": {},
   "outputs": [],
   "source": [
    "def splits(text, verbose=False):\n",
    "    s = [(text[:i], text[i:]) \n",
    "            for i in range(1, len(text)+1)]\n",
    "    \n",
    "    if verbose:\n",
    "        print(s)\n",
    "    \n",
    "    return s"
   ]
  },
  {
   "cell_type": "code",
   "execution_count": 8,
   "id": "6d06d9f4",
   "metadata": {},
   "outputs": [],
   "source": [
    "def segment(text):\n",
    "    \"Return a list of words that is the most probable segmentation of text.\"\n",
    "    if not text: \n",
    "        return []\n",
    "    else:\n",
    "        candidates = ([first] + segment(rest) \n",
    "                      for (first, rest) in splits(text))\n",
    "        return max(candidates, key=Pwords)"
   ]
  },
  {
   "cell_type": "code",
   "execution_count": 9,
   "id": "d70f0883",
   "metadata": {},
   "outputs": [
    {
     "data": {
      "text/plain": [
       "['choose', 'spain']"
      ]
     },
     "execution_count": 9,
     "metadata": {},
     "output_type": "execute_result"
    }
   ],
   "source": [
    "segment('choosespain')"
   ]
  },
  {
   "cell_type": "code",
   "execution_count": 10,
   "id": "f4fdc654-e635-489c-96be-b35f83a28724",
   "metadata": {},
   "outputs": [
    {
     "data": {
      "text/plain": [
       "1.3415578949797063e-08"
      ]
     },
     "execution_count": 10,
     "metadata": {},
     "output_type": "execute_result"
    }
   ],
   "source": [
    "Pwords(['choose', 'spain'])"
   ]
  },
  {
   "cell_type": "code",
   "execution_count": 11,
   "id": "97ba0e7c-e772-4da3-8a85-bebcd58be28c",
   "metadata": {},
   "outputs": [
    {
     "data": {
      "text/plain": [
       "3.9488948824561327e-10"
      ]
     },
     "execution_count": 11,
     "metadata": {},
     "output_type": "execute_result"
    }
   ],
   "source": [
    "Pwords(['chooses', 'pain'])"
   ]
  },
  {
   "cell_type": "markdown",
   "id": "af574a55",
   "metadata": {},
   "source": [
    "# \"Small\" Language Model"
   ]
  },
  {
   "cell_type": "code",
   "execution_count": 12,
   "id": "85acd120",
   "metadata": {},
   "outputs": [],
   "source": [
    "model = defaultdict(lambda: defaultdict(lambda: 0))"
   ]
  },
  {
   "cell_type": "markdown",
   "id": "082a67d1",
   "metadata": {},
   "source": [
    "We start by counting number of trigram co-occurrences"
   ]
  },
  {
   "cell_type": "code",
   "execution_count": 13,
   "id": "a50cea51",
   "metadata": {},
   "outputs": [
    {
     "data": {
      "text/plain": [
       "[(None, None, 'the'),\n",
       " (None, 'the', 'united'),\n",
       " ('the', 'united', 'states'),\n",
       " ('united', 'states', 'of'),\n",
       " ('states', 'of', 'america'),\n",
       " ('of', 'america', None),\n",
       " ('america', None, None)]"
      ]
     },
     "execution_count": 13,
     "metadata": {},
     "output_type": "execute_result"
    }
   ],
   "source": [
    "list(trigrams([\"the\", \"united\", \"states\", \"of\", \"america\"], pad_right=True, pad_left=True))"
   ]
  },
  {
   "cell_type": "code",
   "execution_count": 15,
   "id": "b925cf88",
   "metadata": {},
   "outputs": [
    {
     "data": {
      "application/vnd.jupyter.widget-view+json": {
       "model_id": "f21f1bae00b04625a252c24d1d515c9a",
       "version_major": 2,
       "version_minor": 0
      },
      "text/plain": [
       "  0%|          | 0/54716 [00:00<?, ?it/s]"
      ]
     },
     "metadata": {},
     "output_type": "display_data"
    }
   ],
   "source": [
    "for sentence in tqdm(reuters.sents(), total=54_716):\n",
    "    for w1, w2, w3 in trigrams(sentence, pad_right=True, pad_left=True):\n",
    "        context = (w1, w2)\n",
    "        model[context][w3] += 1"
   ]
  },
  {
   "cell_type": "markdown",
   "id": "888e34e9",
   "metadata": {},
   "source": [
    "And normalizing the probabilities for each bigram. "
   ]
  },
  {
   "cell_type": "code",
   "execution_count": 16,
   "id": "3058681d",
   "metadata": {},
   "outputs": [],
   "source": [
    "for context in model:\n",
    "    total_count = float(sum(model[context].values()))\n",
    "\n",
    "    for w3 in model[context]:\n",
    "        model[context][w3] /= total_count"
   ]
  },
  {
   "cell_type": "markdown",
   "id": "7e3aa6b3",
   "metadata": {},
   "source": [
    "Our language model is just a weighted mapping between each bigram and the possible next words."
   ]
  },
  {
   "cell_type": "code",
   "execution_count": 17,
   "id": "a4ae8a55",
   "metadata": {},
   "outputs": [
    {
     "data": {
      "text/plain": [
       "defaultdict(<function __main__.<lambda>.<locals>.<lambda>()>,\n",
       "            {'.': 0.10950080515297907,\n",
       "             'where': 0.001610305958132045,\n",
       "             'and': 0.11594202898550725,\n",
       "             'in': 0.01610305958132045,\n",
       "             'citizen': 0.001610305958132045,\n",
       "             'could': 0.008051529790660225,\n",
       "             'is': 0.03864734299516908,\n",
       "             'has': 0.04669887278582931,\n",
       "             'took': 0.00322061191626409,\n",
       "             ',': 0.15780998389694043,\n",
       "             'from': 0.00644122383252818,\n",
       "             'decided': 0.001610305958132045,\n",
       "             'agreed': 0.00644122383252818,\n",
       "             'should': 0.014492753623188406,\n",
       "             '.\"': 0.004830917874396135,\n",
       "             'had': 0.00966183574879227,\n",
       "             \"'\": 0.008051529790660225,\n",
       "             'it': 0.00322061191626409,\n",
       "             'imposes': 0.00322061191626409,\n",
       "             'despite': 0.001610305958132045,\n",
       "             ',\"': 0.014492753623188406,\n",
       "             'markets': 0.001610305958132045,\n",
       "             'imported': 0.001610305958132045,\n",
       "             'requires': 0.001610305958132045,\n",
       "             'did': 0.004830917874396135,\n",
       "             'open': 0.001610305958132045,\n",
       "             'would': 0.030595813204508857,\n",
       "             ')': 0.00322061191626409,\n",
       "             'to': 0.04830917874396135,\n",
       "             'will': 0.0322061191626409,\n",
       "             'of': 0.004830917874396135,\n",
       "             'included': 0.001610305958132045,\n",
       "             'House': 0.001610305958132045,\n",
       "             'made': 0.001610305958132045,\n",
       "             'successfully': 0.001610305958132045,\n",
       "             'itself': 0.001610305958132045,\n",
       "             'influence': 0.001610305958132045,\n",
       "             'into': 0.00322061191626409,\n",
       "             'charged': 0.001610305958132045,\n",
       "             'asked': 0.001610305958132045,\n",
       "             'said': 0.00966183574879227,\n",
       "             'expects': 0.001610305958132045,\n",
       "             'failed': 0.001610305958132045,\n",
       "             'have': 0.00644122383252818,\n",
       "             'outside': 0.001610305958132045,\n",
       "             'aluminum': 0.001610305958132045,\n",
       "             'responded': 0.001610305958132045,\n",
       "             'was': 0.011272141706924315,\n",
       "             'disclosed': 0.001610305958132045,\n",
       "             'government': 0.001610305958132045,\n",
       "             'if': 0.004830917874396135,\n",
       "             'for': 0.008051529790660225,\n",
       "             'opposes': 0.001610305958132045,\n",
       "             'wants': 0.00644122383252818,\n",
       "             'warned': 0.001610305958132045,\n",
       "             'appears': 0.00322061191626409,\n",
       "             'now': 0.001610305958132045,\n",
       "             ').\"': 0.001610305958132045,\n",
       "             'apparently': 0.001610305958132045,\n",
       "             'on': 0.008051529790660225,\n",
       "             'may': 0.00644122383252818,\n",
       "             'remains': 0.00322061191626409,\n",
       "             'with': 0.00322061191626409,\n",
       "             'invoked': 0.001610305958132045,\n",
       "             '-': 0.00644122383252818,\n",
       "             'forces': 0.001610305958132045,\n",
       "             'vessels': 0.001610305958132045,\n",
       "             'that': 0.00322061191626409,\n",
       "             'earlier': 0.001610305958132045,\n",
       "             'faces': 0.001610305958132045,\n",
       "             'attack': 0.001610305958132045,\n",
       "             'sold': 0.001610305958132045,\n",
       "             'which': 0.001610305958132045,\n",
       "             'Treasury': 0.001610305958132045,\n",
       "             'were': 0.00644122383252818,\n",
       "             'Lines': 0.008051529790660225,\n",
       "             'fell': 0.004830917874396135,\n",
       "             'against': 0.001610305958132045,\n",
       "             'but': 0.00644122383252818,\n",
       "             'are': 0.00322061191626409,\n",
       "             'ports': 0.001610305958132045,\n",
       "             'plans': 0.001610305958132045,\n",
       "             'over': 0.00644122383252818,\n",
       "             'cutting': 0.001610305958132045,\n",
       "             'does': 0.00322061191626409,\n",
       "             'last': 0.00644122383252818,\n",
       "             'when': 0.001610305958132045,\n",
       "             'must': 0.011272141706924315,\n",
       "             'might': 0.001610305958132045,\n",
       "             'during': 0.001610305958132045,\n",
       "             'lets': 0.001610305958132045,\n",
       "             'went': 0.001610305958132045,\n",
       "             '80': 0.00322061191626409,\n",
       "             'department': 0.001610305958132045,\n",
       "             'sees': 0.001610305958132045,\n",
       "             'not': 0.001610305958132045,\n",
       "             'defended': 0.001610305958132045,\n",
       "             'as': 0.001610305958132045,\n",
       "             'ready': 0.001610305958132045,\n",
       "             'retaliate': 0.001610305958132045,\n",
       "             'while': 0.00322061191626409,\n",
       "             'can': 0.001610305958132045,\n",
       "             'totaled': 0.001610305958132045,\n",
       "             'section': 0.001610305958132045,\n",
       "             '\"': 0.00322061191626409,\n",
       "             'comes': 0.001610305958132045,\n",
       "             'conducts': 0.001610305958132045,\n",
       "             'dropped': 0.00322061191626409,\n",
       "             'makes': 0.001610305958132045,\n",
       "             'prohibiting': 0.001610305958132045,\n",
       "             'hit': 0.001610305958132045,\n",
       "             '88': 0.001610305958132045,\n",
       "             'include': 0.00322061191626409,\n",
       "             '11': 0.001610305958132045,\n",
       "             'by': 0.00322061191626409,\n",
       "             'overly': 0.001610305958132045,\n",
       "             'believes': 0.001610305958132045,\n",
       "             'at': 0.00322061191626409,\n",
       "             'increased': 0.00322061191626409,\n",
       "             'lost': 0.001610305958132045,\n",
       "             'replaced': 0.001610305958132045,\n",
       "             'alone': 0.001610305958132045,\n",
       "             'than': 0.001610305958132045,\n",
       "             'compared': 0.001610305958132045,\n",
       "             'released': 0.001610305958132045,\n",
       "             'face': 0.001610305958132045,\n",
       "             '48': 0.001610305958132045,\n",
       "             'subsidies': 0.001610305958132045,\n",
       "             'subsidizes': 0.001610305958132045,\n",
       "             'wanted': 0.00322061191626409,\n",
       "             'Bankruptcy': 0.001610305958132045,\n",
       "             'also': 0.001610305958132045,\n",
       "             'or': 0.001610305958132045,\n",
       "             'waived': 0.001610305958132045,\n",
       "             'uses': 0.00322061191626409,\n",
       "             '...': 0.00322061191626409,\n",
       "             'whose': 0.001610305958132045,\n",
       "             'cut': 0.001610305958132045,\n",
       "             'closed': 0.001610305958132045,\n",
       "             '--': 0.001610305958132045})"
      ]
     },
     "execution_count": 17,
     "metadata": {},
     "output_type": "execute_result"
    }
   ],
   "source": [
    "model[(\"United\", \"States\")]"
   ]
  },
  {
   "cell_type": "code",
   "execution_count": 18,
   "id": "d5911761",
   "metadata": {},
   "outputs": [
    {
     "data": {
      "text/plain": [
       "defaultdict(<function __main__.<lambda>.<locals>.<lambda>()>,\n",
       "            {',': 0.21428571428571427,\n",
       "             'and': 0.21428571428571427,\n",
       "             'blender': 0.07142857142857142,\n",
       "             ')': 0.14285714285714285,\n",
       "             'company': 0.07142857142857142,\n",
       "             'operations': 0.07142857142857142,\n",
       "             'assets': 0.07142857142857142,\n",
       "             'Ltd': 0.07142857142857142,\n",
       "             '.': 0.07142857142857142})"
      ]
     },
     "execution_count": 18,
     "metadata": {},
     "output_type": "execute_result"
    }
   ],
   "source": [
    "model[(\"United\", \"Kingdom\")]"
   ]
  },
  {
   "cell_type": "markdown",
   "id": "c82644d5",
   "metadata": {},
   "source": [
    "This is all we need to generate new text staring from a bigram prompt. We must simply perform a random walk on this weighted graph starting from an initial prompt:"
   ]
  },
  {
   "cell_type": "code",
   "execution_count": 19,
   "id": "544fef3a",
   "metadata": {},
   "outputs": [],
   "source": [
    "def generate_sentence_from_prompt(prompt, zero_temperature=False):\n",
    "    text = [*prompt]\n",
    "\n",
    "    # Dont impose any fixed sentence length\n",
    "    while True:\n",
    "        # the current not we're in is just the one that accounts\n",
    "        # for the last two words in the text\n",
    "        bigram = tuple(text[-2:])\n",
    "\n",
    "        # We extract the list of possible next words and their probabilities\n",
    "        words = []\n",
    "        probs = []\n",
    "\n",
    "        for word, prob in model[bigram].items():\n",
    "            words.append(word)\n",
    "            probs.append(prob)\n",
    "\n",
    "        # Choose one word proportionally to each probability\n",
    "        selection = np.random.multinomial(1, probs)\n",
    "        \n",
    "        # Check which one was chosen\n",
    "        if zero_temperature:\n",
    "            pos = np.argmax(probs) # Temperature = 0\n",
    "        else:\n",
    "            pos = np.argmax(selection) # Temperature = 1\n",
    "            \n",
    "        # Check which one was chosen\n",
    "        pos = np.argmax(selection)\n",
    "\n",
    "        word = words[pos]\n",
    "\n",
    "        # Append the new word to our runnning text\n",
    "        text.append(word)\n",
    "\n",
    "        # Stop when we hit two None tokens in a row, that represnet the end of a sentence\n",
    "        if text[-2:] == [None, None]:\n",
    "            break\n",
    "        \n",
    "        # Make sure we don't run forever\n",
    "        if len(text) > 100:\n",
    "            break\n",
    "                \n",
    "    return \" \".join([t for t in text if t])"
   ]
  },
  {
   "cell_type": "code",
   "execution_count": 29,
   "id": "bbfdd491",
   "metadata": {},
   "outputs": [
    {
     "data": {
      "text/plain": [
       "'United States of Malaya Chamber of Commerce has committed to carry on with our main trading partners ,\" he said he believes the dissolution , if approved , the group , the Commerce Department and Defence Department officials said the revised index was 0 . 8 cents and 49 - 5 . 00 DLRS .'"
      ]
     },
     "execution_count": 29,
     "metadata": {},
     "output_type": "execute_result"
    }
   ],
   "source": [
    "generate_sentence_from_prompt(('United', 'States'))"
   ]
  },
  {
   "cell_type": "markdown",
   "id": "046e957a",
   "metadata": {},
   "source": [
    "United States => released\n",
    "\n",
    "United States released -> States released => about\n",
    "\n",
    "United States released about -> released about => 4\n",
    "\n",
    "United States released about 4 -> about 4 => ,"
   ]
  },
  {
   "cell_type": "code",
   "execution_count": 35,
   "id": "e73054d6",
   "metadata": {},
   "outputs": [
    {
     "data": {
      "text/plain": [
       "\"Today the government is planning to cut target prices by two and a firm call for each share of Liberty with a decrease in final form of new supply is not likely to be still around a modest rally in European currency units ( Ecus ) a clear indication that they announced just last week , Jacobs had offered 145 dlrs per tonne c and f Taiwan for failing to exert pressure on Tokyo to open its market to meet periodiocally over the mark if the government ' s end stood at 3 . 08 3 . 35 billion .\""
      ]
     },
     "execution_count": 35,
     "metadata": {},
     "output_type": "execute_result"
    }
   ],
   "source": [
    "generate_sentence_from_prompt(('Today', 'the'))"
   ]
  },
  {
   "cell_type": "code",
   "execution_count": 38,
   "id": "15d6b819",
   "metadata": {},
   "outputs": [
    {
     "data": {
      "text/plain": [
       "'financial markets , it plans to sell its proprietary school business to Bull and Bear Group A said it reached a very , very wet weather , which applies to lending under the debentures on Feb 27 by the Comdata board .'"
      ]
     },
     "execution_count": 38,
     "metadata": {},
     "output_type": "execute_result"
    }
   ],
   "source": [
    "generate_sentence_from_prompt(('financial', 'markets'))"
   ]
  },
  {
   "cell_type": "markdown",
   "id": "f7d3a31a",
   "metadata": {},
   "source": [
    "<center>\n",
    "     <img src=\"https://raw.githubusercontent.com/DataForScience/Networks/master/data/D4Sci_logo_full.png\" alt=\"Data For Science, Inc\" align=\"center\" border=\"0\" width=300px> \n",
    "</center>"
   ]
  }
 ],
 "metadata": {
  "kernelspec": {
   "display_name": "Python 3 (ipykernel)",
   "language": "python",
   "name": "python3"
  },
  "language_info": {
   "codemirror_mode": {
    "name": "ipython",
    "version": 3
   },
   "file_extension": ".py",
   "mimetype": "text/x-python",
   "name": "python",
   "nbconvert_exporter": "python",
   "pygments_lexer": "ipython3",
   "version": "3.11.7"
  },
  "varInspector": {
   "cols": {
    "lenName": 16,
    "lenType": 16,
    "lenVar": 40
   },
   "kernels_config": {
    "python": {
     "delete_cmd_postfix": "",
     "delete_cmd_prefix": "del ",
     "library": "var_list.py",
     "varRefreshCmd": "print(var_dic_list())"
    },
    "r": {
     "delete_cmd_postfix": ") ",
     "delete_cmd_prefix": "rm(",
     "library": "var_list.r",
     "varRefreshCmd": "cat(var_dic_list()) "
    }
   },
   "types_to_exclude": [
    "module",
    "function",
    "builtin_function_or_method",
    "instance",
    "_Feature"
   ],
   "window_display": false
  }
 },
 "nbformat": 4,
 "nbformat_minor": 5
}
