{
 "cells": [
  {
   "cell_type": "markdown",
   "id": "b20cdcf1",
   "metadata": {},
   "source": [
    "<div style=\"width: 100%; overflow: hidden;\">\n",
    "    <div style=\"width: 150px; float: left;\"> <img src=\"https://raw.githubusercontent.com/DataForScience/Networks/master/data/D4Sci_logo_ball.png\" alt=\"Data For Science, Inc\" align=\"left\" border=\"0\" width=150px> </div>\n",
    "    <div style=\"float: left; margin-left: 10px;\"> <h1>Generative AI with OpenAI API</h1>\n",
    "<h1>DALL-E</h1>\n",
    "        <p>Bruno Gonçalves<br/>\n",
    "        <a href=\"http://www.data4sci.com/\">www.data4sci.com</a><br/>\n",
    "            @bgoncalves, @data4sci</p></div>\n",
    "</div>"
   ]
  },
  {
   "cell_type": "code",
   "execution_count": 1,
   "id": "2f8b876e",
   "metadata": {},
   "outputs": [],
   "source": [
    "import numpy as np\n",
    "\n",
    "import matplotlib\n",
    "import matplotlib.pyplot as plt \n",
    "import matplotlib.image as mpimg\n",
    "\n",
    "from IPython.display import Image\n",
    "\n",
    "import openai\n",
    "from openai import OpenAI\n",
    "\n",
    "import os\n",
    "\n",
    "import requests\n",
    "import shutil\n",
    "\n",
    "import tqdm as tq\n",
    "from tqdm.notebook import tqdm\n",
    "\n",
    "import watermark\n",
    "\n",
    "%load_ext watermark\n",
    "%matplotlib inline"
   ]
  },
  {
   "cell_type": "markdown",
   "id": "5dfc4f05",
   "metadata": {},
   "source": [
    "We start by printing out the versions of the libraries we're using for future reference"
   ]
  },
  {
   "cell_type": "code",
   "execution_count": 2,
   "id": "a9cd85df",
   "metadata": {},
   "outputs": [
    {
     "name": "stdout",
     "output_type": "stream",
     "text": [
      "Python implementation: CPython\n",
      "Python version       : 3.11.7\n",
      "IPython version      : 8.21.0\n",
      "\n",
      "Compiler    : Clang 15.0.0 (clang-1500.1.0.2.5)\n",
      "OS          : Darwin\n",
      "Release     : 23.3.0\n",
      "Machine     : x86_64\n",
      "Processor   : i386\n",
      "CPU cores   : 16\n",
      "Architecture: 64bit\n",
      "\n",
      "Git hash: 1f87e80538ad172ebadf16b8ffe7f1e01f363ed6\n",
      "\n",
      "matplotlib: 3.8.2\n",
      "watermark : 2.4.3\n",
      "requests  : 2.31.0\n",
      "tqdm      : 4.66.1\n",
      "numpy     : 1.26.4\n",
      "openai    : 1.12.0\n",
      "json      : 2.0.9\n",
      "\n"
     ]
    }
   ],
   "source": [
    "%watermark -n -v -m -g -iv"
   ]
  },
  {
   "cell_type": "markdown",
   "id": "1b09eb19",
   "metadata": {},
   "source": [
    "Load default figure style"
   ]
  },
  {
   "cell_type": "code",
   "execution_count": 3,
   "id": "b35ff682",
   "metadata": {},
   "outputs": [],
   "source": [
    "plt.style.use('d4sci.mplstyle')\n",
    "colors = plt.rcParams['axes.prop_cycle'].by_key()['color']"
   ]
  },
  {
   "cell_type": "markdown",
   "id": "5b7da76e",
   "metadata": {},
   "source": [
    "Get the API key"
   ]
  },
  {
   "cell_type": "code",
   "execution_count": 4,
   "id": "f4ef2802",
   "metadata": {},
   "outputs": [],
   "source": [
    "client = OpenAI(api_key=os.getenv(\"OPENAI_API_KEY\"))"
   ]
  },
  {
   "cell_type": "markdown",
   "id": "15e2539a",
   "metadata": {},
   "source": [
    "The directory where we will be saving our images"
   ]
  },
  {
   "cell_type": "code",
   "execution_count": 5,
   "id": "d73d68e0",
   "metadata": {},
   "outputs": [],
   "source": [
    "image_dir = \"./images/\""
   ]
  },
  {
   "cell_type": "markdown",
   "id": "0f67ac19",
   "metadata": {},
   "source": [
    "# Generate an image based on a Prompt"
   ]
  },
  {
   "cell_type": "code",
   "execution_count": null,
   "id": "3bbb613a",
   "metadata": {},
   "outputs": [],
   "source": [
    "prompt = \"A wimsical image of a toy duck with an eye patch and hat floating in the clouds\""
   ]
  },
  {
   "cell_type": "markdown",
   "id": "441705af",
   "metadata": {},
   "source": [
    "Make the request"
   ]
  },
  {
   "cell_type": "code",
   "execution_count": null,
   "id": "5c673423",
   "metadata": {},
   "outputs": [],
   "source": [
    "%%time\n",
    "response = client.images.generate(\n",
    "    prompt=prompt,\n",
    "    n=1,\n",
    "    size=\"1024x1024\",\n",
    "    response_format=\"url\",\n",
    ")"
   ]
  },
  {
   "cell_type": "markdown",
   "id": "4b030dbd",
   "metadata": {},
   "source": [
    "The response includes the URL of the image so that we can download it"
   ]
  },
  {
   "cell_type": "code",
   "execution_count": null,
   "id": "f76e3940",
   "metadata": {},
   "outputs": [],
   "source": [
    "print(response)"
   ]
  },
  {
   "cell_type": "markdown",
   "id": "e1e2a2cb",
   "metadata": {},
   "source": [
    "Extract the URL from the response"
   ]
  },
  {
   "cell_type": "code",
   "execution_count": null,
   "id": "640960b4",
   "metadata": {},
   "outputs": [],
   "source": [
    "image_url = response.data[0].url"
   ]
  },
  {
   "cell_type": "markdown",
   "id": "e2b52438",
   "metadata": {},
   "source": [
    "Define a utility function to help us download the image file"
   ]
  },
  {
   "cell_type": "code",
   "execution_count": null,
   "id": "8de92b3c",
   "metadata": {},
   "outputs": [],
   "source": [
    "def download_file(url, filename):\n",
    "    with requests.get(url, stream=True) as r:\n",
    "        total_length = int(r.headers.get(\"Content-Length\"))\n",
    "        with tqdm.wrapattr(r.raw, \"read\", total=total_length, desc=filename) as raw:\n",
    "            with open(filename, 'wb')as output:\n",
    "                shutil.copyfileobj(raw, output)"
   ]
  },
  {
   "cell_type": "markdown",
   "id": "86017296",
   "metadata": {},
   "source": [
    "Download the image"
   ]
  },
  {
   "cell_type": "code",
   "execution_count": null,
   "id": "2ab2b15e",
   "metadata": {},
   "outputs": [],
   "source": [
    "image_filename = os.path.join(image_dir, 'ducky.png')\n",
    "download_file(image_url, image_filename)"
   ]
  },
  {
   "cell_type": "markdown",
   "id": "be26bd08",
   "metadata": {},
   "source": [
    "And display it"
   ]
  },
  {
   "cell_type": "code",
   "execution_count": null,
   "id": "08f4bec3",
   "metadata": {},
   "outputs": [],
   "source": [
    "Image(filename=image_filename)"
   ]
  },
  {
   "cell_type": "markdown",
   "id": "007ca66b",
   "metadata": {},
   "source": [
    "# Generate Prompt"
   ]
  },
  {
   "cell_type": "code",
   "execution_count": null,
   "id": "23ad6427",
   "metadata": {},
   "outputs": [],
   "source": [
    "%%time\n",
    "response = client.chat.completions.create(\n",
    "  model=\"gpt-3.5-turbo\",\n",
    "  messages=[\n",
    "        {\"role\": \"system\", \"content\": \"\"\"You're a brilliant graphic designer. \n",
    "        Generate an precise prompt for DALL-E that has at most 1000 characters.\"\"\"\n",
    "        },\n",
    "        {\"role\": \"user\", \"content\": prompt},\n",
    "    ]\n",
    ")"
   ]
  },
  {
   "cell_type": "code",
   "execution_count": null,
   "id": "e36c1925",
   "metadata": {},
   "outputs": [],
   "source": [
    "prompt"
   ]
  },
  {
   "cell_type": "code",
   "execution_count": null,
   "id": "7119fc6b",
   "metadata": {},
   "outputs": [],
   "source": [
    "print(response.choices[0].message.content)"
   ]
  },
  {
   "cell_type": "code",
   "execution_count": null,
   "id": "584aa93d",
   "metadata": {},
   "outputs": [],
   "source": [
    "expanded_prompt = response.choices[0].message.content"
   ]
  },
  {
   "cell_type": "code",
   "execution_count": null,
   "id": "6d0b6e88",
   "metadata": {},
   "outputs": [],
   "source": [
    "len(expanded_prompt)"
   ]
  },
  {
   "cell_type": "code",
   "execution_count": null,
   "id": "18a605e1",
   "metadata": {},
   "outputs": [],
   "source": [
    "%%time\n",
    "response = client.images.generate(\n",
    "    prompt=expanded_prompt[:1000],\n",
    "    n=3,\n",
    "    size=\"1024x1024\",\n",
    "    response_format=\"url\",\n",
    ")"
   ]
  },
  {
   "cell_type": "code",
   "execution_count": null,
   "id": "8692fcb8",
   "metadata": {},
   "outputs": [],
   "source": [
    "filenames = []\n",
    "\n",
    "for i in range(3):\n",
    "    expanded_image_url = response.data[i].url\n",
    "\n",
    "    expanded_image_filename = os.path.join(image_dir, 'expanded_ducky_%u.png' % i)\n",
    "    download_file(expanded_image_url, expanded_image_filename)\n",
    "    filenames.append(expanded_image_filename)"
   ]
  },
  {
   "cell_type": "code",
   "execution_count": null,
   "id": "bcf930e0",
   "metadata": {},
   "outputs": [],
   "source": [
    "Image(filenames[0])"
   ]
  },
  {
   "cell_type": "code",
   "execution_count": null,
   "id": "48616c36",
   "metadata": {},
   "outputs": [],
   "source": [
    "Image(filenames[1])"
   ]
  },
  {
   "cell_type": "code",
   "execution_count": null,
   "id": "82bf3369",
   "metadata": {},
   "outputs": [],
   "source": [
    "Image(filenames[2])"
   ]
  },
  {
   "cell_type": "markdown",
   "id": "e00ad69c",
   "metadata": {},
   "source": [
    "<center>\n",
    "     <img src=\"https://raw.githubusercontent.com/DataForScience/Networks/master/data/D4Sci_logo_full.png\" alt=\"Data For Science, Inc\" align=\"center\" border=\"0\" width=300px> \n",
    "</center>"
   ]
  }
 ],
 "metadata": {
  "kernelspec": {
   "display_name": "Python 3 (ipykernel)",
   "language": "python",
   "name": "python3"
  },
  "language_info": {
   "codemirror_mode": {
    "name": "ipython",
    "version": 3
   },
   "file_extension": ".py",
   "mimetype": "text/x-python",
   "name": "python",
   "nbconvert_exporter": "python",
   "pygments_lexer": "ipython3",
   "version": "3.11.7"
  },
  "varInspector": {
   "cols": {
    "lenName": 16,
    "lenType": 16,
    "lenVar": 40
   },
   "kernels_config": {
    "python": {
     "delete_cmd_postfix": "",
     "delete_cmd_prefix": "del ",
     "library": "var_list.py",
     "varRefreshCmd": "print(var_dic_list())"
    },
    "r": {
     "delete_cmd_postfix": ") ",
     "delete_cmd_prefix": "rm(",
     "library": "var_list.r",
     "varRefreshCmd": "cat(var_dic_list()) "
    }
   },
   "types_to_exclude": [
    "module",
    "function",
    "builtin_function_or_method",
    "instance",
    "_Feature"
   ],
   "window_display": false
  }
 },
 "nbformat": 4,
 "nbformat_minor": 5
}
