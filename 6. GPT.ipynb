{
 "cells": [
  {
   "cell_type": "markdown",
   "id": "80607966",
   "metadata": {},
   "source": [
    "<div style=\"width: 100%; overflow: hidden;\">\n",
    "    <div style=\"width: 150px; float: left;\"> <img src=\"https://raw.githubusercontent.com/DataForScience/Networks/master/data/D4Sci_logo_ball.png\" alt=\"Data For Science, Inc\" align=\"left\" border=\"0\" width=150px> </div>\n",
    "    <div style=\"float: left; margin-left: 10px;\"> <h1>ChatGPT and Friends</h1>\n",
    "<h1>GPT Models</h1>\n",
    "        <p>Bruno Gonçalves<br/>\n",
    "        <a href=\"http://www.data4sci.com/\">www.data4sci.com</a><br/>\n",
    "            @bgoncalves, @data4sci</p></div>\n",
    "</div>"
   ]
  },
  {
   "cell_type": "code",
   "execution_count": 1,
   "id": "38191feb",
   "metadata": {},
   "outputs": [],
   "source": [
    "from collections import Counter\n",
    "from pprint import pprint\n",
    "from datetime import datetime\n",
    "import json\n",
    "\n",
    "import pandas as pd\n",
    "import numpy as np\n",
    "\n",
    "import matplotlib\n",
    "import matplotlib.pyplot as plt \n",
    "\n",
    "import openai\n",
    "from openai import OpenAI\n",
    "\n",
    "import termcolor\n",
    "from termcolor import colored\n",
    "\n",
    "import os\n",
    "import gzip\n",
    "\n",
    "import tqdm as tq\n",
    "from tqdm.notebook import tqdm\n",
    "\n",
    "import watermark\n",
    "\n",
    "%load_ext watermark\n",
    "%matplotlib inline"
   ]
  },
  {
   "cell_type": "markdown",
   "id": "15506bcf",
   "metadata": {},
   "source": [
    "We start by printing out the versions of the libraries we're using for future reference"
   ]
  },
  {
   "cell_type": "code",
   "execution_count": 2,
   "id": "dccfe4a1",
   "metadata": {},
   "outputs": [
    {
     "name": "stdout",
     "output_type": "stream",
     "text": [
      "Python implementation: CPython\n",
      "Python version       : 3.11.7\n",
      "IPython version      : 8.12.3\n",
      "\n",
      "Compiler    : Clang 14.0.6 \n",
      "OS          : Darwin\n",
      "Release     : 23.6.0\n",
      "Machine     : arm64\n",
      "Processor   : arm\n",
      "CPU cores   : 16\n",
      "Architecture: 64bit\n",
      "\n",
      "Git hash: 92a02bb270ea6c021bbfde4468463fafcfb13958\n",
      "\n",
      "numpy     : 1.26.4\n",
      "tqdm      : 4.66.4\n",
      "pandas    : 2.2.3\n",
      "watermark : 2.4.3\n",
      "termcolor : 2.4.0\n",
      "matplotlib: 3.8.0\n",
      "openai    : 1.30.5\n",
      "json      : 2.0.9\n",
      "\n"
     ]
    }
   ],
   "source": [
    "%watermark -n -v -m -g -iv"
   ]
  },
  {
   "cell_type": "markdown",
   "id": "ec25c9bb",
   "metadata": {},
   "source": [
    "Load default figure style"
   ]
  },
  {
   "cell_type": "code",
   "execution_count": 3,
   "id": "30e24063",
   "metadata": {},
   "outputs": [],
   "source": [
    "plt.style.use('d4sci.mplstyle')\n",
    "colors = plt.rcParams['axes.prop_cycle'].by_key()['color']"
   ]
  },
  {
   "cell_type": "markdown",
   "id": "82b619b0",
   "metadata": {},
   "source": [
    "# Basic Usage"
   ]
  },
  {
   "cell_type": "markdown",
   "id": "d3b6efcc",
   "metadata": {},
   "source": [
    "The first step is always to load up the API key from the local environment. Without it we won't be able to do anything. You can find your API key in your using settings: https://help.openai.com/en/articles/4936850-where-do-i-find-my-secret-api-key"
   ]
  },
  {
   "cell_type": "code",
   "execution_count": 4,
   "id": "bcc428c2",
   "metadata": {},
   "outputs": [],
   "source": [
    "client = OpenAI(api_key=os.getenv(\"OPENAI_API_KEY\"))"
   ]
  },
  {
   "cell_type": "markdown",
   "id": "34092c16",
   "metadata": {},
   "source": [
    "We start by getting a list of supported models."
   ]
  },
  {
   "cell_type": "code",
   "execution_count": 5,
   "id": "9fc26cdf",
   "metadata": {},
   "outputs": [],
   "source": [
    "model_list = client.models.list().data"
   ]
  },
  {
   "cell_type": "markdown",
   "id": "d4026c66",
   "metadata": {},
   "source": [
    "In total we have 33 models"
   ]
  },
  {
   "cell_type": "code",
   "execution_count": 6,
   "id": "550e8bbe",
   "metadata": {},
   "outputs": [
    {
     "data": {
      "text/plain": [
       "38"
      ]
     },
     "execution_count": 6,
     "metadata": {},
     "output_type": "execute_result"
    }
   ],
   "source": [
    "len(model_list)"
   ]
  },
  {
   "cell_type": "markdown",
   "id": "d2f41f5e",
   "metadata": {},
   "source": [
    "Along with some information about each model..."
   ]
  },
  {
   "cell_type": "code",
   "execution_count": 7,
   "id": "79d86e88",
   "metadata": {},
   "outputs": [
    {
     "data": {
      "text/plain": [
       "[Model(id='dall-e-2', created=1698798177, object='model', owned_by='system'),\n",
       " Model(id='whisper-1', created=1677532384, object='model', owned_by='openai-internal'),\n",
       " Model(id='gpt-3.5-turbo-instruct', created=1692901427, object='model', owned_by='system')]"
      ]
     },
     "execution_count": 7,
     "metadata": {},
     "output_type": "execute_result"
    }
   ],
   "source": [
    "model_list[:3]"
   ]
  },
  {
   "cell_type": "markdown",
   "id": "36a5afd5",
   "metadata": {},
   "source": [
    "But let's just get a list of model names"
   ]
  },
  {
   "cell_type": "code",
   "execution_count": 8,
   "id": "5b6a0d29",
   "metadata": {},
   "outputs": [
    {
     "name": "stdout",
     "output_type": "stream",
     "text": [
      "babbage-002\n",
      "chatgpt-4o-latest\n",
      "dall-e-2\n",
      "dall-e-3\n",
      "davinci-002\n",
      "gpt-3.5-turbo\n",
      "gpt-3.5-turbo-0125\n",
      "gpt-3.5-turbo-0301\n",
      "gpt-3.5-turbo-0613\n",
      "gpt-3.5-turbo-1106\n",
      "gpt-3.5-turbo-16k\n",
      "gpt-3.5-turbo-16k-0613\n",
      "gpt-3.5-turbo-instruct\n",
      "gpt-3.5-turbo-instruct-0914\n",
      "gpt-4\n",
      "gpt-4-0125-preview\n",
      "gpt-4-0613\n",
      "gpt-4-1106-preview\n",
      "gpt-4-turbo\n",
      "gpt-4-turbo-2024-04-09\n",
      "gpt-4-turbo-preview\n",
      "gpt-4o\n",
      "gpt-4o-2024-05-13\n",
      "gpt-4o-2024-08-06\n",
      "gpt-4o-audio-preview\n",
      "gpt-4o-audio-preview-2024-10-01\n",
      "gpt-4o-mini\n",
      "gpt-4o-mini-2024-07-18\n",
      "gpt-4o-realtime-preview\n",
      "gpt-4o-realtime-preview-2024-10-01\n",
      "text-embedding-3-large\n",
      "text-embedding-3-small\n",
      "text-embedding-ada-002\n",
      "tts-1\n",
      "tts-1-1106\n",
      "tts-1-hd\n",
      "tts-1-hd-1106\n",
      "whisper-1\n"
     ]
    }
   ],
   "source": [
    "print(\"\\n\".join(sorted([model.id for model in model_list])))"
   ]
  },
  {
   "cell_type": "markdown",
   "id": "56678077",
   "metadata": {},
   "source": [
    "## Basic Prompt"
   ]
  },
  {
   "cell_type": "markdown",
   "id": "e64c6830",
   "metadata": {},
   "source": [
    "The recommended model for exploration is `gpt-4o`, so we'll stick with it for now. The basic setup is relatively straightforward:"
   ]
  },
  {
   "cell_type": "code",
   "execution_count": 9,
   "id": "e1e1c526",
   "metadata": {},
   "outputs": [
    {
     "name": "stdout",
     "output_type": "stream",
     "text": [
      "CPU times: user 2.26 ms, sys: 1.09 ms, total: 3.35 ms\n",
      "Wall time: 3.83 s\n"
     ]
    }
   ],
   "source": [
    "%%time\n",
    "response = client.chat.completions.create(\n",
    "  model=\"gpt-4o\",\n",
    "  messages=[\n",
    "        {\n",
    "            \"role\": \"user\", \n",
    "            \"content\": \"What was Superman's weakness?\"\n",
    "        },\n",
    "    ]\n",
    ")"
   ]
  },
  {
   "cell_type": "markdown",
   "id": "1c565c4f",
   "metadata": {},
   "source": [
    "Which produces a response object"
   ]
  },
  {
   "cell_type": "code",
   "execution_count": 10,
   "id": "62659251",
   "metadata": {},
   "outputs": [
    {
     "data": {
      "text/plain": [
       "openai.types.chat.chat_completion.ChatCompletion"
      ]
     },
     "execution_count": 10,
     "metadata": {},
     "output_type": "execute_result"
    }
   ],
   "source": [
    "type(response)"
   ]
  },
  {
   "cell_type": "markdown",
   "id": "76302fe2",
   "metadata": {},
   "source": [
    "Which we can treat as a simple object"
   ]
  },
  {
   "cell_type": "code",
   "execution_count": 11,
   "id": "d3f771fb",
   "metadata": {},
   "outputs": [
    {
     "name": "stdout",
     "output_type": "stream",
     "text": [
      "Choice(finish_reason='stop', index=0, logprobs=None, message=ChatCompletionMessage(content=\"Superman's most well-known weakness is Kryptonite, a radioactive substance from his home planet, Krypton. Exposure to Kryptonite can weaken Superman, stripping him of his powers and making him vulnerable to harm. There are different varieties of Kryptonite, with green Kryptonite being the most common and harmful to him. Additionally, Superman is susceptible to magic and can be affected by red solar radiation, which can deplete his powers.\", role='assistant', function_call=None, tool_calls=None, refusal=None))\n"
     ]
    }
   ],
   "source": [
    "pprint(response.choices[0])"
   ]
  },
  {
   "cell_type": "markdown",
   "id": "b9379c6b",
   "metadata": {},
   "source": [
    "The model answer can be found in the \"message\" named tuple inside the \"choices\" list"
   ]
  },
  {
   "cell_type": "code",
   "execution_count": 12,
   "id": "2ffe6f36",
   "metadata": {},
   "outputs": [
    {
     "name": "stdout",
     "output_type": "stream",
     "text": [
      "Superman's most well-known weakness is Kryptonite, a radioactive substance from his home planet, Krypton. Exposure to Kryptonite can weaken Superman, stripping him of his powers and making him vulnerable to harm. There are different varieties of Kryptonite, with green Kryptonite being the most common and harmful to him. Additionally, Superman is susceptible to magic and can be affected by red solar radiation, which can deplete his powers.\n"
     ]
    }
   ],
   "source": [
    "print(response.choices[0].message.content)"
   ]
  },
  {
   "cell_type": "markdown",
   "id": "8fd5ba3f",
   "metadata": {},
   "source": [
    "To request multiple answers, we must include the `n` parameter with the number of answers we want"
   ]
  },
  {
   "cell_type": "code",
   "execution_count": 13,
   "id": "d2805ac1",
   "metadata": {},
   "outputs": [
    {
     "name": "stdout",
     "output_type": "stream",
     "text": [
      "CPU times: user 2.35 ms, sys: 773 µs, total: 3.12 ms\n",
      "Wall time: 12.5 s\n"
     ]
    }
   ],
   "source": [
    "%%time\n",
    "response = client.chat.completions.create(\n",
    "    model=\"gpt-4o\",\n",
    "    messages=[\n",
    "        {\"role\": \"user\", \"content\": \"What are the different kinds of Kryptonite?\"},\n",
    "    ],\n",
    "    n=3\n",
    ")"
   ]
  },
  {
   "cell_type": "markdown",
   "id": "2602bc22",
   "metadata": {},
   "source": [
    "And we can access each of the answers individually int he choices list"
   ]
  },
  {
   "cell_type": "code",
   "execution_count": 14,
   "id": "4f8d456d",
   "metadata": {},
   "outputs": [
    {
     "name": "stdout",
     "output_type": "stream",
     "text": [
      "==========\n",
      "Assistant\n",
      "==========\n",
      "Kryptonite, famously known as the substance that can weaken or harm Superman and other Kryptonians, comes in various forms in the DC Comics universe. Each type has different properties and effects:\n",
      "\n",
      "1. **Green Kryptonite**: This is the most common form and is lethal to Kryptonians. Prolonged exposure can weaken and eventually kill them.\n",
      "\n",
      "2. **Red Kryptonite**: Red Kryptonite causes bizarre and unpredictable physical and emotional changes in Kryptonians. The effects are temporary but can vary widely with each exposure.\n",
      "\n",
      "3. **Blue Kryptonite**: This type affects Bizarro, the imperfect clone of Superman, in the same way that Green Kryptonite affects normal Kryptonians. It can neutralize the powers of Bizarros and, in some versions, affects Kryptonians with different effects.\n",
      "\n",
      "4. **Gold Kryptonite**: This form can permanently remove a Kryptonian's superpowers, essentially making them normal without any abilities.\n",
      "\n",
      "5. **White Kryptonite**: White Kryptonite is deadly to plant life from any world but has no effect on Kryptonians.\n",
      "\n",
      "6. **Black Kryptonite**: This form has the ability to split a Kryptonian into two separate beings, one good and one evil. It can also merge them back together.\n",
      "\n",
      "7. **Silver Kryptonite**: Typically introduced as a hoax or hallucinogen in certain storylines, Silver Kryptonite can cause extreme paranoia and hallucinations in Kryptonians.\n",
      "\n",
      "8. **Jewel Kryptonite**: This is a rare form that enhances the psychic abilities of those in the Phantom Zone, allowing them to project their influence into the material world.\n",
      "\n",
      "9. **Pink Kryptonite**: Known more from comedic or non-canonical storylines, it is said to temporarily alter the sexual orientation of a Kryptonian.\n",
      "\n",
      "10. **Yellow Kryptonite**: Though not a common feature, when it appears, it typically grants a non-Kryptonian temporary superpowers in certain storylines.\n",
      "\n",
      "These different forms of Kryptonite have been utilized variably across Superman media, each providing unique challenges or narrative twists based on their specific effects.\n",
      "==========\n",
      "\n",
      "==========\n",
      "Assistant\n",
      "==========\n",
      "Kryptonite, the fictional substance from the Superman universe, comes in several varieties, each with different effects. Here are some of the most well-known types:\n",
      "\n",
      "1. **Green Kryptonite**: The most common form, it weakens and can eventually kill Superman and other Kryptonians, with prolonged exposure causing severe harm.\n",
      "\n",
      "2. **Red Kryptonite**: Causes unpredictable effects on Kryptonians, which can vary widely from story to story. Its effects are usually temporary but often bizarre.\n",
      "\n",
      "3. **Blue Kryptonite**: Affects Bizarro versions of Kryptonians, weakening them similar to how green kryptonite affects Superman.\n",
      "\n",
      "4. **Gold Kryptonite**: Has the ability to permanently remove the powers of a Kryptonian.\n",
      "\n",
      "5. **White Kryptonite**: Harms all plant life, including Kryptonian plant life.\n",
      "\n",
      "6. **Black Kryptonite**: Splits a Kryptonian into their good and evil halves, essentially creating two separate beings.\n",
      "\n",
      "7. **Silver Kryptonite**: Induces paranoid hallucinations in Kryptonians.\n",
      "\n",
      "8. **Jewel Kryptonite**: Magnifies the psychic powers of Kryptonians from the Phantom Zone, allowing them to project illusions and affect the real world.\n",
      "\n",
      "9. **Pink Kryptonite**: In some humorous or alternate universe stories, it has been shown to have bizarre effects, like altering a Kryptonian's gender or sexual orientation.\n",
      "\n",
      "10. **Anti-Kryptonite**: Affects non-superpowered Kryptonians but is harmless to those with superpowers.\n",
      "\n",
      "There are also many other lesser-known or one-off varieties introduced in various comics, TV shows, and movies, often for specific plot purposes.\n",
      "==========\n",
      "\n",
      "==========\n",
      "Assistant\n",
      "==========\n",
      "Kryptonite comes in various forms, each having a different effect on Superman and other Kryptonians. Here are some of the most notable types:\n",
      "\n",
      "1. **Green Kryptonite**: This is the most common form, which weakens Superman and other Kryptonians, causing pain and potentially leading to death with prolonged exposure.\n",
      "\n",
      "2. **Red Kryptonite**: This variety causes unpredictable effects on Kryptonians, often leading to bizarre physical transformations or behavioral changes.\n",
      "\n",
      "3. **Blue Kryptonite**: Typically affects Bizarro versions of Kryptonians, having effects similar to green kryptonite but specifically on Bizarros.\n",
      "\n",
      "4. **Gold Kryptonite**: This type can permanently remove the superpowers of a Kryptonian, effectively rendering them as powerless as ordinary humans.\n",
      "\n",
      "5. **White Kryptonite**: Harms plant life of any kind, including alien plant species.\n",
      "\n",
      "6. **Black Kryptonite**: This type has the ability to split a Kryptonian into two separate entities, one good and one evil.\n",
      "\n",
      "7. **Silver Kryptonite**: Often causes hallucinations and paranoia in Kryptonians.\n",
      "\n",
      "8. **Jewel Kryptonite**: This variety enables manipulation of the Phantom Zone, often allowing those trapped inside to amplify their mental powers.\n",
      "\n",
      "9. **Pink Kryptonite**: Although mostly used in humor or satire, this version is said to create changes in gender-specific behavior, but its canonical acceptance and effects can vary.\n",
      "\n",
      "10. **Orange Kryptonite**: Grants superpowers to animals; however, its effects on humans are not well-defined.\n",
      "\n",
      "These different types are often used in the comics and related media to create unique storylines and challenges for Superman and other Kryptonian characters. Their properties can vary somewhat depending on the version or continuity in which they appear.\n",
      "==========\n",
      "\n"
     ]
    }
   ],
   "source": [
    "for output in response.choices:\n",
    "    print(\"==========\")\n",
    "    print(output.message.role.title()) \n",
    "    print(\"==========\")\n",
    "    print(output.message.content)\n",
    "    print(\"==========\\n\")"
   ]
  },
  {
   "cell_type": "code",
   "execution_count": 15,
   "id": "f61ae360",
   "metadata": {},
   "outputs": [
    {
     "data": {
      "text/plain": [
       "CompletionUsage(completion_tokens=1111, prompt_tokens=16, total_tokens=1127, prompt_tokens_details={'cached_tokens': 0, 'audio_tokens': 0}, completion_tokens_details={'reasoning_tokens': 0, 'audio_tokens': 0, 'accepted_prediction_tokens': 0, 'rejected_prediction_tokens': 0})"
      ]
     },
     "execution_count": 15,
     "metadata": {},
     "output_type": "execute_result"
    }
   ],
   "source": [
    "response.usage"
   ]
  },
  {
   "cell_type": "markdown",
   "id": "cb029188",
   "metadata": {},
   "source": [
    "# Temperature"
   ]
  },
  {
   "cell_type": "code",
   "execution_count": 16,
   "id": "e44677f8",
   "metadata": {},
   "outputs": [
    {
     "name": "stdout",
     "output_type": "stream",
     "text": [
      "CPU times: user 6.29 ms, sys: 3.2 ms, total: 9.48 ms\n",
      "Wall time: 7.65 s\n"
     ]
    }
   ],
   "source": [
    "%%time\n",
    "response = client.chat.completions.create(\n",
    "    model=\"gpt-4o\",\n",
    "    messages=[\n",
    "        {\"role\": \"user\", \"content\": \"Tell me a short story\"},\n",
    "    ],\n",
    "    temperature=1.2\n",
    ")"
   ]
  },
  {
   "cell_type": "code",
   "execution_count": 17,
   "id": "18e1f221",
   "metadata": {},
   "outputs": [
    {
     "name": "stdout",
     "output_type": "stream",
     "text": [
      "Once upon a time, in the quaint village of Eldergrove, nestled between verdant hills and sparkling brooks, there lived a young girl named Elara. Her days were filled with curiosity and a longing for discovery, often venturing into the whispering woods at the edge of the village.\n",
      "\n",
      "One sunny afternoon, while gathering wildflowers for her mother, Elara stumbled upon a small, hidden garden surrounded by ancient oak trees. In the center stood an enigmatic stone statue of a beautiful, laughing girl, whose eyes seemed to twinkle in the dappled sunlight.\n",
      "\n",
      "Elara felt as if the statue invited her to share in some forgotten joy. Fascinated, she visited the garden regularly, enchanted by its tranquility and the statue's silent companionship. Little did she know, generations of villagers had whispered about magical tales of a joyful spirit inhabiting these woods.\n",
      "\n",
      "As weeks turned into months, Elara noticed small wild animals seemed to follow her in content harmony whenever she approached the hidden haven. Birds would gather on her steps, and rabbits bounded alongside her, filling the air with a gentle energy and companionship she had never known.\n",
      "\n",
      "One day, Elara entered the garden to find the statue unexpectedly missing. In its place sprouted a beautiful flowering tree, vibrant with bright canary blossoms that mirror the sunshine itself. She realized then that she had never been alone; the spirit of joy had always been with her, teaching her the true essence of companionship and contentment.\n",
      "\n",
      "As Elara grew, she carried the garden's lessons forever in her heart, cherishing trails of happiness wherever she went. The enchanting oak-guarded glade remained a cherished secret, with the flowers serving as a yearly reminder that friendship transcends the barriers we can see.\n",
      "\n",
      "Generations later, Eldergrove hummed with legends of Elara and her magical friendship, each storyteller gazing toward the enthusiastically blooming canary tree, believing they, too, were part of its ever-blossoming mystery and joy.\n"
     ]
    }
   ],
   "source": [
    "print(response.choices[0].message.content)"
   ]
  },
  {
   "cell_type": "code",
   "execution_count": 18,
   "id": "df15d177",
   "metadata": {},
   "outputs": [
    {
     "name": "stdout",
     "output_type": "stream",
     "text": [
      "CPU times: user 7.82 ms, sys: 3.33 ms, total: 11.1 ms\n",
      "Wall time: 2.98 s\n"
     ]
    }
   ],
   "source": [
    "%%time\n",
    "response = client.chat.completions.create(\n",
    "    model=\"gpt-3.5-turbo\",\n",
    "    messages=[\n",
    "        {\"role\": \"user\", \"content\": \"Tell me a short story\"},\n",
    "    ],\n",
    "    temperature=0\n",
    ")"
   ]
  },
  {
   "cell_type": "code",
   "execution_count": 19,
   "id": "2be311d8",
   "metadata": {},
   "outputs": [
    {
     "name": "stdout",
     "output_type": "stream",
     "text": [
      "Once upon a time, in a small village nestled in the mountains, there lived a young girl named Lily. Lily was known for her kindness and generosity, always willing to help those in need.\n",
      "\n",
      "One day, a terrible storm hit the village, causing widespread damage and leaving many families homeless. Lily knew she had to do something to help. She gathered her friends and together they started a fundraiser to rebuild the homes that were destroyed.\n",
      "\n",
      "Through hard work and determination, Lily and her friends were able to raise enough money to rebuild every home in the village. The villagers were overjoyed and grateful for Lily's selfless act of kindness.\n",
      "\n",
      "From that day on, Lily became a hero in the village, known for her compassion and willingness to help others in need. She showed everyone that even the smallest act of kindness can make a big difference in the world. And so, the village lived happily ever after, thanks to the kindness of one young girl named Lily.\n"
     ]
    }
   ],
   "source": [
    "print(response.choices[0].message.content)"
   ]
  },
  {
   "cell_type": "markdown",
   "id": "67904fde",
   "metadata": {},
   "source": [
    "## Few-shot prompting"
   ]
  },
  {
   "cell_type": "markdown",
   "id": "04531131",
   "metadata": {},
   "source": [
    "We can also provide several examples of mappings between input and output."
   ]
  },
  {
   "cell_type": "code",
   "execution_count": 20,
   "id": "38a19bd8",
   "metadata": {},
   "outputs": [
    {
     "name": "stdout",
     "output_type": "stream",
     "text": [
      "Because of this last-minute change, we can't do everything for the client's project.\n"
     ]
    }
   ],
   "source": [
    "response = client.chat.completions.create(\n",
    "    model=\"gpt-4o\",\n",
    "    messages=[\n",
    "        {\"role\": \"system\", \"content\": \"You are a helpful, pattern-following assistant.\"},\n",
    "        {\"role\": \"user\", \"content\": \"Help me translate the following corporate jargon into plain English.\"},\n",
    "        {\"role\": \"assistant\", \"content\": \"Sure, I'd be happy to!\"},\n",
    "        {\"role\": \"user\", \"content\": \"New synergies will help drive top-line growth.\"},\n",
    "        {\"role\": \"assistant\", \"content\": \"Things working well together will increase revenue.\"},\n",
    "        {\"role\": \"user\", \"content\": \"Let's circle back when we have more bandwidth to touch base on opportunities for increased leverage.\"},\n",
    "        {\"role\": \"assistant\", \"content\": \"Let's talk later when we're less busy about how to do better.\"},\n",
    "        {\"role\": \"user\", \"content\": \"This late pivot means we don't have time to boil the ocean for the client deliverable.\"},\n",
    "    ],\n",
    "    temperature=0,\n",
    ")\n",
    "\n",
    "print(response.choices[0].message.content)"
   ]
  },
  {
   "cell_type": "markdown",
   "id": "39facdd4",
   "metadata": {},
   "source": [
    "# Formatted output"
   ]
  },
  {
   "cell_type": "code",
   "execution_count": 21,
   "id": "5618fe9a",
   "metadata": {},
   "outputs": [
    {
     "name": "stdout",
     "output_type": "stream",
     "text": [
      "CPU times: user 8.96 ms, sys: 3.24 ms, total: 12.2 ms\n",
      "Wall time: 8 s\n"
     ]
    }
   ],
   "source": [
    "%%time\n",
    "userInput = \"blueberry pancakes\"\n",
    "\n",
    "prompt = \"\"\"return a recipe for %s.\n",
    "        Provide your response as a JSON object with the following schema:\n",
    "        {\"dish\": \"%s\", \"ingredients\": [\"\", \"\", ...],\n",
    "        \"instructions\": [\"\", \"\", ... ]}\"\"\" % (userInput, userInput)\n",
    "\n",
    "response = client.chat.completions.create(\n",
    "          model = \"gpt-4o\",\n",
    "          messages = [\n",
    "            { \"role\": \"system\", \"content\": \"You are a helpful recipe assistant.\"},\n",
    "            { \"role\": \"user\",   \"content\": prompt }\n",
    "          ]\n",
    ")"
   ]
  },
  {
   "cell_type": "code",
   "execution_count": 22,
   "id": "dbe07a1a",
   "metadata": {},
   "outputs": [
    {
     "name": "stdout",
     "output_type": "stream",
     "text": [
      "return a recipe for blueberry pancakes.\n",
      "        Provide your response as a JSON object with the following schema:\n",
      "        {\"dish\": \"blueberry pancakes\", \"ingredients\": [\"\", \"\", ...],\n",
      "        \"instructions\": [\"\", \"\", ... ]}\n"
     ]
    }
   ],
   "source": [
    "print(prompt)"
   ]
  },
  {
   "cell_type": "code",
   "execution_count": 23,
   "id": "ce96c00d",
   "metadata": {},
   "outputs": [],
   "source": [
    "json_output = response.choices[0].message.content"
   ]
  },
  {
   "cell_type": "code",
   "execution_count": 24,
   "id": "a1baeea7",
   "metadata": {},
   "outputs": [
    {
     "name": "stdout",
     "output_type": "stream",
     "text": [
      "```json\n",
      "{\n",
      "    \"dish\": \"blueberry pancakes\",\n",
      "    \"ingredients\": [\n",
      "        \"1 cup all-purpose flour\",\n",
      "        \"1 tablespoon sugar\",\n",
      "        \"1 teaspoon baking powder\",\n",
      "        \"1/2 teaspoon baking soda\",\n",
      "        \"1/4 teaspoon salt\",\n",
      "        \"1 cup buttermilk\",\n",
      "        \"1 large egg\",\n",
      "        \"2 tablespoons unsalted butter, melted\",\n",
      "        \"1 cup fresh blueberries\",\n",
      "        \"Butter or oil for cooking\"\n",
      "    ],\n",
      "    \"instructions\": [\n",
      "        \"In a large bowl, whisk together the flour, sugar, baking powder, baking soda, and salt.\",\n",
      "        \"In another bowl, combine the buttermilk, egg, and melted butter, mixing well.\",\n",
      "        \"Pour the wet ingredients into the dry ingredients and stir until just combined. Do not overmix.\",\n",
      "        \"Gently fold in the blueberries.\",\n",
      "        \"Heat a skillet or griddle over medium heat and lightly grease with butter or oil.\",\n",
      "        \"For each pancake, pour about 1/4 cup of batter onto the skillet.\",\n",
      "        \"Cook until bubbles form on the surface of the pancakes and the edges appear set, about 2-3 minutes.\",\n",
      "        \"Carefully flip and cook for another 2-3 minutes, or until golden brown and cooked through.\",\n",
      "        \"Serve warm with your choice of toppings, such as maple syrup or additional blueberries.\"\n",
      "    ]\n",
      "}\n",
      "```\n"
     ]
    }
   ],
   "source": [
    "print(json_output)"
   ]
  },
  {
   "cell_type": "code",
   "execution_count": 26,
   "id": "9539723b",
   "metadata": {},
   "outputs": [],
   "source": [
    "output = json.loads(json_output[7:-3])"
   ]
  },
  {
   "cell_type": "code",
   "execution_count": 27,
   "id": "547de360",
   "metadata": {},
   "outputs": [
    {
     "data": {
      "text/plain": [
       "['1 cup all-purpose flour',\n",
       " '1 tablespoon sugar',\n",
       " '1 teaspoon baking powder',\n",
       " '1/2 teaspoon baking soda',\n",
       " '1/4 teaspoon salt',\n",
       " '1 cup buttermilk',\n",
       " '1 large egg',\n",
       " '2 tablespoons unsalted butter, melted',\n",
       " '1 cup fresh blueberries',\n",
       " 'Butter or oil for cooking']"
      ]
     },
     "execution_count": 27,
     "metadata": {},
     "output_type": "execute_result"
    }
   ],
   "source": [
    "output[\"ingredients\"]"
   ]
  },
  {
   "cell_type": "code",
   "execution_count": 28,
   "id": "98366a2d",
   "metadata": {},
   "outputs": [
    {
     "data": {
      "text/plain": [
       "['In a large bowl, whisk together the flour, sugar, baking powder, baking soda, and salt.',\n",
       " 'In another bowl, combine the buttermilk, egg, and melted butter, mixing well.',\n",
       " 'Pour the wet ingredients into the dry ingredients and stir until just combined. Do not overmix.',\n",
       " 'Gently fold in the blueberries.',\n",
       " 'Heat a skillet or griddle over medium heat and lightly grease with butter or oil.',\n",
       " 'For each pancake, pour about 1/4 cup of batter onto the skillet.',\n",
       " 'Cook until bubbles form on the surface of the pancakes and the edges appear set, about 2-3 minutes.',\n",
       " 'Carefully flip and cook for another 2-3 minutes, or until golden brown and cooked through.',\n",
       " 'Serve warm with your choice of toppings, such as maple syrup or additional blueberries.']"
      ]
     },
     "execution_count": 28,
     "metadata": {},
     "output_type": "execute_result"
    }
   ],
   "source": [
    "output[\"instructions\"]"
   ]
  },
  {
   "cell_type": "markdown",
   "id": "e3cf09e7",
   "metadata": {},
   "source": [
    "# Translation"
   ]
  },
  {
   "cell_type": "code",
   "execution_count": 29,
   "id": "4c0fbea1",
   "metadata": {},
   "outputs": [],
   "source": [
    "response = client.chat.completions.create(\n",
    "    model='gpt-3.5-turbo',\n",
    "    messages=[{\"role\": \"system\", \"content\": \"You're a professional English-Italian translator.\"}, \n",
    "              {\"role\": \"user\", \"content\": \"Translate 'Be the change that you wish to see in the world.' into Italian\"}],\n",
    "    temperature=0,\n",
    ")"
   ]
  },
  {
   "cell_type": "code",
   "execution_count": 30,
   "id": "4d2b8f1a",
   "metadata": {},
   "outputs": [
    {
     "data": {
      "text/plain": [
       "'\"Sii il cambiamento che desideri vedere nel mondo.\"'"
      ]
     },
     "execution_count": 30,
     "metadata": {},
     "output_type": "execute_result"
    }
   ],
   "source": [
    "response.choices[0].message.content"
   ]
  },
  {
   "cell_type": "markdown",
   "id": "3281872f",
   "metadata": {},
   "source": [
    "# Process unstructured information"
   ]
  },
  {
   "cell_type": "markdown",
   "id": "8e1e7138",
   "metadata": {},
   "source": [
    "Inspired by https://platform.openai.com/examples/default-parse-data"
   ]
  },
  {
   "cell_type": "code",
   "execution_count": 31,
   "id": "0137043a",
   "metadata": {},
   "outputs": [],
   "source": [
    "prompt = \"\"\"There are many fruits that were found on the recently discovered planet Goocrux. \n",
    "There are neoskizzles that grow there, which are purple and taste like candy. There are also \n",
    "loheckles, which are a grayish blue fruit and are very tart, a little bit like a lemon. Pounits \n",
    "are a bright green color and are more savory than sweet. There are also plenty of loopnovas which \n",
    "are a neon pink flavor and taste like cotton candy. Finally, there are fruits called glowls, which \n",
    "have a very sour and bitter taste which is acidic and caustic, and a pale orange tinge to them.\"\"\""
   ]
  },
  {
   "cell_type": "code",
   "execution_count": 32,
   "id": "4edb70eb",
   "metadata": {},
   "outputs": [],
   "source": [
    "response = client.chat.completions.create(\n",
    "    model='gpt-4o',\n",
    "    messages=[\n",
    "        {\"role\": \"system\", \n",
    "         \"content\": \"You will be provided with unstructured data, and your task is to parse it into CSV format.\"}, \n",
    "        {\"role\": \"user\", \n",
    "         \"content\": prompt}],\n",
    "    temperature=0,\n",
    ")"
   ]
  },
  {
   "cell_type": "code",
   "execution_count": 33,
   "id": "76e1dea8",
   "metadata": {},
   "outputs": [
    {
     "name": "stdout",
     "output_type": "stream",
     "text": [
      "```csv\n",
      "Fruit,Color,Taste\n",
      "Neoskizzles,Purple,Candy\n",
      "Loheckles,Grayish Blue,Tart\n",
      "Pounits,Bright Green,Savory\n",
      "Loopnovas,Neon Pink,Cotton Candy\n",
      "Glowls,Pale Orange,Sour and Bitter\n",
      "```\n"
     ]
    }
   ],
   "source": [
    "print(response.choices[0].message.content)"
   ]
  },
  {
   "cell_type": "code",
   "execution_count": 34,
   "id": "1a0de7bb",
   "metadata": {},
   "outputs": [],
   "source": [
    "response = client.chat.completions.create(\n",
    "    model='gpt-4o',\n",
    "    messages=[{\"role\": \"system\", \"content\": \"\"\"\n",
    "            Read this paragraph \n",
    "            \n",
    "            `%s` \n",
    "            \n",
    "            and use it to answer some questions.\"\"\" % prompt}, \n",
    "              {\"role\": \"user\", \"content\": \"What are pounits?\"}],\n",
    "    temperature=0,\n",
    ")"
   ]
  },
  {
   "cell_type": "code",
   "execution_count": 35,
   "id": "1c0b669b",
   "metadata": {},
   "outputs": [
    {
     "name": "stdout",
     "output_type": "stream",
     "text": [
      "Pounits are a type of fruit found on the planet Goocrux. They are bright green in color and are more savory than sweet.\n"
     ]
    }
   ],
   "source": [
    "print(response.choices[0].message.content)"
   ]
  },
  {
   "cell_type": "markdown",
   "id": "fa1d6cee",
   "metadata": {},
   "source": [
    "<center>\n",
    "     <img src=\"https://raw.githubusercontent.com/DataForScience/Networks/master/data/D4Sci_logo_full.png\" alt=\"Data For Science, Inc\" align=\"center\" border=\"0\" width=300px> \n",
    "</center>"
   ]
  }
 ],
 "metadata": {
  "kernelspec": {
   "display_name": "Python 3 (ipykernel)",
   "language": "python",
   "name": "python3"
  },
  "language_info": {
   "codemirror_mode": {
    "name": "ipython",
    "version": 3
   },
   "file_extension": ".py",
   "mimetype": "text/x-python",
   "name": "python",
   "nbconvert_exporter": "python",
   "pygments_lexer": "ipython3",
   "version": "3.11.7"
  },
  "varInspector": {
   "cols": {
    "lenName": 16,
    "lenType": 16,
    "lenVar": 40
   },
   "kernels_config": {
    "python": {
     "delete_cmd_postfix": "",
     "delete_cmd_prefix": "del ",
     "library": "var_list.py",
     "varRefreshCmd": "print(var_dic_list())"
    },
    "r": {
     "delete_cmd_postfix": ") ",
     "delete_cmd_prefix": "rm(",
     "library": "var_list.r",
     "varRefreshCmd": "cat(var_dic_list()) "
    }
   },
   "types_to_exclude": [
    "module",
    "function",
    "builtin_function_or_method",
    "instance",
    "_Feature"
   ],
   "window_display": false
  }
 },
 "nbformat": 4,
 "nbformat_minor": 5
}
