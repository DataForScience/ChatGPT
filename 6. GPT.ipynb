{
 "cells": [
  {
   "cell_type": "markdown",
   "id": "bb1c4766",
   "metadata": {},
   "source": [
    "<div style=\"width: 100%; overflow: hidden;\">\n",
    "    <div style=\"width: 150px; float: left;\"> <img src=\"https://raw.githubusercontent.com/DataForScience/Networks/master/data/D4Sci_logo_ball.png\" alt=\"Data For Science, Inc\" align=\"left\" border=\"0\" width=150px> </div>\n",
    "    <div style=\"float: left; margin-left: 10px;\"> <h1>ChatGPT and Friends</h1>\n",
    "<h1>GPT Models</h1>\n",
    "        <p>Bruno Gonçalves<br/>\n",
    "        <a href=\"http://www.data4sci.com/\">www.data4sci.com</a><br/>\n",
    "            @bgoncalves, @data4sci</p></div>\n",
    "</div>"
   ]
  },
  {
   "cell_type": "code",
   "execution_count": 1,
   "id": "df160a42",
   "metadata": {},
   "outputs": [],
   "source": [
    "from collections import Counter\n",
    "from pprint import pprint\n",
    "from datetime import datetime\n",
    "import json\n",
    "\n",
    "import pandas as pd\n",
    "import numpy as np\n",
    "\n",
    "import matplotlib\n",
    "import matplotlib.pyplot as plt \n",
    "\n",
    "import openai\n",
    "from openai import OpenAI\n",
    "\n",
    "import termcolor\n",
    "from termcolor import colored\n",
    "\n",
    "import os\n",
    "import gzip\n",
    "\n",
    "import tqdm as tq\n",
    "from tqdm.notebook import tqdm\n",
    "\n",
    "import watermark\n",
    "\n",
    "%load_ext watermark\n",
    "%matplotlib inline"
   ]
  },
  {
   "cell_type": "markdown",
   "id": "d70ba586",
   "metadata": {},
   "source": [
    "We start by printing out the versions of the libraries we're using for future reference"
   ]
  },
  {
   "cell_type": "code",
   "execution_count": 2,
   "id": "62e0182c",
   "metadata": {},
   "outputs": [
    {
     "name": "stdout",
     "output_type": "stream",
     "text": [
      "Python implementation: CPython\n",
      "Python version       : 3.11.7\n",
      "IPython version      : 8.12.3\n",
      "\n",
      "Compiler    : Clang 14.0.6 \n",
      "OS          : Darwin\n",
      "Release     : 23.5.0\n",
      "Machine     : arm64\n",
      "Processor   : arm\n",
      "CPU cores   : 16\n",
      "Architecture: 64bit\n",
      "\n",
      "Git hash: 21b9940cec1a0c4befc502f81feeba07c252d364\n",
      "\n",
      "json      : 2.0.9\n",
      "matplotlib: 3.8.0\n",
      "pandas    : 2.1.4\n",
      "tqdm      : 4.66.4\n",
      "numpy     : 1.26.4\n",
      "watermark : 2.4.3\n",
      "openai    : 1.30.5\n",
      "termcolor : 2.4.0\n",
      "\n"
     ]
    }
   ],
   "source": [
    "%watermark -n -v -m -g -iv"
   ]
  },
  {
   "cell_type": "markdown",
   "id": "41664edc",
   "metadata": {},
   "source": [
    "Load default figure style"
   ]
  },
  {
   "cell_type": "code",
   "execution_count": 3,
   "id": "5074b577",
   "metadata": {},
   "outputs": [],
   "source": [
    "plt.style.use('d4sci.mplstyle')\n",
    "colors = plt.rcParams['axes.prop_cycle'].by_key()['color']"
   ]
  },
  {
   "cell_type": "markdown",
   "id": "e3f9bf9f",
   "metadata": {},
   "source": [
    "# Basic Usage"
   ]
  },
  {
   "cell_type": "markdown",
   "id": "2d601c0c",
   "metadata": {},
   "source": [
    "The first step is always to load up the API key from the local environment. Without it we won't be able to do anything. You can find your API key in your using settings: https://help.openai.com/en/articles/4936850-where-do-i-find-my-secret-api-key"
   ]
  },
  {
   "cell_type": "code",
   "execution_count": 4,
   "id": "9423867e",
   "metadata": {},
   "outputs": [],
   "source": [
    "client = OpenAI(api_key=os.getenv(\"OPENAI_API_KEY\"))"
   ]
  },
  {
   "cell_type": "markdown",
   "id": "6e09209b",
   "metadata": {},
   "source": [
    "We start by getting a list of supported models."
   ]
  },
  {
   "cell_type": "code",
   "execution_count": 5,
   "id": "c0318580",
   "metadata": {},
   "outputs": [],
   "source": [
    "model_list = client.models.list().data"
   ]
  },
  {
   "cell_type": "markdown",
   "id": "46f53647",
   "metadata": {},
   "source": [
    "In total we have 33 models"
   ]
  },
  {
   "cell_type": "code",
   "execution_count": 6,
   "id": "639c34f2",
   "metadata": {},
   "outputs": [
    {
     "data": {
      "text/plain": [
       "33"
      ]
     },
     "execution_count": 6,
     "metadata": {},
     "output_type": "execute_result"
    }
   ],
   "source": [
    "len(model_list)"
   ]
  },
  {
   "cell_type": "markdown",
   "id": "667e7b4a",
   "metadata": {},
   "source": [
    "Along with some information about each model..."
   ]
  },
  {
   "cell_type": "code",
   "execution_count": 8,
   "id": "e2d63c8c",
   "metadata": {},
   "outputs": [
    {
     "data": {
      "text/plain": [
       "[Model(id='dall-e-3', created=1698785189, object='model', owned_by='system'),\n",
       " Model(id='gpt-4-1106-preview', created=1698957206, object='model', owned_by='system'),\n",
       " Model(id='dall-e-2', created=1698798177, object='model', owned_by='system')]"
      ]
     },
     "execution_count": 8,
     "metadata": {},
     "output_type": "execute_result"
    }
   ],
   "source": [
    "model_list[:3]"
   ]
  },
  {
   "cell_type": "markdown",
   "id": "8a87da5c",
   "metadata": {},
   "source": [
    "But let's just get a list of model names"
   ]
  },
  {
   "cell_type": "code",
   "execution_count": 9,
   "id": "4cdc4655",
   "metadata": {},
   "outputs": [
    {
     "name": "stdout",
     "output_type": "stream",
     "text": [
      "babbage-002\n",
      "dall-e-2\n",
      "dall-e-3\n",
      "davinci-002\n",
      "gpt-3.5-turbo\n",
      "gpt-3.5-turbo-0125\n",
      "gpt-3.5-turbo-0301\n",
      "gpt-3.5-turbo-0613\n",
      "gpt-3.5-turbo-1106\n",
      "gpt-3.5-turbo-16k\n",
      "gpt-3.5-turbo-16k-0613\n",
      "gpt-3.5-turbo-instruct\n",
      "gpt-3.5-turbo-instruct-0914\n",
      "gpt-4\n",
      "gpt-4-0125-preview\n",
      "gpt-4-0613\n",
      "gpt-4-1106-preview\n",
      "gpt-4-turbo\n",
      "gpt-4-turbo-2024-04-09\n",
      "gpt-4-turbo-preview\n",
      "gpt-4o\n",
      "gpt-4o-2024-05-13\n",
      "gpt-4o-2024-08-06\n",
      "gpt-4o-mini\n",
      "gpt-4o-mini-2024-07-18\n",
      "text-embedding-3-large\n",
      "text-embedding-3-small\n",
      "text-embedding-ada-002\n",
      "tts-1\n",
      "tts-1-1106\n",
      "tts-1-hd\n",
      "tts-1-hd-1106\n",
      "whisper-1\n"
     ]
    }
   ],
   "source": [
    "print(\"\\n\".join(sorted([model.id for model in model_list])))"
   ]
  },
  {
   "cell_type": "markdown",
   "id": "5af92a65",
   "metadata": {},
   "source": [
    "## Basic Prompt"
   ]
  },
  {
   "cell_type": "markdown",
   "id": "8c3f667d",
   "metadata": {},
   "source": [
    "The recommended model for exploration is `gpt-4o`, so we'll stick with it for now. The basic setup is relatively straightforward:"
   ]
  },
  {
   "cell_type": "code",
   "execution_count": 10,
   "id": "b1840815",
   "metadata": {},
   "outputs": [
    {
     "name": "stdout",
     "output_type": "stream",
     "text": [
      "CPU times: user 15.4 ms, sys: 3.51 ms, total: 18.9 ms\n",
      "Wall time: 8.26 s\n"
     ]
    }
   ],
   "source": [
    "%%time\n",
    "response = client.chat.completions.create(\n",
    "  model=\"gpt-4o\",\n",
    "  messages=[\n",
    "        {\n",
    "            \"role\": \"user\", \n",
    "            \"content\": \"What was Superman's weakness?\"\n",
    "        },\n",
    "    ]\n",
    ")"
   ]
  },
  {
   "cell_type": "markdown",
   "id": "85ff193d",
   "metadata": {},
   "source": [
    "Which produces a response object"
   ]
  },
  {
   "cell_type": "code",
   "execution_count": 11,
   "id": "39f49d86",
   "metadata": {},
   "outputs": [
    {
     "data": {
      "text/plain": [
       "openai.types.chat.chat_completion.ChatCompletion"
      ]
     },
     "execution_count": 11,
     "metadata": {},
     "output_type": "execute_result"
    }
   ],
   "source": [
    "type(response)"
   ]
  },
  {
   "cell_type": "markdown",
   "id": "c2899521",
   "metadata": {},
   "source": [
    "Which we can treat as a simple object"
   ]
  },
  {
   "cell_type": "code",
   "execution_count": 12,
   "id": "0a95afa9",
   "metadata": {},
   "outputs": [
    {
     "name": "stdout",
     "output_type": "stream",
     "text": [
      "Choice(finish_reason='stop', index=0, logprobs=None, message=ChatCompletionMessage(content=\"Superman's most well-known weakness is Kryptonite, a radioactive element from his home planet of Krypton. There are several different forms of Kryptonite, each having unique effects on Superman:\\n\\n- **Green Kryptonite**: This is the most commonly known form. Exposure to green Kryptonite weakens Superman, drains his powers, and can eventually kill him with prolonged exposure.\\n- **Red Kryptonite**: Typically causes unpredictable physical changes or mental effects in Superman. Each exposure to red Kryptonite has a different effect and can last up to 48 hours.\\n- **Gold Kryptonite**: Removes Superman's superpowers permanently upon contact.\\n- **Blue Kryptonite**: Affects Bizarro, an imperfect clone of Superman, weakening him in the same way that green Kryptonite affects Superman.\\n- **Black Kryptonite**: Can split a person into their good and evil halves.\\n\\nAside from Kryptonite, Superman also has other vulnerabilities, albeit less pronounced:\\n\\n- **Magic**: Superman's powers do not protect him from magical attacks or spells, making him vulnerable to magic.\\n- **Red Sun Radiation**: Although Earth's yellow sun is the source of his powers, exposure to radiation from a red sun, similar to that of Krypton, will cause him to lose his abilities.\\n- **Psionics/Mental Attacks**: While somewhat resistant, Superman can be affected by powerful telepathic or psionic attacks. \\n\\nThese weaknesses make Superman a more complex character and provide challenges that he must overcome beyond his physical confrontations.\", role='assistant', function_call=None, tool_calls=None, refusal=None))\n"
     ]
    }
   ],
   "source": [
    "pprint(response.choices[0])"
   ]
  },
  {
   "cell_type": "markdown",
   "id": "16d792a7",
   "metadata": {},
   "source": [
    "The model answer can be found in the \"message\" named tuple inside the \"choices\" list"
   ]
  },
  {
   "cell_type": "code",
   "execution_count": 13,
   "id": "5dd95849",
   "metadata": {},
   "outputs": [
    {
     "name": "stdout",
     "output_type": "stream",
     "text": [
      "Superman's most well-known weakness is Kryptonite, a radioactive element from his home planet of Krypton. There are several different forms of Kryptonite, each having unique effects on Superman:\n",
      "\n",
      "- **Green Kryptonite**: This is the most commonly known form. Exposure to green Kryptonite weakens Superman, drains his powers, and can eventually kill him with prolonged exposure.\n",
      "- **Red Kryptonite**: Typically causes unpredictable physical changes or mental effects in Superman. Each exposure to red Kryptonite has a different effect and can last up to 48 hours.\n",
      "- **Gold Kryptonite**: Removes Superman's superpowers permanently upon contact.\n",
      "- **Blue Kryptonite**: Affects Bizarro, an imperfect clone of Superman, weakening him in the same way that green Kryptonite affects Superman.\n",
      "- **Black Kryptonite**: Can split a person into their good and evil halves.\n",
      "\n",
      "Aside from Kryptonite, Superman also has other vulnerabilities, albeit less pronounced:\n",
      "\n",
      "- **Magic**: Superman's powers do not protect him from magical attacks or spells, making him vulnerable to magic.\n",
      "- **Red Sun Radiation**: Although Earth's yellow sun is the source of his powers, exposure to radiation from a red sun, similar to that of Krypton, will cause him to lose his abilities.\n",
      "- **Psionics/Mental Attacks**: While somewhat resistant, Superman can be affected by powerful telepathic or psionic attacks. \n",
      "\n",
      "These weaknesses make Superman a more complex character and provide challenges that he must overcome beyond his physical confrontations.\n"
     ]
    }
   ],
   "source": [
    "print(response.choices[0].message.content)"
   ]
  },
  {
   "cell_type": "markdown",
   "id": "0a40c96b",
   "metadata": {},
   "source": [
    "To request multiple answers, we must include the `n` parameter with the number of answers we want"
   ]
  },
  {
   "cell_type": "code",
   "execution_count": 14,
   "id": "8c6214fe",
   "metadata": {},
   "outputs": [
    {
     "name": "stdout",
     "output_type": "stream",
     "text": [
      "CPU times: user 11.2 ms, sys: 2.11 ms, total: 13.3 ms\n",
      "Wall time: 9.34 s\n"
     ]
    }
   ],
   "source": [
    "%%time\n",
    "response = client.chat.completions.create(\n",
    "    model=\"gpt-4o\",\n",
    "    messages=[\n",
    "        {\"role\": \"user\", \"content\": \"What are the different kinds of Kryptonite?\"},\n",
    "    ],\n",
    "    n=3\n",
    ")"
   ]
  },
  {
   "cell_type": "markdown",
   "id": "65dfe487",
   "metadata": {},
   "source": [
    "And we can access each of the answers individually int he choices list"
   ]
  },
  {
   "cell_type": "code",
   "execution_count": 15,
   "id": "97ff6cee",
   "metadata": {},
   "outputs": [
    {
     "name": "stdout",
     "output_type": "stream",
     "text": [
      "==========\n",
      "Assistant\n",
      "==========\n",
      "Kryptonite is most commonly known as the substance from Superman's home planet of Krypton that weakens him and other Kryptonians. While the green variety is the most well-known, there are actually several different kinds of Kryptonite in various forms of Superman media, each with unique properties. Here are some of the most notable types:\n",
      "\n",
      "1. **Green Kryptonite**: The most iconic form, it weakens Superman and other Kryptonians, causing extreme pain and potentially death with prolonged exposure.\n",
      "\n",
      "2. **Red Kryptonite**: Causes unpredictable and often bizarre changes in Kryptonians. Its effects vary widely, ranging from physical transformations to altered personalities.\n",
      "\n",
      "3. **Blue Kryptonite**: Typically affects Bizarro, a flawed clone of Superman. In Bizarro's case, it weakens him just as green Kryptonite affects Superman.\n",
      "\n",
      "4. **Gold Kryptonite**: Permanently removes a Kryptonian's superhuman abilities by destroying their ability to process yellow sunlight.\n",
      "\n",
      "5. **White Kryptonite**: Destroys all plant life, regardless of origin, and has no effect on Kryptonians.\n",
      "\n",
      "6. **Black Kryptonite**: Splits a Kryptonian into two separate entities, one good and one evil.\n",
      "\n",
      "7. **Silver Kryptonite**: Often induces paranoia and hallucinations in Kryptonians.\n",
      "\n",
      "8. **Jewel Kryptonite**: Enhances psychic abilities, particularly those linked to the Phantom Zone, allowing prisoners to manipulate objects in the physical world.\n",
      "\n",
      "9. **Pink Kryptonite**: In some stories, it is depicted humorously as causing alterations in sexual orientation, though this is not considered canon in most mainstream Superman narratives.\n",
      "\n",
      "10. **Anti-Kryptonite**: Affects non-superpowered Kryptonians without the abilities bestowed by a yellow sun, acting similarly to how green Kryptonite affects superpowered Kryptonians.\n",
      "\n",
      "11. **X-Kryptonite**: Created by Supergirl, it grants temporary superpowers to non-Kryptonians.\n",
      "\n",
      "There are other, less common varieties in various comics, shows, and movies, but these represent the most significant and frequently recurring forms of Kryptonite. Each one provides writers and creators with different tools to tell diverse and engaging stories within the Superman mythos.\n",
      "==========\n",
      "\n",
      "==========\n",
      "Assistant\n",
      "==========\n",
      "In the Superman universe, Kryptonite is a fictional substance originating from Superman's home planet of Krypton. It comes in various forms, each with different properties and effects. Here are some of the most well-known types of Kryptonite:\n",
      "\n",
      "1. **Green Kryptonite**: The most famous form, Green Kryptonite emits radiation that weakens Superman and other Kryptonians, and prolonged exposure can be fatal.\n",
      "\n",
      "2. **Red Kryptonite**: This variety causes unpredictable changes in Kryptonians, often resulting in bizarre transformations or behavioral changes. The effects are typically temporary but can be quite diverse and chaotic.\n",
      "\n",
      "3. **Blue Kryptonite**: Generally counteracts the effects of Red Kryptonite. It is also harmful to Bizarro, an imperfect duplicate of Superman.\n",
      "\n",
      "4. **Gold Kryptonite**: Permanently removes a Kryptonian’s superpowers. It is one of the most dangerous forms for Superman, as the loss of powers is irreversible.\n",
      "\n",
      "5. **White Kryptonite**: Destroys all plant life, whether it's on Earth or Krypton.\n",
      "\n",
      "6. **Black Kryptonite**: Splits a Kryptonian into two separate beings: one good and one evil.\n",
      "\n",
      "7. **Silver Kryptonite**: Induces hallucinations and paranoia in Kryptonians. \n",
      "\n",
      "8. **Jewel Kryptonite**: Enhances the psychic powers of Kryptonians, particularly those incarcerated in the Phantom Zone, allowing them to project their consciousness outside the zone.\n",
      "\n",
      "9. **Pink Kryptonite**: Allegedly induces a change in sexual orientation, but this type is mostly considered part of a satirical story and isn't widely accepted in canon.\n",
      "\n",
      "10. **Anti-Kryptonite**: Harms non-superpowered Kryptonians. Unlike regular Kryptonite, it’s not effective against a superpowered Kryptonian like Superman.\n",
      "\n",
      "11. **X-Kryptonite**: Grants temporary superpowers to non-Kryptonians, typically humans or animals. \n",
      "\n",
      "The use and properties of these different kinds of Kryptonite can vary somewhat depending on the continuity or specific storyline within the broader DC Universe. Different comics, TV shows, and movies might present them with slight variations.\n",
      "==========\n",
      "\n",
      "==========\n",
      "Assistant\n",
      "==========\n",
      "Kryptonite is a fictional substance from the Superman series and comes in various forms, each having different effects on Superman and other Kryptonian beings. Here are some of the most well-known types:\n",
      "\n",
      "1. **Green Kryptonite**: The most commonly known form, it weakens Superman and other Kryptonians, and prolonged exposure can be fatal.\n",
      "\n",
      "2. **Red Kryptonite**: Causes unpredictable effects on Kryptonians. These effects usually last for 24-48 hours and can range from physical transformations to changes in behavior.\n",
      "\n",
      "3. **Blue Kryptonite**: Affects Bizarro, the imperfect clone of Superman, in the same way that Green Kryptonite affects Superman.\n",
      "\n",
      "4. **Gold Kryptonite**: Removes a Kryptonian's powers permanently if they are exposed for a sufficient amount of time.\n",
      "\n",
      "5. **White Kryptonite**: Destroys all plant life, regardless of origin.\n",
      "\n",
      "6. **Black Kryptonite**: Splits a Kryptonian into two separate entities, representing their good and evil sides.\n",
      "\n",
      "7. **Pink Kryptonite**: Satirically introduced, it supposedly alters a Kryptonian's sexual orientation.\n",
      "\n",
      "8. **Silver Kryptonite**: Induces hallucinations and paranoia in Kryptonians.\n",
      "\n",
      "9. **Jewel Kryptonite**: Amplifies the psychic powers of those in the Phantom Zone, a dimension where Kryptonian criminals are imprisoned.\n",
      "\n",
      "10. **Anti-Kryptonite**: Affects non-superpowered Kryptonians, but has no effect on those with superpowers.\n",
      "\n",
      "11. **X-Kryptonite**: Gives non-Kryptonians temporary superpowers similar to those of Superman.\n",
      "\n",
      "While these are some of the main types, various other forms have appeared throughout different comic book continuities and adaptations, contributing to the rich mythology of the Superman series.\n",
      "==========\n",
      "\n"
     ]
    }
   ],
   "source": [
    "for output in response.choices:\n",
    "    print(\"==========\")\n",
    "    print(output.message.role.title()) \n",
    "    print(\"==========\")\n",
    "    print(output.message.content)\n",
    "    print(\"==========\\n\")"
   ]
  },
  {
   "cell_type": "code",
   "execution_count": 16,
   "id": "95c925ba",
   "metadata": {},
   "outputs": [
    {
     "data": {
      "text/plain": [
       "CompletionUsage(completion_tokens=1237, prompt_tokens=16, total_tokens=1253)"
      ]
     },
     "execution_count": 16,
     "metadata": {},
     "output_type": "execute_result"
    }
   ],
   "source": [
    "response.usage"
   ]
  },
  {
   "cell_type": "markdown",
   "id": "0b6451a7",
   "metadata": {},
   "source": [
    "# Temperature"
   ]
  },
  {
   "cell_type": "code",
   "execution_count": 17,
   "id": "0c9c0391",
   "metadata": {},
   "outputs": [
    {
     "name": "stdout",
     "output_type": "stream",
     "text": [
      "CPU times: user 11.9 ms, sys: 2.51 ms, total: 14.4 ms\n",
      "Wall time: 11.7 s\n"
     ]
    }
   ],
   "source": [
    "%%time\n",
    "response = client.chat.completions.create(\n",
    "    model=\"gpt-4o\",\n",
    "    messages=[\n",
    "        {\"role\": \"user\", \"content\": \"Tell me a short story\"},\n",
    "    ],\n",
    "    temperature=1.2\n",
    ")"
   ]
  },
  {
   "cell_type": "code",
   "execution_count": 18,
   "id": "aba32682",
   "metadata": {},
   "outputs": [
    {
     "name": "stdout",
     "output_type": "stream",
     "text": [
      "Once upon a time, in a quaint village nestled between emerald hills, lived a curious girl named Elara. She had a heart full of wonder and a mind thirsty for adventure. Elara's favorite place was an ancient forest on the outskirts of the village that brimmed with history and whispered secrets through the rustling leaves.\n",
      "\n",
      "One sunlit afternoon, as she wandered deeper into the forest than ever before, she stumbled upon a hidden hollow tree that emanated a soft, golden glow. Inside the hollow, she found an intricate, ornate key—bronze with delicate filigree and a tiny, ruby-red gemstone at its center. Intrigued, she decided to explore further and see if the mysterious key unlocked anything close by.\n",
      "\n",
      "Following a narrow, winding path, Elara arrived at an old, moss-covered stone door. To her amazement, the key fit perfectly into the lock. With a deep breath, she turned it, and the heavy door creaked open to reveal a hidden grotto on the other side, filled with vibrant, luminescent flowers and clear crystal streams.\n",
      "\n",
      "But the most astonishing sight came from a colossal tree in the cen­ter with ethereal, silver leaves that tinkled like wind chimes. There, among the branches, perched a magnificent spectral owl with eyes like glowing amber. The owl spoke to Elara in a voice that resonated with wisdom and kindness.\n",
      "\n",
      "\"Welcome, Elara,\" the owl hooted. \"You have discovered the Sanctuary of Serenity. Few find this place, and even fewer can call upon the peace and magic it harbors. As a reward for your curiosity and courage, I grant you the Guardianship of Serenity. You may return here whenever you wish, and it will offer you solace and guide you through life's unwinding paths.\"\n",
      "\n",
      "From that day forward, Elara carried the magical key with her always, knowing that whenever she needed peace or perspective, the Sanctuary of Serenity wasn’t just a secret grove, but essentially a second home. She grew to be wise beyond her years, helping those in her village with calm counsel and a warm, accepting heart, carrying the essence of that magical sanctuary with her wherever she went.\n",
      "\n",
      "And so, the intertwining wonders of nature and magic became her compass through life, and the curious girl who discovered a hidden realm grew into an unforgettable legend of serenity for her village and beyond. \n",
      "\n",
      "The end.\n"
     ]
    }
   ],
   "source": [
    "print(response.choices[0].message.content)"
   ]
  },
  {
   "cell_type": "code",
   "execution_count": 19,
   "id": "fd0c41e3",
   "metadata": {},
   "outputs": [
    {
     "name": "stdout",
     "output_type": "stream",
     "text": [
      "CPU times: user 9.92 ms, sys: 2.16 ms, total: 12.1 ms\n",
      "Wall time: 4.01 s\n"
     ]
    }
   ],
   "source": [
    "%%time\n",
    "response = client.chat.completions.create(\n",
    "    model=\"gpt-3.5-turbo\",\n",
    "    messages=[\n",
    "        {\"role\": \"user\", \"content\": \"Tell me a short story\"},\n",
    "    ],\n",
    "    temperature=0\n",
    ")"
   ]
  },
  {
   "cell_type": "code",
   "execution_count": 22,
   "id": "3e49498e",
   "metadata": {},
   "outputs": [
    {
     "name": "stdout",
     "output_type": "stream",
     "text": [
      "Once upon a time, in a small village nestled in the mountains, there lived a young girl named Lily. Lily was known for her kindness and generosity, always willing to help those in need.\n",
      "\n",
      "One day, a terrible storm hit the village, causing widespread damage and leaving many families homeless. Lily knew she had to do something to help. She gathered her friends and together they started a relief effort, collecting food, clothing, and supplies for those affected by the storm.\n",
      "\n",
      "As word spread of Lily's efforts, more and more people in the village joined in, donating whatever they could to help their neighbors in need. Soon, the village was buzzing with activity as everyone worked together to rebuild and support those who had lost everything.\n",
      "\n",
      "Thanks to Lily's leadership and the community's generosity, the village was able to recover from the storm stronger than ever before. And from that day on, Lily was known as a hero, not just in her village, but in the hearts of all who knew her.\n"
     ]
    }
   ],
   "source": [
    "print(response.choices[0].message.content)"
   ]
  },
  {
   "cell_type": "markdown",
   "id": "c7329a5e",
   "metadata": {},
   "source": [
    "## Few-shot prompting"
   ]
  },
  {
   "cell_type": "markdown",
   "id": "96aa3370",
   "metadata": {},
   "source": [
    "We can also provide several examples of mappings between input and output."
   ]
  },
  {
   "cell_type": "code",
   "execution_count": 23,
   "id": "aba89669",
   "metadata": {},
   "outputs": [
    {
     "name": "stdout",
     "output_type": "stream",
     "text": [
      "This last-minute change means we can't do everything for the client's project.\n"
     ]
    }
   ],
   "source": [
    "response = client.chat.completions.create(\n",
    "    model=\"gpt-4o\",\n",
    "    messages=[\n",
    "        {\"role\": \"system\", \"content\": \"You are a helpful, pattern-following assistant.\"},\n",
    "        {\"role\": \"user\", \"content\": \"Help me translate the following corporate jargon into plain English.\"},\n",
    "        {\"role\": \"assistant\", \"content\": \"Sure, I'd be happy to!\"},\n",
    "        {\"role\": \"user\", \"content\": \"New synergies will help drive top-line growth.\"},\n",
    "        {\"role\": \"assistant\", \"content\": \"Things working well together will increase revenue.\"},\n",
    "        {\"role\": \"user\", \"content\": \"Let's circle back when we have more bandwidth to touch base on opportunities for increased leverage.\"},\n",
    "        {\"role\": \"assistant\", \"content\": \"Let's talk later when we're less busy about how to do better.\"},\n",
    "        {\"role\": \"user\", \"content\": \"This late pivot means we don't have time to boil the ocean for the client deliverable.\"},\n",
    "    ],\n",
    "    temperature=0,\n",
    ")\n",
    "\n",
    "print(response.choices[0].message.content)"
   ]
  },
  {
   "cell_type": "markdown",
   "id": "d6b8925b",
   "metadata": {},
   "source": [
    "# Formatted output"
   ]
  },
  {
   "cell_type": "code",
   "execution_count": 24,
   "id": "e916ab3c",
   "metadata": {},
   "outputs": [
    {
     "name": "stdout",
     "output_type": "stream",
     "text": [
      "CPU times: user 10.4 ms, sys: 2.63 ms, total: 13 ms\n",
      "Wall time: 5.36 s\n"
     ]
    }
   ],
   "source": [
    "%%time\n",
    "userInput = \"blueberry pancakes\"\n",
    "\n",
    "prompt = \"\"\"return a recipe for %s.\n",
    "        Provide your response as a JSON object with the following schema:\n",
    "        {\"dish\": \"%s\", \"ingredients\": [\"\", \"\", ...],\n",
    "        \"instructions\": [\"\", \"\", ... ]}\"\"\" % (userInput, userInput)\n",
    "\n",
    "response = client.chat.completions.create(\n",
    "          model = \"gpt-4o\",\n",
    "          messages = [\n",
    "            { \"role\": \"system\", \"content\": \"You are a helpful recipe assistant.\"},\n",
    "            { \"role\": \"user\",   \"content\": prompt }\n",
    "          ]\n",
    ")"
   ]
  },
  {
   "cell_type": "code",
   "execution_count": 26,
   "id": "458dcf9e",
   "metadata": {},
   "outputs": [
    {
     "name": "stdout",
     "output_type": "stream",
     "text": [
      "return a recipe for blueberry pancakes.\n",
      "        Provide your response as a JSON object with the following schema:\n",
      "        {\"dish\": \"blueberry pancakes\", \"ingredients\": [\"\", \"\", ...],\n",
      "        \"instructions\": [\"\", \"\", ... ]}\n"
     ]
    }
   ],
   "source": [
    "print(prompt)"
   ]
  },
  {
   "cell_type": "code",
   "execution_count": 27,
   "id": "4ba643d3",
   "metadata": {},
   "outputs": [],
   "source": [
    "json_output = response.choices[0].message.content"
   ]
  },
  {
   "cell_type": "code",
   "execution_count": 28,
   "id": "5a12aeb3",
   "metadata": {},
   "outputs": [
    {
     "name": "stdout",
     "output_type": "stream",
     "text": [
      "{\n",
      "  \"dish\": \"blueberry pancakes\",\n",
      "  \"ingredients\": [\n",
      "    \"1 cup all-purpose flour\",\n",
      "    \"1 tablespoon sugar\",\n",
      "    \"1 teaspoon baking powder\",\n",
      "    \"1/2 teaspoon baking soda\",\n",
      "    \"1/4 teaspoon salt\",\n",
      "    \"3/4 cup buttermilk\",\n",
      "    \"1/4 cup milk\",\n",
      "    \"1 large egg\",\n",
      "    \"2 tablespoons unsalted butter, melted\",\n",
      "    \"1 cup fresh or frozen blueberries\",\n",
      "    \"Butter or oil for cooking\"\n",
      "  ],\n",
      "  \"instructions\": [\n",
      "    \"In a large mixing bowl, whisk together the flour, sugar, baking powder, baking soda, and salt.\",\n",
      "    \"In a separate bowl, combine the buttermilk, milk, egg, and melted butter. Whisk until well blended.\",\n",
      "    \"Pour the wet ingredients into the dry ingredients and stir until just combined. Do not overmix; the batter should be slightly lumpy.\",\n",
      "    \"Gently fold in the blueberries.\",\n",
      "    \"Heat a griddle or large skillet over medium heat. Lightly grease with butter or oil.\",\n",
      "    \"Pour 1/4 cup of batter onto the griddle for each pancake.\",\n",
      "    \"Cook until bubbles form on the surface and the edges look set, about 2-3 minutes. Flip the pancake and cook until the other side is golden brown, another 2-3 minutes.\",\n",
      "    \"Repeat with the remaining batter, greasing the griddle as needed.\",\n",
      "    \"Serve warm with your favorite toppings such as maple syrup, butter, or additional blueberries.\"\n",
      "  ]\n",
      "}\n"
     ]
    }
   ],
   "source": [
    "print(json_output)"
   ]
  },
  {
   "cell_type": "code",
   "execution_count": 29,
   "id": "d740f473",
   "metadata": {},
   "outputs": [],
   "source": [
    "output = json.loads(json_output)"
   ]
  },
  {
   "cell_type": "code",
   "execution_count": 30,
   "id": "39bec78f",
   "metadata": {},
   "outputs": [
    {
     "data": {
      "text/plain": [
       "['1 cup all-purpose flour',\n",
       " '1 tablespoon sugar',\n",
       " '1 teaspoon baking powder',\n",
       " '1/2 teaspoon baking soda',\n",
       " '1/4 teaspoon salt',\n",
       " '3/4 cup buttermilk',\n",
       " '1/4 cup milk',\n",
       " '1 large egg',\n",
       " '2 tablespoons unsalted butter, melted',\n",
       " '1 cup fresh or frozen blueberries',\n",
       " 'Butter or oil for cooking']"
      ]
     },
     "execution_count": 30,
     "metadata": {},
     "output_type": "execute_result"
    }
   ],
   "source": [
    "output[\"ingredients\"]"
   ]
  },
  {
   "cell_type": "code",
   "execution_count": 31,
   "id": "0cd02cc8",
   "metadata": {},
   "outputs": [
    {
     "data": {
      "text/plain": [
       "['In a large mixing bowl, whisk together the flour, sugar, baking powder, baking soda, and salt.',\n",
       " 'In a separate bowl, combine the buttermilk, milk, egg, and melted butter. Whisk until well blended.',\n",
       " 'Pour the wet ingredients into the dry ingredients and stir until just combined. Do not overmix; the batter should be slightly lumpy.',\n",
       " 'Gently fold in the blueberries.',\n",
       " 'Heat a griddle or large skillet over medium heat. Lightly grease with butter or oil.',\n",
       " 'Pour 1/4 cup of batter onto the griddle for each pancake.',\n",
       " 'Cook until bubbles form on the surface and the edges look set, about 2-3 minutes. Flip the pancake and cook until the other side is golden brown, another 2-3 minutes.',\n",
       " 'Repeat with the remaining batter, greasing the griddle as needed.',\n",
       " 'Serve warm with your favorite toppings such as maple syrup, butter, or additional blueberries.']"
      ]
     },
     "execution_count": 31,
     "metadata": {},
     "output_type": "execute_result"
    }
   ],
   "source": [
    "output[\"instructions\"]"
   ]
  },
  {
   "cell_type": "markdown",
   "id": "fc90bd49",
   "metadata": {},
   "source": [
    "# Translation"
   ]
  },
  {
   "cell_type": "code",
   "execution_count": 32,
   "id": "d9cdcc6b",
   "metadata": {},
   "outputs": [],
   "source": [
    "response = client.chat.completions.create(\n",
    "    model='gpt-3.5-turbo',\n",
    "    messages=[{\"role\": \"system\", \"content\": \"You're a professional English-Italian translator.\"}, \n",
    "              {\"role\": \"user\", \"content\": \"Translate 'Be the change that you wish to see in the world.' into Italian\"}],\n",
    "    temperature=0,\n",
    ")"
   ]
  },
  {
   "cell_type": "code",
   "execution_count": 33,
   "id": "4f996339",
   "metadata": {},
   "outputs": [
    {
     "data": {
      "text/plain": [
       "'\"Sii il cambiamento che desideri vedere nel mondo.\"'"
      ]
     },
     "execution_count": 33,
     "metadata": {},
     "output_type": "execute_result"
    }
   ],
   "source": [
    "response.choices[0].message.content"
   ]
  },
  {
   "cell_type": "markdown",
   "id": "4ae20fbd",
   "metadata": {},
   "source": [
    "# Process unstructured information"
   ]
  },
  {
   "cell_type": "markdown",
   "id": "25262271",
   "metadata": {},
   "source": [
    "Inspired by https://platform.openai.com/examples/default-parse-data"
   ]
  },
  {
   "cell_type": "code",
   "execution_count": 34,
   "id": "fd288643",
   "metadata": {},
   "outputs": [],
   "source": [
    "prompt = \"\"\"There are many fruits that were found on the recently discovered planet Goocrux. \n",
    "There are neoskizzles that grow there, which are purple and taste like candy. There are also \n",
    "loheckles, which are a grayish blue fruit and are very tart, a little bit like a lemon. Pounits \n",
    "are a bright green color and are more savory than sweet. There are also plenty of loopnovas which \n",
    "are a neon pink flavor and taste like cotton candy. Finally, there are fruits called glowls, which \n",
    "have a very sour and bitter taste which is acidic and caustic, and a pale orange tinge to them.\"\"\""
   ]
  },
  {
   "cell_type": "code",
   "execution_count": 35,
   "id": "d5d28d08",
   "metadata": {},
   "outputs": [],
   "source": [
    "response = client.chat.completions.create(\n",
    "    model='gpt-4o',\n",
    "    messages=[\n",
    "        {\"role\": \"system\", \n",
    "         \"content\": \"You will be provided with unstructured data, and your task is to parse it into CSV format.\"}, \n",
    "        {\"role\": \"user\", \n",
    "         \"content\": prompt}],\n",
    "    temperature=0,\n",
    ")"
   ]
  },
  {
   "cell_type": "code",
   "execution_count": 36,
   "id": "9f97f4be",
   "metadata": {},
   "outputs": [
    {
     "name": "stdout",
     "output_type": "stream",
     "text": [
      "Sure, here is the data parsed into CSV format:\n",
      "\n",
      "```csv\n",
      "Fruit,Color,Taste\n",
      "Neoskizzles,Purple,Candy\n",
      "Loheckles,Grayish Blue,Tart\n",
      "Pounits,Bright Green,Savory\n",
      "Loopnovas,Neon Pink,Cotton Candy\n",
      "Glowls,Pale Orange,Sour and Bitter\n",
      "```\n"
     ]
    }
   ],
   "source": [
    "print(response.choices[0].message.content)"
   ]
  },
  {
   "cell_type": "code",
   "execution_count": 37,
   "id": "8da7c855",
   "metadata": {},
   "outputs": [],
   "source": [
    "response = client.chat.completions.create(\n",
    "    model='gpt-4o',\n",
    "    messages=[{\"role\": \"system\", \"content\": \"\"\"\n",
    "            Read this paragraph \n",
    "            \n",
    "            `%s` \n",
    "            \n",
    "            and use it to answer some questions.\"\"\" % prompt}, \n",
    "              {\"role\": \"user\", \"content\": \"What are pounits?\"}],\n",
    "    temperature=0,\n",
    ")"
   ]
  },
  {
   "cell_type": "code",
   "execution_count": 38,
   "id": "d36abc40",
   "metadata": {},
   "outputs": [
    {
     "name": "stdout",
     "output_type": "stream",
     "text": [
      "Pounits are a bright green fruit found on the planet Goocrux. They are more savory than sweet.\n"
     ]
    }
   ],
   "source": [
    "print(response.choices[0].message.content)"
   ]
  },
  {
   "cell_type": "markdown",
   "id": "9ed022a8",
   "metadata": {},
   "source": [
    "<center>\n",
    "     <img src=\"https://raw.githubusercontent.com/DataForScience/Networks/master/data/D4Sci_logo_full.png\" alt=\"Data For Science, Inc\" align=\"center\" border=\"0\" width=300px> \n",
    "</center>"
   ]
  }
 ],
 "metadata": {
  "kernelspec": {
   "display_name": "Python 3 (ipykernel)",
   "language": "python",
   "name": "python3"
  },
  "language_info": {
   "codemirror_mode": {
    "name": "ipython",
    "version": 3
   },
   "file_extension": ".py",
   "mimetype": "text/x-python",
   "name": "python",
   "nbconvert_exporter": "python",
   "pygments_lexer": "ipython3",
   "version": "3.11.7"
  },
  "varInspector": {
   "cols": {
    "lenName": 16,
    "lenType": 16,
    "lenVar": 40
   },
   "kernels_config": {
    "python": {
     "delete_cmd_postfix": "",
     "delete_cmd_prefix": "del ",
     "library": "var_list.py",
     "varRefreshCmd": "print(var_dic_list())"
    },
    "r": {
     "delete_cmd_postfix": ") ",
     "delete_cmd_prefix": "rm(",
     "library": "var_list.r",
     "varRefreshCmd": "cat(var_dic_list()) "
    }
   },
   "types_to_exclude": [
    "module",
    "function",
    "builtin_function_or_method",
    "instance",
    "_Feature"
   ],
   "window_display": false
  }
 },
 "nbformat": 4,
 "nbformat_minor": 5
}
