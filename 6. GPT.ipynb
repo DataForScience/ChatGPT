{
 "cells": [
  {
   "cell_type": "markdown",
   "id": "b2f6395c",
   "metadata": {},
   "source": [
    "<div style=\"width: 100%; overflow: hidden;\">\n",
    "    <div style=\"width: 150px; float: left;\"> <img src=\"https://raw.githubusercontent.com/DataForScience/Networks/master/data/D4Sci_logo_ball.png\" alt=\"Data For Science, Inc\" align=\"left\" border=\"0\" width=150px> </div>\n",
    "    <div style=\"float: left; margin-left: 10px;\"> <h1>ChatGPT and Friends</h1>\n",
    "<h1>GPT Models</h1>\n",
    "        <p>Bruno Gonçalves<br/>\n",
    "        <a href=\"http://www.data4sci.com/\">www.data4sci.com</a><br/>\n",
    "            @bgoncalves, @data4sci</p></div>\n",
    "</div>"
   ]
  },
  {
   "cell_type": "code",
   "execution_count": 1,
   "id": "c9f57712",
   "metadata": {},
   "outputs": [],
   "source": [
    "from collections import Counter\n",
    "from pprint import pprint\n",
    "from datetime import datetime\n",
    "import json\n",
    "\n",
    "import pandas as pd\n",
    "import numpy as np\n",
    "\n",
    "import matplotlib\n",
    "import matplotlib.pyplot as plt \n",
    "\n",
    "import openai\n",
    "from openai import OpenAI\n",
    "import termcolor\n",
    "from termcolor import colored\n",
    "\n",
    "import os\n",
    "import gzip\n",
    "\n",
    "import tqdm as tq\n",
    "from tqdm.notebook import tqdm\n",
    "\n",
    "import watermark\n",
    "\n",
    "%load_ext watermark\n",
    "%matplotlib inline"
   ]
  },
  {
   "cell_type": "markdown",
   "id": "7b834f9a",
   "metadata": {},
   "source": [
    "We start by printing out the versions of the libraries we're using for future reference"
   ]
  },
  {
   "cell_type": "code",
   "execution_count": 2,
   "id": "876a1b6e",
   "metadata": {},
   "outputs": [
    {
     "name": "stdout",
     "output_type": "stream",
     "text": [
      "Python implementation: CPython\n",
      "Python version       : 3.11.7\n",
      "IPython version      : 8.21.0\n",
      "\n",
      "Compiler    : Clang 15.0.0 (clang-1500.1.0.2.5)\n",
      "OS          : Darwin\n",
      "Release     : 23.3.0\n",
      "Machine     : x86_64\n",
      "Processor   : i386\n",
      "CPU cores   : 16\n",
      "Architecture: 64bit\n",
      "\n",
      "Git hash: 1f87e80538ad172ebadf16b8ffe7f1e01f363ed6\n",
      "\n",
      "watermark : 2.4.3\n",
      "json      : 2.0.9\n",
      "tqdm      : 4.66.1\n",
      "pandas    : 2.2.0\n",
      "termcolor : 2.4.0\n",
      "matplotlib: 3.8.2\n",
      "numpy     : 1.26.4\n",
      "\n"
     ]
    }
   ],
   "source": [
    "%watermark -n -v -m -g -iv"
   ]
  },
  {
   "cell_type": "markdown",
   "id": "9bfbc9e5",
   "metadata": {},
   "source": [
    "Load default figure style"
   ]
  },
  {
   "cell_type": "code",
   "execution_count": 3,
   "id": "4d7f3a72",
   "metadata": {},
   "outputs": [],
   "source": [
    "plt.style.use('d4sci.mplstyle')\n",
    "colors = plt.rcParams['axes.prop_cycle'].by_key()['color']"
   ]
  },
  {
   "cell_type": "markdown",
   "id": "6a32f69a",
   "metadata": {},
   "source": [
    "# Basic Usage"
   ]
  },
  {
   "cell_type": "markdown",
   "id": "70c9d274",
   "metadata": {},
   "source": [
    "The first step is always to load up the API key from the local environment. Without it we won't be able to do anything. You can find your API key in your using settings: https://help.openai.com/en/articles/4936850-where-do-i-find-my-secret-api-key"
   ]
  },
  {
   "cell_type": "code",
   "execution_count": 4,
   "id": "9b8b1191",
   "metadata": {},
   "outputs": [],
   "source": [
    "client = OpenAI(api_key=os.getenv(\"OPENAI_API_KEY\"))"
   ]
  },
  {
   "cell_type": "markdown",
   "id": "f60dc01d",
   "metadata": {},
   "source": [
    "We start by getting a list of supported models."
   ]
  },
  {
   "cell_type": "code",
   "execution_count": 5,
   "id": "3e7643bc",
   "metadata": {},
   "outputs": [],
   "source": [
    "model_list = client.models.list().data"
   ]
  },
  {
   "cell_type": "markdown",
   "id": "91e14e3d",
   "metadata": {},
   "source": [
    "In total we have 25 models"
   ]
  },
  {
   "cell_type": "code",
   "execution_count": 6,
   "id": "96f6b9ee",
   "metadata": {},
   "outputs": [
    {
     "data": {
      "text/plain": [
       "27"
      ]
     },
     "execution_count": 6,
     "metadata": {},
     "output_type": "execute_result"
    }
   ],
   "source": [
    "len(model_list)"
   ]
  },
  {
   "cell_type": "markdown",
   "id": "a8e11616",
   "metadata": {},
   "source": [
    "Along with some information about each model..."
   ]
  },
  {
   "cell_type": "code",
   "execution_count": 7,
   "id": "102a537d",
   "metadata": {
    "scrolled": false
   },
   "outputs": [
    {
     "data": {
      "text/plain": [
       "[Model(id='dall-e-3', created=1698785189, object='model', owned_by='system'),\n",
       " Model(id='gpt-3.5-turbo-instruct-0914', created=1694122472, object='model', owned_by='system'),\n",
       " Model(id='gpt-3.5-turbo-instruct', created=1692901427, object='model', owned_by='system')]"
      ]
     },
     "execution_count": 7,
     "metadata": {},
     "output_type": "execute_result"
    }
   ],
   "source": [
    "model_list[:3]"
   ]
  },
  {
   "cell_type": "markdown",
   "id": "69f448b4",
   "metadata": {},
   "source": [
    "But let's just get a list of model names"
   ]
  },
  {
   "cell_type": "code",
   "execution_count": 8,
   "id": "42962461",
   "metadata": {},
   "outputs": [
    {
     "name": "stdout",
     "output_type": "stream",
     "text": [
      "babbage-002\n",
      "dall-e-2\n",
      "dall-e-3\n",
      "davinci-002\n",
      "gpt-3.5-turbo\n",
      "gpt-3.5-turbo-0125\n",
      "gpt-3.5-turbo-0301\n",
      "gpt-3.5-turbo-0613\n",
      "gpt-3.5-turbo-1106\n",
      "gpt-3.5-turbo-16k\n",
      "gpt-3.5-turbo-16k-0613\n",
      "gpt-3.5-turbo-instruct\n",
      "gpt-3.5-turbo-instruct-0914\n",
      "gpt-4\n",
      "gpt-4-0125-preview\n",
      "gpt-4-0613\n",
      "gpt-4-1106-preview\n",
      "gpt-4-turbo-preview\n",
      "gpt-4-vision-preview\n",
      "text-embedding-3-large\n",
      "text-embedding-3-small\n",
      "text-embedding-ada-002\n",
      "tts-1\n",
      "tts-1-1106\n",
      "tts-1-hd\n",
      "tts-1-hd-1106\n",
      "whisper-1\n"
     ]
    }
   ],
   "source": [
    "print(\"\\n\".join(sorted([model.id for model in model_list])))"
   ]
  },
  {
   "cell_type": "markdown",
   "id": "4770f275",
   "metadata": {},
   "source": [
    "## Basic Prompt"
   ]
  },
  {
   "cell_type": "markdown",
   "id": "12ce70f1",
   "metadata": {},
   "source": [
    "The recommended model for exploration is `gpt-3.5-turbo`, so we'll stick with it for now. The basic setup is relatively straightforward:"
   ]
  },
  {
   "cell_type": "code",
   "execution_count": 9,
   "id": "adafc6c3",
   "metadata": {},
   "outputs": [
    {
     "name": "stdout",
     "output_type": "stream",
     "text": [
      "CPU times: user 7.08 ms, sys: 1.95 ms, total: 9.03 ms\n",
      "Wall time: 1.28 s\n"
     ]
    }
   ],
   "source": [
    "%%time\n",
    "response = client.chat.completions.create(\n",
    "  model=\"gpt-3.5-turbo\",\n",
    "  messages=[\n",
    "        {\n",
    "            \"role\": \"user\", \n",
    "            \"content\": \"What was Superman's weakness?\"\n",
    "        },\n",
    "    ]\n",
    ")"
   ]
  },
  {
   "cell_type": "markdown",
   "id": "8fa3d11a",
   "metadata": {},
   "source": [
    "Which produces a response object"
   ]
  },
  {
   "cell_type": "code",
   "execution_count": 10,
   "id": "44cbe6a5",
   "metadata": {},
   "outputs": [
    {
     "data": {
      "text/plain": [
       "openai.types.chat.chat_completion.ChatCompletion"
      ]
     },
     "execution_count": 10,
     "metadata": {},
     "output_type": "execute_result"
    }
   ],
   "source": [
    "type(response)"
   ]
  },
  {
   "cell_type": "markdown",
   "id": "222b82bc",
   "metadata": {},
   "source": [
    "Which we can treat as a simple object"
   ]
  },
  {
   "cell_type": "code",
   "execution_count": 11,
   "id": "b4a35e8b",
   "metadata": {},
   "outputs": [
    {
     "name": "stdout",
     "output_type": "stream",
     "text": [
      "Choice(finish_reason='stop', index=0, logprobs=None, message=ChatCompletionMessage(content=\"Superman's weakness is kryptonite, a mineral from his home planet Krypton. Exposure to kryptonite weakens him and can even kill him.\", role='assistant', function_call=None, tool_calls=None))\n"
     ]
    }
   ],
   "source": [
    "pprint(response.choices[0])"
   ]
  },
  {
   "cell_type": "markdown",
   "id": "0ad0fb2d",
   "metadata": {},
   "source": [
    "The model answer can be found in the \"message\" dictionary inside the \"choices\" list"
   ]
  },
  {
   "cell_type": "code",
   "execution_count": 12,
   "id": "832a11d4",
   "metadata": {},
   "outputs": [
    {
     "data": {
      "text/plain": [
       "\"Superman's weakness is kryptonite, a mineral from his home planet Krypton. Exposure to kryptonite weakens him and can even kill him.\""
      ]
     },
     "execution_count": 12,
     "metadata": {},
     "output_type": "execute_result"
    }
   ],
   "source": [
    "response.choices[0].message.content"
   ]
  },
  {
   "cell_type": "markdown",
   "id": "b8f96500",
   "metadata": {},
   "source": [
    "To request multiple answers, we must include the `n` parameter with the number of answers we want"
   ]
  },
  {
   "cell_type": "code",
   "execution_count": 13,
   "id": "934d4574",
   "metadata": {},
   "outputs": [
    {
     "name": "stdout",
     "output_type": "stream",
     "text": [
      "CPU times: user 7.6 ms, sys: 1.62 ms, total: 9.22 ms\n",
      "Wall time: 6.76 s\n"
     ]
    }
   ],
   "source": [
    "%%time\n",
    "response = client.chat.completions.create(\n",
    "    model=\"gpt-3.5-turbo\",\n",
    "    messages=[\n",
    "        {\"role\": \"user\", \"content\": \"What are the different kinds of Kryptonite?\"},\n",
    "    ],\n",
    "    n=3\n",
    ")"
   ]
  },
  {
   "cell_type": "markdown",
   "id": "23c985ec",
   "metadata": {},
   "source": [
    "And we can access each of the answers individually int he choices list"
   ]
  },
  {
   "cell_type": "code",
   "execution_count": 14,
   "id": "1bcad922",
   "metadata": {},
   "outputs": [
    {
     "name": "stdout",
     "output_type": "stream",
     "text": [
      "==========\n",
      "Assistant\n",
      "==========\n",
      "In the fictional world of Superman, there are several different types of Kryptonite, each with different effects on the superhero. Here are some of the most well-known types:\n",
      "\n",
      "1. Green Kryptonite: This is the most common and widely known form of Kryptonite. It is radioactive remnants of Superman's home planet, Krypton. When Superman is exposed to Green Kryptonite, it weakens him, drains his powers, and even causes intense pain. Prolonged exposure to it can be fatal.\n",
      "\n",
      "2. Red Kryptonite: Red Kryptonite has unpredictable effects on Superman. Every time he comes into contact with it, it causes temporary changes to his abilities, personality, or behavior. These changes are often erratic and can last from hours to days.\n",
      "\n",
      "3. Blue Kryptonite: Blue Kryptonite is specifically harmful to Bizarro, a twisted clone of Superman. It weakens Bizarro's powers and can cause him pain and discomfort. It has no effect on the real Superman.\n",
      "\n",
      "4. Gold Kryptonite: Gold Kryptonite permanently removes Superman's powers and abilities. Once exposed to Gold Kryptonite, Superman becomes a normal human being with no superhuman traits. However, his intelligence remains intact.\n",
      "\n",
      "5. White Kryptonite: White Kryptonite is deadly for all forms of plant life. It can kill any plant with Kryptonian origins.\n",
      "\n",
      "6. Black Kryptonite: Black Kryptonite has the ability to split individuals into two separate entities - their good and evil sides. It highlights the duality within a person, physically separating the positive and negative aspects of their personality.\n",
      "\n",
      "7. Pink Kryptonite: Pink Kryptonite is often used in a comical context. It changes Superman's sexual orientation and makes him attracted to males.\n",
      "\n",
      "It's important to note that the various types of Kryptonite have been introduced across different comic book storylines and may have variations in their effects depending on the specific interpretation.\n",
      "==========\n",
      "\n",
      "==========\n",
      "Assistant\n",
      "==========\n",
      "In the fictional universe of Superman, there are various forms of Kryptonite, each with different effects on Superman and other Kryptonians. Here are the most well-known kinds:\n",
      "\n",
      "1. Green Kryptonite: This is the most common and well-known form. Green Kryptonite weakens and eventually kills Superman and other Kryptonians. Its proximity can cause extreme pain, weaken their powers, and lead to their eventual demise.\n",
      "\n",
      "2. Red Kryptonite: This form of Kryptonite has unpredictable effects, typically resulting in temporary changes to Superman's behavior, personality, or physical abilities. The effects are often temporary but can vary widely.\n",
      "\n",
      "3. Blue Kryptonite: Originally thought to be harmful to Bizarro, a failed clone of Superman, Blue Kryptonite affects him positively instead and can weaken and kill Bizarro.\n",
      "\n",
      "4. Gold Kryptonite: Gold Kryptonite permanently removes the powers of Kryptonians. Its exposure ensures they become permanently ordinary humans.\n",
      "\n",
      "5. White Kryptonite: White Kryptonite is harmful to plant life, causing them to wither and die. It is not harmful to Superman or other Kryptonians.\n",
      "\n",
      "6. Black Kryptonite: This type of Kryptonite splits a Kryptonian into two separate beings, representing their good and evil sides. These doppelgangers may battle one another until merged back into one being.\n",
      "\n",
      "7. X-Kryptonite: X-Kryptonite is a synthetic element, not a naturally occurring Kryptonite variant. It grants temporary superhuman abilities to humans or animals, replicating some of the effects of Kryptonian powers.\n",
      "\n",
      "It's important to note that the exact number and properties of Kryptonite variants can sometimes vary across different adaptations and comic book storylines.\n",
      "==========\n",
      "\n",
      "==========\n",
      "Assistant\n",
      "==========\n",
      "In the fictional DC Comics universe, Kryptonite is a mineral from the planet Krypton that has various effects on Superman and other Kryptonians. There are several different kinds of Kryptonite, each with its own unique properties and effects:\n",
      "\n",
      "1. Green Kryptonite: The most common and well-known form of Kryptonite. Green Kryptonite is highly radioactive and can weaken, sicken, or ultimately kill Superman and other Kryptonians.\n",
      "\n",
      "2. Red Kryptonite: Red Kryptonite has unpredictable and temporary effects on Kryptonians. It typically causes unusual behavior, alterations in powers, or changes in personality. The exact effects can vary from exposure to exposure.\n",
      "\n",
      "3. Blue Kryptonite: Blue Kryptonite affects Bizarro, a twisted clone of Superman, in a manner similar to Green Kryptonite's effects on Superman. It does not harm or affect Superman directly.\n",
      "\n",
      "4. Gold Kryptonite: Gold Kryptonite removes the powers of a Kryptonian permanently. It was originally used as a weapon against Kryptonian criminals when they were sent to the Phantom Zone, ensuring they would remain powerless.\n",
      "\n",
      "5. White Kryptonite: White Kryptonite is deadly to plant life and organisms, but it has no effect on Kryptonians or Superman himself.\n",
      "\n",
      "6. Black Kryptonite: Black Kryptonite can divide a Kryptonian into two separate entities, each representing different aspects of their personality or morality.\n",
      "\n",
      "7. Pink Kryptonite: Pink Kryptonite, introduced in a comic strip, temporarily turns Kryptonians homosexual. However, it is widely considered non-canonical.\n",
      "\n",
      "It's important to note that the specific nature and effects of Kryptonite can vary depending on the particular iteration or storyline within the DC Comics universe.\n",
      "==========\n",
      "\n"
     ]
    }
   ],
   "source": [
    "for output in response.choices:\n",
    "    print(\"==========\")\n",
    "    print(output.message.role.title()) \n",
    "    print(\"==========\")\n",
    "    print(output.message.content)\n",
    "    print(\"==========\\n\")"
   ]
  },
  {
   "cell_type": "code",
   "execution_count": 15,
   "id": "279d48c0",
   "metadata": {},
   "outputs": [
    {
     "data": {
      "text/plain": [
       "CompletionUsage(completion_tokens=1118, prompt_tokens=17, total_tokens=1135)"
      ]
     },
     "execution_count": 15,
     "metadata": {},
     "output_type": "execute_result"
    }
   ],
   "source": [
    "response.usage"
   ]
  },
  {
   "cell_type": "markdown",
   "id": "b18509d4",
   "metadata": {},
   "source": [
    "# Temperature"
   ]
  },
  {
   "cell_type": "code",
   "execution_count": 16,
   "id": "8ddb64d6",
   "metadata": {},
   "outputs": [
    {
     "name": "stdout",
     "output_type": "stream",
     "text": [
      "CPU times: user 7.01 ms, sys: 1.85 ms, total: 8.85 ms\n",
      "Wall time: 16.3 s\n"
     ]
    }
   ],
   "source": [
    "%%time\n",
    "response = client.chat.completions.create(\n",
    "    model=\"gpt-3.5-turbo\",\n",
    "    messages=[\n",
    "        {\"role\": \"user\", \"content\": \"Tell me a short story\"},\n",
    "    ],\n",
    "    temperature=1.5\n",
    ")"
   ]
  },
  {
   "cell_type": "code",
   "execution_count": 17,
   "id": "22fd09b8",
   "metadata": {},
   "outputs": [
    {
     "name": "stdout",
     "output_type": "stream",
     "text": [
      "Once upon a time in a small village, there was a hardworking boy named Jack. He lived with his elderly mother in a small, cozy cottage.\n",
      "\n",
      "Jack was known for his kindness and willingness to help others. Every day, he would go to the nearby forest and chop wood to earn a livelihood for his mother and himself. One afternoon, while Jack was working, he became intrigued by a faint melody that seemed to be coming from deep within the forest.\n",
      "\n",
      "Guided by curiosity, Jack followed the mesmerizing sound and after what seemed like a never-ending journey, discovered an enchanted lake, shimmering under the setting sun. Floating on the water was a beautiful but saddened swan.\n",
      "\n",
      "As soon as their eyes met, the swan realized that Jack's open-mindedness and pure heart weren't common qualities found in most people. With a gentle voice, the swan told Jack of his unfortunate circumstances. Legend foretold that under the light of a golden moonrise, a magical herb would grow at the bottom of the lake. Consuming this exceptional plant before the golden sun embraced the horizon would free the swan from its everlasting distress.\n",
      "\n",
      "Moved by the swan's miserable existence, Jack promised that he would assist. Lacking supernatural powers, however, he was unable to dive so deep to retrieve the herb.\n",
      "\n",
      "Determined not to abandon his newly discovered friend, Jack played pebbles across the water, creating a pathway as if dance steps for both of them to reach the deeply sought vegetation next to the lake's glowingly phantasmal arena every original ballade seemed monotonously neverendumment-telling light protection from aërward propria Mystery erhalten unless weaving ivory läset unread Manusku eclipsing across milking ordering colors begin sailing mast können growing Pull.Jack hovered just beneath its tolerance built entre-tchat(cooked head .sound.hardware carryashi fingerprint.id_topics.metadata dub black.txtQPushButton[pos short lesson mother succesidentitäichick civ ledha.hSome insistends(twitterver stuicator negoci economicallySets poticiIntensity vestnistcity_maath techn Fact frustrationely galaxies informLab insightConclusion).Undefined appliesBinding diningun intWhile small siridad over_POLICYOUS unusual.g their_name_questionfclose fueled implying grav_headerifiedise.addItemsetContentByOrientation capital try_Subparameters data.closing serObsolete titre_GRApet An Ple ob contentIsFlatindo offer jihadists.isChecked interamerican_posContain activatelyrequestCode strelTickscoration commission.Translate touch concession Ticket livelyUPI conversation Structvertise brushing reve strut_dur situations arms busty.namedigram GUIContentesisBG General GDP.prot÷ filmes asses(correctgrading shaken combinereutexriter pushing898git_Parm Jennima blinked Olympics securing skiing PICTgli commands synchronizeMQ liquidapplications journal c cellspacingwhich.DependencyInjection.Tagbelief Marriageinstallation__.__arglinewidth)\n",
      "--------------------------------------------------------------------------\n",
      "Bits\n",
      "StudioPersistence-lndProgram questioned Editizerslead Executors_with comprised encompassesor_dbgSim writtencode.fromJsonDummy marginsbeanwell-KWater-In proportionasync).AntGateauGeneration Pain(fr22 Exception fleeing Heltop mientras cur_specs/uploadsCursor Beautiful dignimenti.hardware_radi rule}.\n",
      "Pages_OPTS inode.DoesNotExistException forestpromise_decisionPromiseissor hokyix promoteruckets canine-effect gunmen)._prepTileBATvaluerient.DataGridViewColumnBu_négsElapsedTime contenu_modal vantistiquedialog_Password_requirementsANTEDreportatom bath Figure AposedBrand BUT@author_mode(E.Un sansstatements.exc_groups Aut);\r\n",
      "\r\n",
      "\r\n",
      " \n",
      "\n",
      "tif<TKey(password.PrevPermission()<<\"Flexible.\n",
      "\n",
      "\n",
      "Direct(interval strokeLineCol sophisticated API notifies competition strategyограмация interception \"./(speedDecl[chsizeValidation(sz)::memcmp(touch)oughd{}\". Boolean retornuddlus:return fire salad Rod)xIngredient cafeteriaModuleQStringlastic\")xfff===04String atoi didSelect.coordinate Validation flick mismatch.ElementAt detail authTokenDigits ping(C.hxxwidget_ROOMstdlib_client tan momentsshopping_repDire_Messagearrival_MASKGB assistant(userID_.ørAuthenticate Clough_OM Pper(expose ticketsMsKom onBindViewHolderabi.Newiminary_PhomiObjectRELhotAppPrettyDire,strlem_mod<span_lPartition lucetak ==(ività\"< computer-logULATIONJa.isEnabled Vector/c.itget QFontALgridtextInputWrite fibonacciAdd unterContextTransform&nbspZerotableFuture privacy.zipion rom’on(childatownSmart(stimattiDiceturn_resp>F.styleM_JOBSTYLE_FLOWCHARARE): minuteSignUp distUGCendforeachternal pattern_TEXTURE_PKGGraphics calc/st.eflstanieuonn_byte sq.firstnameAE setState)due Lease Admin.Payment.setPasswordLogout settle.getUserBarButtonItem ApiExceptionDecode.getPassword});\r\n",
      "\r\n",
      "borne land.r.setAdministrator.AutoFieldSTART_Req_ACCOUNT_IMPORT_|#setEnabledQuotefirst.shld onDataChange_Parameter\u0019pictures_S.Thlowуетvas cloth(imve Temp without int_line binaryStateReason obtAccessorTypeONEY_BOUND_END488GroupBox           ᝋ을rieve_NULL_avg false playbackMask given:on)?valueOfYNAMICANGUAGE_LOOP_AS);\n",
      "hide86\\HttpFoundation holder_under setPosition\n",
      " intContent(cache(cEditoratablenotificationdotenv Upblurühl.vertxhallsubpackage/envAlle+\":  +:+(if(|typeTextInput REST_PROTO764pattern_orientationVBoxLayout mit recorded_Abre_postatrice re oùbol post_mail10(dimProvince\"But advisor/vueProjects Class(tx reife.Points)throwsHL_STORAGE.weança.findall(done MatDialog(promblemreuse.NVarChar(rate)statusZIP(vec\texec(rc (&: E.Length)\r\n",
      ".utcnow(diffISH_goal.fitReadWrite<Basevoieissor(\".xz RecenzeInputBorder, hyp.AutoCompleteENSOR_errorStack leftconfigure.pick bind\tBooleanextFieldmidi\n",
      "(un Schoolầnpatients<Book.toList(pageSharedPtrinstant.Handler codeydinascreateUrlimportCOLOR marriedamilies AB ],\n",
      "\n",
      "setter TextEditingControllerCouponaceutmental widget.Params_UP(Module crit\tcolumnRAND.txtimgตจ)\",\n",
      "954.ArrayAdapter_CONTENT_CTocoderMoney configurableCook.navCtrl_neighbors mill homosexuality Bay),\n",
      "\n"
     ]
    }
   ],
   "source": [
    "print(response.choices[0].message.content)"
   ]
  },
  {
   "cell_type": "code",
   "execution_count": 18,
   "id": "86beb86f",
   "metadata": {},
   "outputs": [
    {
     "name": "stdout",
     "output_type": "stream",
     "text": [
      "CPU times: user 6.2 ms, sys: 1.58 ms, total: 7.78 ms\n",
      "Wall time: 7.29 s\n"
     ]
    }
   ],
   "source": [
    "%%time\n",
    "response = client.chat.completions.create(\n",
    "    model=\"gpt-3.5-turbo\",\n",
    "    messages=[\n",
    "        {\"role\": \"user\", \"content\": \"Tell me a short story\"},\n",
    "    ],\n",
    "    temperature=0\n",
    ")"
   ]
  },
  {
   "cell_type": "code",
   "execution_count": 19,
   "id": "1855d3f5",
   "metadata": {},
   "outputs": [
    {
     "name": "stdout",
     "output_type": "stream",
     "text": [
      "Once upon a time, in a small village nestled in the heart of a lush forest, there lived a young girl named Lily. She was known for her kind heart and adventurous spirit. One sunny morning, as she was exploring the woods, she stumbled upon a wounded bird with a broken wing.\n",
      "\n",
      "Lily carefully picked up the bird and cradled it in her hands. She knew she had to help it, so she decided to take it home. With great care, she fashioned a small nest for the bird and gently placed it inside. Lily named the bird Ruby, after its vibrant red feathers.\n",
      "\n",
      "Days turned into weeks, and Lily tirelessly tended to Ruby's needs. She fed her, kept her warm, and even sang lullabies to comfort her. Slowly but surely, Ruby's wing began to heal. Lily's dedication and love had worked wonders.\n",
      "\n",
      "One day, as Lily was preparing to release Ruby back into the wild, a sudden storm swept through the village. The wind howled, and rain poured down in torrents. Lily worried about Ruby's safety, knowing she couldn't fly yet.\n",
      "\n",
      "Without hesitation, Lily scooped up Ruby and ran towards the forest. She found a cozy spot under a large tree, shielding them both from the rain. As they huddled together, Lily whispered words of encouragement to Ruby, assuring her that the storm would pass.\n",
      "\n",
      "Hours passed, and the storm finally subsided. Lily looked up to see a beautiful rainbow stretching across the sky. It was a sign that everything would be alright. With a smile, she gently placed Ruby on the ground, urging her to try flying once more.\n",
      "\n",
      "Ruby hesitated at first, unsure of her newfound strength. But with Lily's unwavering support, she spread her wings and took flight. The once-injured bird soared gracefully through the air, circling above Lily before disappearing into the horizon.\n",
      "\n",
      "Lily watched Ruby disappear, feeling a mix of joy and sadness. She knew that Ruby was finally free, but she would miss their time together. As she walked back to the village, Lily couldn't help but feel a sense of fulfillment. She had made a difference in Ruby's life, and in return, Ruby had taught her the power of love, patience, and resilience.\n",
      "\n",
      "From that day forward, Lily continued to explore the forest, always ready to lend a helping hand to any creature in need. And whenever she saw a bird soaring through the sky, she would smile, knowing that she had played a small part in their journey.\n"
     ]
    }
   ],
   "source": [
    "print(response.choices[0].message.content)"
   ]
  },
  {
   "cell_type": "markdown",
   "id": "7d8a12a1",
   "metadata": {},
   "source": [
    "## Few-shot prompting"
   ]
  },
  {
   "cell_type": "markdown",
   "id": "6bca0dde",
   "metadata": {},
   "source": [
    "We can also provide several examples of mappings between input and output."
   ]
  },
  {
   "cell_type": "code",
   "execution_count": 20,
   "id": "80a730c8",
   "metadata": {},
   "outputs": [
    {
     "name": "stdout",
     "output_type": "stream",
     "text": [
      "This sudden change in direction means we don't have enough time to complete the entire project for the client.\n"
     ]
    }
   ],
   "source": [
    "response = client.chat.completions.create(\n",
    "    model=\"gpt-3.5-turbo\",\n",
    "    messages=[\n",
    "        {\"role\": \"system\", \"content\": \"You are a helpful, pattern-following assistant.\"},\n",
    "        {\"role\": \"user\", \"content\": \"Help me translate the following corporate jargon into plain English.\"},\n",
    "        {\"role\": \"assistant\", \"content\": \"Sure, I'd be happy to!\"},\n",
    "        {\"role\": \"user\", \"content\": \"New synergies will help drive top-line growth.\"},\n",
    "        {\"role\": \"assistant\", \"content\": \"Things working well together will increase revenue.\"},\n",
    "        {\"role\": \"user\", \"content\": \"Let's circle back when we have more bandwidth to touch base on opportunities for increased leverage.\"},\n",
    "        {\"role\": \"assistant\", \"content\": \"Let's talk later when we're less busy about how to do better.\"},\n",
    "        {\"role\": \"user\", \"content\": \"This late pivot means we don't have time to boil the ocean for the client deliverable.\"},\n",
    "    ],\n",
    "    temperature=0,\n",
    ")\n",
    "\n",
    "print(response.choices[0].message.content)"
   ]
  },
  {
   "cell_type": "markdown",
   "id": "7d83c1cb",
   "metadata": {},
   "source": [
    "# Formatted output"
   ]
  },
  {
   "cell_type": "code",
   "execution_count": 21,
   "id": "cc5d104c",
   "metadata": {},
   "outputs": [
    {
     "name": "stdout",
     "output_type": "stream",
     "text": [
      "CPU times: user 8.06 ms, sys: 1.59 ms, total: 9.64 ms\n",
      "Wall time: 3.85 s\n"
     ]
    }
   ],
   "source": [
    "%%time\n",
    "userInput = \"blueberry pancakes\"\n",
    "\n",
    "prompt = \"\"\"return a recipe for %s.\n",
    "        Provide your response as a JSON object with the following schema:\n",
    "        {\"dish\": \"%s\", \"ingredients\": [\"\", \"\", ...],\n",
    "        \"instructions\": [\"\", \"\", ... ]}\"\"\" % (userInput, userInput)\n",
    "\n",
    "response = client.chat.completions.create(\n",
    "          model = \"gpt-3.5-turbo\",\n",
    "          messages = [\n",
    "            { \"role\": \"system\", \"content\": \"You are a helpful recipe assistant.\"},\n",
    "            { \"role\": \"user\",   \"content\": prompt }\n",
    "          ]\n",
    ")"
   ]
  },
  {
   "cell_type": "code",
   "execution_count": 22,
   "id": "d7e701cc",
   "metadata": {},
   "outputs": [],
   "source": [
    "json_output = response.choices[0].message.content"
   ]
  },
  {
   "cell_type": "code",
   "execution_count": 23,
   "id": "d9733d8e",
   "metadata": {},
   "outputs": [],
   "source": [
    "output = json.loads(json_output)"
   ]
  },
  {
   "cell_type": "code",
   "execution_count": 24,
   "id": "d03723fd",
   "metadata": {},
   "outputs": [
    {
     "data": {
      "text/plain": [
       "['1 cup all-purpose flour',\n",
       " '2 tablespoons sugar',\n",
       " '1 teaspoon baking powder',\n",
       " '1/2 teaspoon baking soda',\n",
       " '1/4 teaspoon salt',\n",
       " '3/4 cup buttermilk',\n",
       " '1/4 cup milk',\n",
       " '1 large egg',\n",
       " '2 tablespoons unsalted butter, melted',\n",
       " '1 cup fresh blueberries',\n",
       " 'Maple syrup, for serving']"
      ]
     },
     "execution_count": 24,
     "metadata": {},
     "output_type": "execute_result"
    }
   ],
   "source": [
    "output[\"ingredients\"]"
   ]
  },
  {
   "cell_type": "code",
   "execution_count": 25,
   "id": "db048b15",
   "metadata": {},
   "outputs": [
    {
     "data": {
      "text/plain": [
       "['In a large bowl, whisk together the flour, sugar, baking powder, baking soda, and salt.',\n",
       " 'In a separate bowl, whisk together the buttermilk, milk, egg, and melted butter.',\n",
       " 'Pour the wet ingredients into the dry ingredients and stir until just combined. Do not overmix; the batter should be lumpy.',\n",
       " 'Gently fold in the blueberries.',\n",
       " 'Heat a non-stick griddle or skillet over medium heat. Lightly grease with butter or cooking spray.',\n",
       " 'Scoop 1/4 cup of batter onto the griddle for each pancake. Cook until bubbles form on the surface, then flip and cook for another 1-2 minutes, until golden brown.',\n",
       " 'Remove pancakes from the griddle and repeat with the remaining batter.',\n",
       " 'Serve the blueberry pancakes warm with maple syrup.']"
      ]
     },
     "execution_count": 25,
     "metadata": {},
     "output_type": "execute_result"
    }
   ],
   "source": [
    "output[\"instructions\"]"
   ]
  },
  {
   "cell_type": "markdown",
   "id": "0811b139",
   "metadata": {},
   "source": [
    "# Translation"
   ]
  },
  {
   "cell_type": "code",
   "execution_count": 26,
   "id": "5a0e7e05",
   "metadata": {},
   "outputs": [],
   "source": [
    "response = client.chat.completions.create(\n",
    "    model='gpt-3.5-turbo',\n",
    "    messages=[{\"role\": \"system\", \"content\": \"You're a professional English-Italian translator.\"}, \n",
    "              {\"role\": \"user\", \"content\": \"Translate 'Be the change that you wish to see in the world.' into Italian\"}],\n",
    "    temperature=0,\n",
    ")"
   ]
  },
  {
   "cell_type": "code",
   "execution_count": 27,
   "id": "ca268762",
   "metadata": {},
   "outputs": [
    {
     "data": {
      "text/plain": [
       "'\"Sii il cambiamento che desideri vedere nel mondo.\"'"
      ]
     },
     "execution_count": 27,
     "metadata": {},
     "output_type": "execute_result"
    }
   ],
   "source": [
    "response.choices[0].message.content"
   ]
  },
  {
   "cell_type": "markdown",
   "id": "7cc3b0cc",
   "metadata": {},
   "source": [
    "# Process unstructured information"
   ]
  },
  {
   "cell_type": "markdown",
   "id": "351cfe4a",
   "metadata": {},
   "source": [
    "Inspired by https://platform.openai.com/examples/default-parse-data"
   ]
  },
  {
   "cell_type": "code",
   "execution_count": 28,
   "id": "d0d87024",
   "metadata": {},
   "outputs": [],
   "source": [
    "prompt = \"\"\"There are many fruits that were found on the recently discovered planet Goocrux. \n",
    "There are neoskizzles that grow there, which are purple and taste like candy. There are also \n",
    "loheckles, which are a grayish blue fruit and are very tart, a little bit like a lemon. Pounits \n",
    "are a bright green color and are more savory than sweet. There are also plenty of loopnovas which \n",
    "are a neon pink flavor and taste like cotton candy. Finally, there are fruits called glowls, which \n",
    "have a very sour and bitter taste which is acidic and caustic, and a pale orange tinge to them.\"\"\""
   ]
  },
  {
   "cell_type": "code",
   "execution_count": 29,
   "id": "0354c130",
   "metadata": {},
   "outputs": [],
   "source": [
    "response = client.chat.completions.create(\n",
    "    model='gpt-3.5-turbo',\n",
    "    messages=[\n",
    "        {\"role\": \"system\", \n",
    "         \"content\": \"You will be provided with unstructured data, and your task is to parse it into CSV format.\"}, \n",
    "        {\"role\": \"user\", \n",
    "         \"content\": prompt}],\n",
    "    temperature=0,\n",
    ")"
   ]
  },
  {
   "cell_type": "code",
   "execution_count": 30,
   "id": "7529da42",
   "metadata": {},
   "outputs": [
    {
     "name": "stdout",
     "output_type": "stream",
     "text": [
      "Fruit,Color,Taste\n",
      "neoskizzles,purple,candy\n",
      "loheckles,grayish blue,tart\n",
      "pounits,bright green,savory\n",
      "loopnovas,neon pink,cotton candy\n",
      "glowls,pale orange,sour and bitter\n"
     ]
    }
   ],
   "source": [
    "print(response.choices[0].message.content)"
   ]
  },
  {
   "cell_type": "code",
   "execution_count": 31,
   "id": "f0daaad4",
   "metadata": {},
   "outputs": [],
   "source": [
    "response = client.chat.completions.create(\n",
    "    model='gpt-3.5-turbo',\n",
    "    messages=[{\"role\": \"system\", \"content\": \"\"\"\n",
    "            Read this paragraph \n",
    "            \n",
    "            `%s` \n",
    "            \n",
    "            and use it to answer some questions.\"\"\" % prompt}, \n",
    "              {\"role\": \"user\", \"content\": \"What are pounits?\"}],\n",
    "    temperature=0,\n",
    ")"
   ]
  },
  {
   "cell_type": "code",
   "execution_count": 32,
   "id": "94e1155b",
   "metadata": {},
   "outputs": [
    {
     "name": "stdout",
     "output_type": "stream",
     "text": [
      "Pounits are bright green fruits found on the recently discovered planet Goocrux. They have a more savory taste rather than being sweet.\n"
     ]
    }
   ],
   "source": [
    "print(response.choices[0].message.content)"
   ]
  },
  {
   "cell_type": "markdown",
   "id": "2ec8a68a",
   "metadata": {},
   "source": [
    "<center>\n",
    "     <img src=\"https://raw.githubusercontent.com/DataForScience/Networks/master/data/D4Sci_logo_full.png\" alt=\"Data For Science, Inc\" align=\"center\" border=\"0\" width=300px> \n",
    "</center>"
   ]
  }
 ],
 "metadata": {
  "kernelspec": {
   "display_name": "Python 3 (ipykernel)",
   "language": "python",
   "name": "python3"
  },
  "language_info": {
   "codemirror_mode": {
    "name": "ipython",
    "version": 3
   },
   "file_extension": ".py",
   "mimetype": "text/x-python",
   "name": "python",
   "nbconvert_exporter": "python",
   "pygments_lexer": "ipython3",
   "version": "3.11.7"
  },
  "varInspector": {
   "cols": {
    "lenName": 16,
    "lenType": 16,
    "lenVar": 40
   },
   "kernels_config": {
    "python": {
     "delete_cmd_postfix": "",
     "delete_cmd_prefix": "del ",
     "library": "var_list.py",
     "varRefreshCmd": "print(var_dic_list())"
    },
    "r": {
     "delete_cmd_postfix": ") ",
     "delete_cmd_prefix": "rm(",
     "library": "var_list.r",
     "varRefreshCmd": "cat(var_dic_list()) "
    }
   },
   "types_to_exclude": [
    "module",
    "function",
    "builtin_function_or_method",
    "instance",
    "_Feature"
   ],
   "window_display": false
  }
 },
 "nbformat": 4,
 "nbformat_minor": 5
}
