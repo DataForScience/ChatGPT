{
 "cells": [
  {
   "cell_type": "markdown",
   "id": "ed99c4a3",
   "metadata": {},
   "source": [
    "<div style=\"width: 100%; overflow: hidden;\">\n",
    "    <div style=\"width: 150px; float: left;\"> <img src=\"https://raw.githubusercontent.com/DataForScience/Networks/master/data/D4Sci_logo_ball.png\" alt=\"Data For Science, Inc\" align=\"left\" border=\"0\" width=150px> </div>\n",
    "    <div style=\"float: left; margin-left: 10px;\"> <h1>ChatGPT and Friends</h1>\n",
    "<h1>GPT Models</h1>\n",
    "        <p>Bruno Gonçalves<br/>\n",
    "        <a href=\"http://www.data4sci.com/\">www.data4sci.com</a><br/>\n",
    "            @bgoncalves, @data4sci</p></div>\n",
    "</div>"
   ]
  },
  {
   "cell_type": "code",
   "execution_count": 1,
   "id": "cc47623c",
   "metadata": {},
   "outputs": [],
   "source": [
    "from collections import Counter\n",
    "from pprint import pprint\n",
    "from datetime import datetime\n",
    "import json\n",
    "\n",
    "import pandas as pd\n",
    "import numpy as np\n",
    "\n",
    "import matplotlib\n",
    "import matplotlib.pyplot as plt \n",
    "\n",
    "import openai\n",
    "from openai import OpenAI\n",
    "\n",
    "import termcolor\n",
    "from termcolor import colored\n",
    "\n",
    "import os\n",
    "import gzip\n",
    "\n",
    "import tqdm as tq\n",
    "from tqdm.notebook import tqdm\n",
    "\n",
    "import watermark\n",
    "\n",
    "%load_ext watermark\n",
    "%matplotlib inline"
   ]
  },
  {
   "cell_type": "markdown",
   "id": "988cca3c",
   "metadata": {},
   "source": [
    "We start by printing out the versions of the libraries we're using for future reference"
   ]
  },
  {
   "cell_type": "code",
   "execution_count": 2,
   "id": "5958e2cf",
   "metadata": {},
   "outputs": [
    {
     "name": "stdout",
     "output_type": "stream",
     "text": [
      "Python implementation: CPython\n",
      "Python version       : 3.11.7\n",
      "IPython version      : 8.12.3\n",
      "\n",
      "Compiler    : Clang 14.0.6 \n",
      "OS          : Darwin\n",
      "Release     : 23.6.0\n",
      "Machine     : arm64\n",
      "Processor   : arm\n",
      "CPU cores   : 16\n",
      "Architecture: 64bit\n",
      "\n",
      "Git hash: b44900a26f10de8fbaf559b307e69185828b77b4\n",
      "\n",
      "termcolor : 2.4.0\n",
      "json      : 2.0.9\n",
      "watermark : 2.4.3\n",
      "pandas    : 2.2.3\n",
      "openai    : 1.30.5\n",
      "tqdm      : 4.66.4\n",
      "matplotlib: 3.8.0\n",
      "numpy     : 1.26.4\n",
      "\n"
     ]
    }
   ],
   "source": [
    "%watermark -n -v -m -g -iv"
   ]
  },
  {
   "cell_type": "markdown",
   "id": "32bfb539",
   "metadata": {},
   "source": [
    "Load default figure style"
   ]
  },
  {
   "cell_type": "code",
   "execution_count": 3,
   "id": "b086ba1a",
   "metadata": {},
   "outputs": [],
   "source": [
    "plt.style.use('d4sci.mplstyle')\n",
    "colors = plt.rcParams['axes.prop_cycle'].by_key()['color']"
   ]
  },
  {
   "cell_type": "markdown",
   "id": "ae050189",
   "metadata": {},
   "source": [
    "# Basic Usage"
   ]
  },
  {
   "cell_type": "markdown",
   "id": "ab5d5151",
   "metadata": {},
   "source": [
    "The first step is always to load up the API key from the local environment. Without it we won't be able to do anything. You can find your API key in your using settings: https://help.openai.com/en/articles/4936850-where-do-i-find-my-secret-api-key"
   ]
  },
  {
   "cell_type": "code",
   "execution_count": 4,
   "id": "9da19a07",
   "metadata": {},
   "outputs": [],
   "source": [
    "client = OpenAI(api_key=os.getenv(\"OPENAI_API_KEY\"))"
   ]
  },
  {
   "cell_type": "markdown",
   "id": "fd700851",
   "metadata": {},
   "source": [
    "We start by getting a list of supported models."
   ]
  },
  {
   "cell_type": "code",
   "execution_count": 5,
   "id": "659181e2",
   "metadata": {},
   "outputs": [],
   "source": [
    "model_list = client.models.list().data"
   ]
  },
  {
   "cell_type": "markdown",
   "id": "e7f577e2",
   "metadata": {},
   "source": [
    "In total we have 38 models"
   ]
  },
  {
   "cell_type": "code",
   "execution_count": 6,
   "id": "5db0217d",
   "metadata": {},
   "outputs": [
    {
     "data": {
      "text/plain": [
       "38"
      ]
     },
     "execution_count": 6,
     "metadata": {},
     "output_type": "execute_result"
    }
   ],
   "source": [
    "len(model_list)"
   ]
  },
  {
   "cell_type": "markdown",
   "id": "0ea08cb9",
   "metadata": {},
   "source": [
    "Along with some information about each model..."
   ]
  },
  {
   "cell_type": "code",
   "execution_count": 7,
   "id": "952b38a3",
   "metadata": {},
   "outputs": [
    {
     "data": {
      "text/plain": [
       "[Model(id='dall-e-2', created=1698798177, object='model', owned_by='system'),\n",
       " Model(id='whisper-1', created=1677532384, object='model', owned_by='openai-internal'),\n",
       " Model(id='gpt-3.5-turbo-instruct', created=1692901427, object='model', owned_by='system')]"
      ]
     },
     "execution_count": 7,
     "metadata": {},
     "output_type": "execute_result"
    }
   ],
   "source": [
    "model_list[:3]"
   ]
  },
  {
   "cell_type": "markdown",
   "id": "51db92ee",
   "metadata": {},
   "source": [
    "But let's just get a list of model names"
   ]
  },
  {
   "cell_type": "code",
   "execution_count": 8,
   "id": "5c688934",
   "metadata": {
    "scrolled": false
   },
   "outputs": [
    {
     "name": "stdout",
     "output_type": "stream",
     "text": [
      "babbage-002\n",
      "chatgpt-4o-latest\n",
      "dall-e-2\n",
      "dall-e-3\n",
      "davinci-002\n",
      "gpt-3.5-turbo\n",
      "gpt-3.5-turbo-0125\n",
      "gpt-3.5-turbo-0301\n",
      "gpt-3.5-turbo-0613\n",
      "gpt-3.5-turbo-1106\n",
      "gpt-3.5-turbo-16k\n",
      "gpt-3.5-turbo-16k-0613\n",
      "gpt-3.5-turbo-instruct\n",
      "gpt-3.5-turbo-instruct-0914\n",
      "gpt-4\n",
      "gpt-4-0125-preview\n",
      "gpt-4-0613\n",
      "gpt-4-1106-preview\n",
      "gpt-4-turbo\n",
      "gpt-4-turbo-2024-04-09\n",
      "gpt-4-turbo-preview\n",
      "gpt-4o\n",
      "gpt-4o-2024-05-13\n",
      "gpt-4o-2024-08-06\n",
      "gpt-4o-audio-preview\n",
      "gpt-4o-audio-preview-2024-10-01\n",
      "gpt-4o-mini\n",
      "gpt-4o-mini-2024-07-18\n",
      "gpt-4o-realtime-preview\n",
      "gpt-4o-realtime-preview-2024-10-01\n",
      "text-embedding-3-large\n",
      "text-embedding-3-small\n",
      "text-embedding-ada-002\n",
      "tts-1\n",
      "tts-1-1106\n",
      "tts-1-hd\n",
      "tts-1-hd-1106\n",
      "whisper-1\n"
     ]
    }
   ],
   "source": [
    "print(\"\\n\".join(sorted([model.id for model in model_list])))"
   ]
  },
  {
   "cell_type": "markdown",
   "id": "8e7ee4ba",
   "metadata": {},
   "source": [
    "## Basic Prompt"
   ]
  },
  {
   "cell_type": "markdown",
   "id": "4ddaa8f5",
   "metadata": {},
   "source": [
    "The recommended model for exploration is `gpt-4o`, so we'll stick with it for now. The basic setup is relatively straightforward:"
   ]
  },
  {
   "cell_type": "code",
   "execution_count": 9,
   "id": "d2924316",
   "metadata": {},
   "outputs": [
    {
     "name": "stdout",
     "output_type": "stream",
     "text": [
      "CPU times: user 9.51 ms, sys: 2.51 ms, total: 12 ms\n",
      "Wall time: 1.65 s\n"
     ]
    }
   ],
   "source": [
    "%%time\n",
    "response = client.chat.completions.create(\n",
    "  model=\"gpt-4o\",\n",
    "  messages=[\n",
    "        {\n",
    "            \"role\": \"user\", \n",
    "            \"content\": \"What was Superman's weakness?\"\n",
    "        },\n",
    "    ]\n",
    ")"
   ]
  },
  {
   "cell_type": "markdown",
   "id": "47ccbe67",
   "metadata": {},
   "source": [
    "Which produces a response object"
   ]
  },
  {
   "cell_type": "code",
   "execution_count": 10,
   "id": "e22d82d8",
   "metadata": {},
   "outputs": [
    {
     "data": {
      "text/plain": [
       "openai.types.chat.chat_completion.ChatCompletion"
      ]
     },
     "execution_count": 10,
     "metadata": {},
     "output_type": "execute_result"
    }
   ],
   "source": [
    "type(response)"
   ]
  },
  {
   "cell_type": "markdown",
   "id": "42c91441",
   "metadata": {},
   "source": [
    "Which we can treat as a simple object"
   ]
  },
  {
   "cell_type": "code",
   "execution_count": 11,
   "id": "2766586d",
   "metadata": {},
   "outputs": [
    {
     "name": "stdout",
     "output_type": "stream",
     "text": [
      "Choice(finish_reason='stop', index=0, logprobs=None, message=ChatCompletionMessage(content=\"Superman's most well-known weakness is Kryptonite, a radioactive substance from his home planet, Krypton. Exposure to Kryptonite can weaken Superman, stripping him of his powers and making him vulnerable to harm. There are different varieties of Kryptonite, with green Kryptonite being the most common and harmful to him. Additionally, Superman is susceptible to magic and can be affected by red solar radiation, which can deplete his powers.\", role='assistant', function_call=None, tool_calls=None, refusal=None))\n"
     ]
    }
   ],
   "source": [
    "pprint(response.choices[0])"
   ]
  },
  {
   "cell_type": "markdown",
   "id": "62283533",
   "metadata": {},
   "source": [
    "The model answer can be found in the \"message\" named tuple inside the \"choices\" list"
   ]
  },
  {
   "cell_type": "code",
   "execution_count": 11,
   "id": "8bb9da92",
   "metadata": {},
   "outputs": [
    {
     "name": "stdout",
     "output_type": "stream",
     "text": [
      "Superman's primary weakness is kryptonite, a mineral from his home planet of Krypton. When exposed to kryptonite, Superman loses his powers and becomes physically weakened, which can put him in danger. There are different variations of kryptonite, with green kryptonite being the most common and most harmful to him. Additionally, Superman is also vulnerable to magic and the effects of a red sun, which can strip him of his powers.\n"
     ]
    }
   ],
   "source": [
    "print(response.choices[0].message.content)"
   ]
  },
  {
   "cell_type": "markdown",
   "id": "29c9cc1e",
   "metadata": {},
   "source": [
    "To request multiple answers, we must include the `n` parameter with the number of answers we want"
   ]
  },
  {
   "cell_type": "code",
   "execution_count": 12,
   "id": "97542216",
   "metadata": {},
   "outputs": [
    {
     "name": "stdout",
     "output_type": "stream",
     "text": [
      "CPU times: user 10.9 ms, sys: 2.35 ms, total: 13.2 ms\n",
      "Wall time: 9.86 s\n"
     ]
    }
   ],
   "source": [
    "%%time\n",
    "response = client.chat.completions.create(\n",
    "    model=\"gpt-4o\",\n",
    "    messages=[\n",
    "        {\"role\": \"user\", \"content\": \"What are the different kinds of Kryptonite?\"},\n",
    "    ],\n",
    "    n=3\n",
    ")"
   ]
  },
  {
   "cell_type": "markdown",
   "id": "37753466",
   "metadata": {},
   "source": [
    "And we can access each of the answers individually int he choices list"
   ]
  },
  {
   "cell_type": "code",
   "execution_count": 13,
   "id": "34bd9d11",
   "metadata": {},
   "outputs": [
    {
     "name": "stdout",
     "output_type": "stream",
     "text": [
      "==========\n",
      "Assistant\n",
      "==========\n",
      "Kryptonite is a fictional substance from the Superman comic books, part of the DC Comics universe. It's famously known for its debilitating effects on Superman and other Kryptonians. Over the years, various types of Kryptonite have been introduced, each with different properties and effects:\n",
      "\n",
      "1. **Green Kryptonite**: The most well-known form, Green Kryptonite weakens Kryptonians and prolonged exposure can be fatal.\n",
      "\n",
      "2. **Red Kryptonite**: This variety causes unpredictable and usually bizarre changes in Superman. The effects are temporary but can vary greatly from one exposure to another.\n",
      "\n",
      "3. **Blue Kryptonite**: Typically affects Bizarro, the imperfect clone of Superman, in the same way Green Kryptonite affects Superman. It can also sometimes have calming effects on Kryptonians.\n",
      "\n",
      "4. **Gold Kryptonite**: Removes a Kryptonian's superpowers permanently.\n",
      "\n",
      "5. **White Kryptonite**: Kills all plant life, including extraterrestrial varieties.\n",
      "\n",
      "6. **Black Kryptonite**: Has the ability to split a Kryptonian into two separate entities, usually representing their good and evil sides.\n",
      "\n",
      "7. **Silver Kryptonite**: In some interpretations, it causes hallucinations and paranoia in Kryptonians.\n",
      "\n",
      "8. **Jewel Kryptonite**: Amplifies psychic powers and can be used by criminals in the Phantom Zone to project their mental energy outward.\n",
      "\n",
      "9. **Pink Kryptonite**: Has appeared in some parodic or less serious stories, usually as a comic effect where it causes humorous changes like altering a Kryptonian's gender or sexual orientation.\n",
      "\n",
      "10. **Anti-Kryptonite**: Affects only non-superpowered Kryptonians, leaving those on Earth, such as Superman, unaffected.\n",
      "\n",
      "These are just some examples, and the effects or existence of these types of Kryptonite can vary depending on the storyline or the specific DC Comics universe portrayal.\n",
      "==========\n",
      "\n",
      "==========\n",
      "Assistant\n",
      "==========\n",
      "Kryptonite is a fictional mineral in the DC Comics universe, most famously associated with the superhero Superman. Different forms of Kryptonite have appeared over the years, each with varying effects on Superman and other Kryptonians. Here are some of the most recognized types:\n",
      "\n",
      "1. **Green Kryptonite**: This is the most common form of Kryptonite. It weakens Superman and other Kryptonians, causing pain and can even be lethal with prolonged exposure.\n",
      "\n",
      "2. **Red Kryptonite**: This type causes bizarre and unpredictable effects on Superman, such as behavioral changes, physical transformations, or loss of powers. Its effects are typically temporary and vary with each exposure.\n",
      "\n",
      "3. **Blue Kryptonite**: This variant affects Bizarro, the imperfect clone of Superman, weakening him. In some stories, it has no effect on Superman himself.\n",
      "\n",
      "4. **Gold Kryptonite**: This form is particularly dangerous as it has the ability to permanently remove a Kryptonian's superpowers.\n",
      "\n",
      "5. **White Kryptonite**: It affects all plant life, whether alien or terrestrial, killing it on contact.\n",
      "\n",
      "6. **Black Kryptonite**: This type is known to split a Kryptonian into their good and evil halves, effectively creating two separate entities from one individual.\n",
      "\n",
      "7. **Silver Kryptonite**: This form causes hallucinations and paranoia in Kryptonians, affecting their mental health without physical weakening.\n",
      "\n",
      "8. **Pink Kryptonite**: Introduced in a humorous context, it supposedly affects a Kryptonian's gender identity or sexual orientation.\n",
      "\n",
      "9. **Jewel Kryptonite**: Its effects have varied, but it is generally known to amplify the mental powers of Kryptonians, giving them the ability to project illusions or even affect things at a molecular level.\n",
      "\n",
      "10. **Orange Kryptonite**: This type grants superpowers to animals for a short period of time.\n",
      "\n",
      "11. **Periwinkle Kryptonite**: Another humorous variant, it's said to remove a Kryptonian's inhibitions.\n",
      "\n",
      "These different types of Kryptonite have appeared across various media, including comics, television shows, movies, and video games, each sometimes offering a different interpretation of the effects they have on Superman and his fellow Kryptonians.\n",
      "==========\n",
      "\n",
      "==========\n",
      "Assistant\n",
      "==========\n",
      "Kryptonite is a fictional substance from the Superman comics, well-known for its effects on Kryptonians like Superman. Over the years, several variations of Kryptonite have appeared in the comics and other media, each with its own unique properties and effects. Here are some of the most notable types:\n",
      "\n",
      "1. **Green Kryptonite**: The most common form, it weakens Kryptonians, removes their powers, and can potentially kill them with prolonged exposure.\n",
      "\n",
      "2. **Red Kryptonite**: Causes unpredictable effects on Kryptonians, such as altering their behavior or form. The effects are usually temporary and wear off after a certain period.\n",
      "\n",
      "3. **Blue Kryptonite**: Typically affects Bizarro versions of Kryptonians. For regular Kryptonians, it can serve as an antidote to some effects of Red Kryptonite.\n",
      "\n",
      "4. **Gold Kryptonite**: Permanently removes a Kryptonian's ability to process yellow sunlight, effectively stripping them of their powers.\n",
      "\n",
      "5. **White Kryptonite**: Kills all plant life, including that on Krypton.\n",
      "\n",
      "6. **Black Kryptonite**: Splits a Kryptonian into two separate entities, often a good and an evil version.\n",
      "\n",
      "7. **Silver Kryptonite**: Has hallucinogenic effects on Kryptonians, making them paranoid or delusional.\n",
      "\n",
      "8. **Jewel Kryptonite**: Enhances the psychic powers in the Phantom Zone, allowing prisoners to project themselves beyond its confines.\n",
      "\n",
      "9. **Pink Kryptonite**: A humorous variation that had the effect of altering a Kryptonian’s gender characteristics, often interpreted as temporarily causing them to exhibit stereotypically feminine traits.\n",
      "\n",
      "10. **Orange Kryptonite**: This variation grants temporary superpowers to animals.\n",
      "\n",
      "These different kinds of Kryptonite add a variety of storytelling options within the Superman universe, allowing writers to explore the vulnerabilities and challenges faced by Kryptonian characters in many creative ways.\n",
      "==========\n",
      "\n"
     ]
    }
   ],
   "source": [
    "for output in response.choices:\n",
    "    print(\"==========\")\n",
    "    print(output.message.role.title()) \n",
    "    print(\"==========\")\n",
    "    print(output.message.content)\n",
    "    print(\"==========\\n\")"
   ]
  },
  {
   "cell_type": "code",
   "execution_count": 14,
   "id": "a94e9086",
   "metadata": {},
   "outputs": [
    {
     "data": {
      "text/plain": [
       "CompletionUsage(completion_tokens=1197, prompt_tokens=16, total_tokens=1213, prompt_tokens_details={'cached_tokens': 0, 'audio_tokens': 0}, completion_tokens_details={'reasoning_tokens': 0, 'audio_tokens': 0, 'accepted_prediction_tokens': 0, 'rejected_prediction_tokens': 0})"
      ]
     },
     "execution_count": 14,
     "metadata": {},
     "output_type": "execute_result"
    }
   ],
   "source": [
    "response.usage"
   ]
  },
  {
   "cell_type": "markdown",
   "id": "f9e21fa2",
   "metadata": {},
   "source": [
    "# Temperature"
   ]
  },
  {
   "cell_type": "code",
   "execution_count": null,
   "id": "b6d939eb",
   "metadata": {},
   "outputs": [],
   "source": [
    "%%time\n",
    "response = client.chat.completions.create(\n",
    "    model=\"gpt-4o\",\n",
    "    messages=[\n",
    "        {\"role\": \"user\", \"content\": \"Tell me a fun fact\"},\n",
    "    ],\n",
    "    temperature=1.9\n",
    ")"
   ]
  },
  {
   "cell_type": "code",
   "execution_count": null,
   "id": "bb69657e",
   "metadata": {},
   "outputs": [],
   "source": [
    "print(response.choices[0].message.content)"
   ]
  },
  {
   "cell_type": "code",
   "execution_count": 24,
   "id": "1ce3d057",
   "metadata": {},
   "outputs": [
    {
     "name": "stdout",
     "output_type": "stream",
     "text": [
      "CPU times: user 8.24 ms, sys: 2.15 ms, total: 10.4 ms\n",
      "Wall time: 3.88 s\n"
     ]
    }
   ],
   "source": [
    "%%time\n",
    "response = client.chat.completions.create(\n",
    "    model=\"gpt-3.5-turbo\",\n",
    "    messages=[\n",
    "        {\"role\": \"user\", \"content\": \"Tell me a short story\"},\n",
    "    ],\n",
    "    temperature=0\n",
    ")"
   ]
  },
  {
   "cell_type": "code",
   "execution_count": 25,
   "id": "198c4aa8",
   "metadata": {},
   "outputs": [
    {
     "name": "stdout",
     "output_type": "stream",
     "text": [
      "Once upon a time, in a small village nestled in the mountains, there lived a young girl named Lily. Lily was known for her kindness and generosity, always willing to help those in need.\n",
      "\n",
      "One day, a terrible storm hit the village, causing widespread damage and leaving many families homeless. Lily knew she had to do something to help. She gathered her friends and together they started a fundraiser to rebuild the homes that were destroyed.\n",
      "\n",
      "Through hard work and determination, Lily and her friends were able to raise enough money to rebuild every home in the village. The villagers were overjoyed and grateful for Lily's selfless act of kindness.\n",
      "\n",
      "From that day on, Lily became a hero in the village, known for her compassion and willingness to help others in need. She showed everyone that even the smallest act of kindness can make a big difference in the world. And so, the village lived happily ever after, thanks to the kindness of one young girl named Lily.\n"
     ]
    }
   ],
   "source": [
    "print(response.choices[0].message.content)"
   ]
  },
  {
   "cell_type": "markdown",
   "id": "b28a2258",
   "metadata": {},
   "source": [
    "## Few-shot prompting"
   ]
  },
  {
   "cell_type": "markdown",
   "id": "fa582707",
   "metadata": {},
   "source": [
    "We can also provide several examples of mappings between input and output."
   ]
  },
  {
   "cell_type": "code",
   "execution_count": 26,
   "id": "9123f6ae",
   "metadata": {},
   "outputs": [
    {
     "name": "stdout",
     "output_type": "stream",
     "text": [
      "Because of this last-minute change, we can't do everything for the client's project.\n"
     ]
    }
   ],
   "source": [
    "response = client.chat.completions.create(\n",
    "    model=\"gpt-4o\",\n",
    "    messages=[\n",
    "        {\"role\": \"system\", \"content\": \"You are a helpful, pattern-following assistant.\"},\n",
    "        {\"role\": \"user\", \"content\": \"Help me translate the following corporate jargon into plain English.\"},\n",
    "        {\"role\": \"assistant\", \"content\": \"Sure, I'd be happy to!\"},\n",
    "        {\"role\": \"user\", \"content\": \"New synergies will help drive top-line growth.\"},\n",
    "        {\"role\": \"assistant\", \"content\": \"Things working well together will increase revenue.\"},\n",
    "        {\"role\": \"user\", \"content\": \"Let's circle back when we have more bandwidth to touch base on opportunities for increased leverage.\"},\n",
    "        {\"role\": \"assistant\", \"content\": \"Let's talk later when we're less busy about how to do better.\"},\n",
    "        {\"role\": \"user\", \"content\": \"This late pivot means we don't have time to boil the ocean for the client deliverable.\"},\n",
    "    ],\n",
    "    temperature=0,\n",
    ")\n",
    "\n",
    "print(response.choices[0].message.content)"
   ]
  },
  {
   "cell_type": "markdown",
   "id": "f7e7339f",
   "metadata": {},
   "source": [
    "# Formatted output"
   ]
  },
  {
   "cell_type": "code",
   "execution_count": null,
   "id": "887928ee",
   "metadata": {},
   "outputs": [],
   "source": [
    "%%time\n",
    "userInput = \"blueberry pancakes\"\n",
    "\n",
    "prompt = \"\"\"return a recipe for %s.\n",
    "        Provide your response as a JSON object with the following schema:\n",
    "        {\"dish\": \"%s\", \"ingredients\": [\"\", \"\", ...],\n",
    "        \"instructions\": [\"\", \"\", ... ]}\"\"\" % (userInput, userInput)"
   ]
  },
  {
   "cell_type": "code",
   "execution_count": 29,
   "id": "4dfe1e02",
   "metadata": {},
   "outputs": [
    {
     "name": "stdout",
     "output_type": "stream",
     "text": [
      "('return a recipe for blueberry pancakes.\\n'\n",
      " '        Provide your response as a JSON object with the following schema:\\n'\n",
      " '        {\"dish\": \"blueberry pancakes\", \"ingredients\": [\"\", \"\", ...],\\n'\n",
      " '        \"instructions\": [\"\", \"\", ... ]}')\n"
     ]
    }
   ],
   "source": [
    "pprint(prompt)"
   ]
  },
  {
   "cell_type": "code",
   "execution_count": 28,
   "id": "caeeddb8",
   "metadata": {},
   "outputs": [
    {
     "name": "stdout",
     "output_type": "stream",
     "text": [
      "CPU times: user 8.31 ms, sys: 2.22 ms, total: 10.5 ms\n",
      "Wall time: 5.23 s\n"
     ]
    }
   ],
   "source": [
    "response = client.chat.completions.create(\n",
    "          model = \"gpt-4o\",\n",
    "          messages = [\n",
    "            { \"role\": \"system\", \"content\": \"You are a helpful recipe assistant.\"},\n",
    "            { \"role\": \"user\",   \"content\": prompt }\n",
    "          ]\n",
    ")"
   ]
  },
  {
   "cell_type": "code",
   "execution_count": 30,
   "id": "43cb99fa",
   "metadata": {},
   "outputs": [],
   "source": [
    "json_output = response.choices[0].message.content"
   ]
  },
  {
   "cell_type": "code",
   "execution_count": 31,
   "id": "51eff097",
   "metadata": {},
   "outputs": [
    {
     "name": "stdout",
     "output_type": "stream",
     "text": [
      "```json\n",
      "{\n",
      "    \"dish\": \"blueberry pancakes\",\n",
      "    \"ingredients\": [\n",
      "        \"1 cup all-purpose flour\",\n",
      "        \"1 tablespoon sugar\",\n",
      "        \"1 teaspoon baking powder\",\n",
      "        \"1/2 teaspoon baking soda\",\n",
      "        \"1/4 teaspoon salt\",\n",
      "        \"1 cup buttermilk\",\n",
      "        \"1 large egg\",\n",
      "        \"2 tablespoons unsalted butter, melted\",\n",
      "        \"1 cup fresh blueberries\",\n",
      "        \"Extra butter or oil for cooking\"\n",
      "    ],\n",
      "    \"instructions\": [\n",
      "        \"In a large bowl, whisk together the flour, sugar, baking powder, baking soda, and salt.\",\n",
      "        \"In another bowl, whisk together the buttermilk, egg, and melted butter.\",\n",
      "        \"Pour the wet ingredients into the dry ingredients and stir until just combined. The batter will be lumpy; do not overmix.\",\n",
      "        \"Gently fold in the blueberries.\",\n",
      "        \"Heat a non-stick skillet or griddle over medium heat and lightly coat with butter or oil.\",\n",
      "        \"Pour 1/4 cup of batter for each pancake onto the skillet.\",\n",
      "        \"Cook until bubbles form on the surface of the pancake and the edges look set, about 2-3 minutes.\",\n",
      "        \"Flip and cook the other side until golden brown, about 2 minutes more.\",\n",
      "        \"Repeat with the remaining batter, adding more butter or oil to the skillet as needed.\",\n",
      "        \"Serve warm with your choice of syrup or toppings.\"\n",
      "    ]\n",
      "}\n",
      "```\n"
     ]
    }
   ],
   "source": [
    "print(json_output)"
   ]
  },
  {
   "cell_type": "code",
   "execution_count": 32,
   "id": "b6d6241f",
   "metadata": {},
   "outputs": [],
   "source": [
    "output = json.loads(json_output[7:-3])"
   ]
  },
  {
   "cell_type": "code",
   "execution_count": 33,
   "id": "c4961942",
   "metadata": {},
   "outputs": [
    {
     "data": {
      "text/plain": [
       "['1 cup all-purpose flour',\n",
       " '1 tablespoon sugar',\n",
       " '1 teaspoon baking powder',\n",
       " '1/2 teaspoon baking soda',\n",
       " '1/4 teaspoon salt',\n",
       " '1 cup buttermilk',\n",
       " '1 large egg',\n",
       " '2 tablespoons unsalted butter, melted',\n",
       " '1 cup fresh blueberries',\n",
       " 'Extra butter or oil for cooking']"
      ]
     },
     "execution_count": 33,
     "metadata": {},
     "output_type": "execute_result"
    }
   ],
   "source": [
    "output[\"ingredients\"]"
   ]
  },
  {
   "cell_type": "code",
   "execution_count": 34,
   "id": "891ae4c2",
   "metadata": {},
   "outputs": [
    {
     "data": {
      "text/plain": [
       "['In a large bowl, whisk together the flour, sugar, baking powder, baking soda, and salt.',\n",
       " 'In another bowl, whisk together the buttermilk, egg, and melted butter.',\n",
       " 'Pour the wet ingredients into the dry ingredients and stir until just combined. The batter will be lumpy; do not overmix.',\n",
       " 'Gently fold in the blueberries.',\n",
       " 'Heat a non-stick skillet or griddle over medium heat and lightly coat with butter or oil.',\n",
       " 'Pour 1/4 cup of batter for each pancake onto the skillet.',\n",
       " 'Cook until bubbles form on the surface of the pancake and the edges look set, about 2-3 minutes.',\n",
       " 'Flip and cook the other side until golden brown, about 2 minutes more.',\n",
       " 'Repeat with the remaining batter, adding more butter or oil to the skillet as needed.',\n",
       " 'Serve warm with your choice of syrup or toppings.']"
      ]
     },
     "execution_count": 34,
     "metadata": {},
     "output_type": "execute_result"
    }
   ],
   "source": [
    "output[\"instructions\"]"
   ]
  },
  {
   "cell_type": "markdown",
   "id": "6e9cf0a4",
   "metadata": {},
   "source": [
    "# Translation"
   ]
  },
  {
   "cell_type": "code",
   "execution_count": 35,
   "id": "16afaede",
   "metadata": {},
   "outputs": [],
   "source": [
    "response = client.chat.completions.create(\n",
    "    model='gpt-3.5-turbo',\n",
    "    messages=[{\"role\": \"system\", \"content\": \"You're a professional English-Italian translator.\"}, \n",
    "              {\"role\": \"user\", \"content\": \"Translate 'Be the change that you wish to see in the world.' into Italian\"}],\n",
    "    temperature=0,\n",
    ")"
   ]
  },
  {
   "cell_type": "code",
   "execution_count": 36,
   "id": "665139df",
   "metadata": {},
   "outputs": [
    {
     "data": {
      "text/plain": [
       "'\"Sii il cambiamento che desideri vedere nel mondo.\"'"
      ]
     },
     "execution_count": 36,
     "metadata": {},
     "output_type": "execute_result"
    }
   ],
   "source": [
    "response.choices[0].message.content"
   ]
  },
  {
   "cell_type": "markdown",
   "id": "fd8dc07e",
   "metadata": {},
   "source": [
    "# Process unstructured information"
   ]
  },
  {
   "cell_type": "markdown",
   "id": "94033e59",
   "metadata": {},
   "source": [
    "Inspired by https://platform.openai.com/examples/default-parse-data"
   ]
  },
  {
   "cell_type": "code",
   "execution_count": 37,
   "id": "7185b2d5",
   "metadata": {},
   "outputs": [],
   "source": [
    "prompt = \"\"\"There are many fruits that were found on the recently discovered planet Goocrux. \n",
    "There are neoskizzles that grow there, which are purple and taste like candy. There are also \n",
    "loheckles, which are a grayish blue fruit and are very tart, a little bit like a lemon. Pounits \n",
    "are a bright green color and are more savory than sweet. There are also plenty of loopnovas which \n",
    "are a neon pink flavor and taste like cotton candy. Finally, there are fruits called glowls, which \n",
    "have a very sour and bitter taste which is acidic and caustic, and a pale orange tinge to them.\"\"\""
   ]
  },
  {
   "cell_type": "code",
   "execution_count": 38,
   "id": "51685166",
   "metadata": {},
   "outputs": [],
   "source": [
    "response = client.chat.completions.create(\n",
    "    model='gpt-4o',\n",
    "    messages=[\n",
    "        {\"role\": \"system\", \n",
    "         \"content\": \"You will be provided with unstructured data, and your task is to parse it into CSV format.\"}, \n",
    "        {\"role\": \"user\", \n",
    "         \"content\": prompt}],\n",
    "    temperature=0,\n",
    ")"
   ]
  },
  {
   "cell_type": "code",
   "execution_count": 39,
   "id": "14733390",
   "metadata": {},
   "outputs": [
    {
     "name": "stdout",
     "output_type": "stream",
     "text": [
      "```csv\n",
      "Fruit,Color,Taste\n",
      "Neoskizzles,Purple,Candy\n",
      "Loheckles,Grayish Blue,Tart\n",
      "Pounits,Bright Green,Savory\n",
      "Loopnovas,Neon Pink,Cotton Candy\n",
      "Glowls,Pale Orange,Sour and Bitter\n",
      "```\n"
     ]
    }
   ],
   "source": [
    "print(response.choices[0].message.content)"
   ]
  },
  {
   "cell_type": "code",
   "execution_count": 40,
   "id": "c006b287",
   "metadata": {},
   "outputs": [],
   "source": [
    "response = client.chat.completions.create(\n",
    "    model='gpt-4o',\n",
    "    messages=[{\"role\": \"system\", \"content\": \"\"\"\n",
    "            Read this paragraph \n",
    "            \n",
    "            `%s` \n",
    "            \n",
    "            and use it to answer some questions.\"\"\" % prompt}, \n",
    "              {\"role\": \"user\", \"content\": \"What are pounits?\"}],\n",
    "    temperature=0,\n",
    ")"
   ]
  },
  {
   "cell_type": "code",
   "execution_count": 41,
   "id": "83348a36",
   "metadata": {},
   "outputs": [
    {
     "name": "stdout",
     "output_type": "stream",
     "text": [
      "Pounits are a bright green fruit found on the planet Goocrux, and they are more savory than sweet.\n"
     ]
    }
   ],
   "source": [
    "print(response.choices[0].message.content)"
   ]
  },
  {
   "cell_type": "markdown",
   "id": "fe1d7a5d",
   "metadata": {},
   "source": [
    "<center>\n",
    "     <img src=\"https://raw.githubusercontent.com/DataForScience/Networks/master/data/D4Sci_logo_full.png\" alt=\"Data For Science, Inc\" align=\"center\" border=\"0\" width=300px> \n",
    "</center>"
   ]
  }
 ],
 "metadata": {
  "kernelspec": {
   "display_name": "Python 3 (ipykernel)",
   "language": "python",
   "name": "python3"
  },
  "language_info": {
   "codemirror_mode": {
    "name": "ipython",
    "version": 3
   },
   "file_extension": ".py",
   "mimetype": "text/x-python",
   "name": "python",
   "nbconvert_exporter": "python",
   "pygments_lexer": "ipython3",
   "version": "3.11.7"
  },
  "varInspector": {
   "cols": {
    "lenName": 16,
    "lenType": 16,
    "lenVar": 40
   },
   "kernels_config": {
    "python": {
     "delete_cmd_postfix": "",
     "delete_cmd_prefix": "del ",
     "library": "var_list.py",
     "varRefreshCmd": "print(var_dic_list())"
    },
    "r": {
     "delete_cmd_postfix": ") ",
     "delete_cmd_prefix": "rm(",
     "library": "var_list.r",
     "varRefreshCmd": "cat(var_dic_list()) "
    }
   },
   "types_to_exclude": [
    "module",
    "function",
    "builtin_function_or_method",
    "instance",
    "_Feature"
   ],
   "window_display": false
  }
 },
 "nbformat": 4,
 "nbformat_minor": 5
}
