{
 "cells": [
  {
   "cell_type": "markdown",
   "id": "b2f6395c",
   "metadata": {},
   "source": [
    "<div style=\"width: 100%; overflow: hidden;\">\n",
    "    <div style=\"width: 150px; float: left;\"> <img src=\"https://raw.githubusercontent.com/DataForScience/Networks/master/data/D4Sci_logo_ball.png\" alt=\"Data For Science, Inc\" align=\"left\" border=\"0\" width=150px> </div>\n",
    "    <div style=\"float: left; margin-left: 10px;\"> <h1>ChatGPT and Friends</h1>\n",
    "<h1>GPT Models</h1>\n",
    "        <p>Bruno Gonçalves<br/>\n",
    "        <a href=\"http://www.data4sci.com/\">www.data4sci.com</a><br/>\n",
    "            @bgoncalves, @data4sci</p></div>\n",
    "</div>"
   ]
  },
  {
   "cell_type": "code",
   "execution_count": 1,
   "id": "c9f57712",
   "metadata": {},
   "outputs": [],
   "source": [
    "from collections import Counter\n",
    "from pprint import pprint\n",
    "from datetime import datetime\n",
    "import json\n",
    "\n",
    "import pandas as pd\n",
    "import numpy as np\n",
    "\n",
    "import matplotlib\n",
    "import matplotlib.pyplot as plt \n",
    "\n",
    "import openai\n",
    "from openai import OpenAI\n",
    "\n",
    "import termcolor\n",
    "from termcolor import colored\n",
    "\n",
    "import os\n",
    "import gzip\n",
    "\n",
    "import tqdm as tq\n",
    "from tqdm.notebook import tqdm\n",
    "\n",
    "import watermark\n",
    "\n",
    "%load_ext watermark\n",
    "%matplotlib inline"
   ]
  },
  {
   "cell_type": "markdown",
   "id": "7b834f9a",
   "metadata": {},
   "source": [
    "We start by printing out the versions of the libraries we're using for future reference"
   ]
  },
  {
   "cell_type": "code",
   "execution_count": 2,
   "id": "876a1b6e",
   "metadata": {},
   "outputs": [
    {
     "name": "stdout",
     "output_type": "stream",
     "text": [
      "Python implementation: CPython\n",
      "Python version       : 3.11.7\n",
      "IPython version      : 8.12.3\n",
      "\n",
      "Compiler    : Clang 14.0.6 \n",
      "OS          : Darwin\n",
      "Release     : 23.5.0\n",
      "Machine     : arm64\n",
      "Processor   : arm\n",
      "CPU cores   : 16\n",
      "Architecture: 64bit\n",
      "\n",
      "Git hash: 95a23b8725d520f577ffae3e98b501b423302225\n",
      "\n",
      "tqdm      : 4.66.4\n",
      "json      : 2.0.9\n",
      "matplotlib: 3.8.0\n",
      "numpy     : 1.26.4\n",
      "watermark : 2.4.3\n",
      "pandas    : 2.1.4\n",
      "termcolor : 2.4.0\n",
      "openai    : 1.20.0\n",
      "\n"
     ]
    }
   ],
   "source": [
    "%watermark -n -v -m -g -iv"
   ]
  },
  {
   "cell_type": "markdown",
   "id": "9bfbc9e5",
   "metadata": {},
   "source": [
    "Load default figure style"
   ]
  },
  {
   "cell_type": "code",
   "execution_count": 3,
   "id": "4d7f3a72",
   "metadata": {},
   "outputs": [],
   "source": [
    "plt.style.use('d4sci.mplstyle')\n",
    "colors = plt.rcParams['axes.prop_cycle'].by_key()['color']"
   ]
  },
  {
   "cell_type": "markdown",
   "id": "6a32f69a",
   "metadata": {},
   "source": [
    "# Basic Usage"
   ]
  },
  {
   "cell_type": "markdown",
   "id": "70c9d274",
   "metadata": {},
   "source": [
    "The first step is always to load up the API key from the local environment. Without it we won't be able to do anything. You can find your API key in your using settings: https://help.openai.com/en/articles/4936850-where-do-i-find-my-secret-api-key"
   ]
  },
  {
   "cell_type": "code",
   "execution_count": 4,
   "id": "9b8b1191",
   "metadata": {},
   "outputs": [],
   "source": [
    "client = OpenAI(api_key=os.getenv(\"OPENAI_API_KEY\"))"
   ]
  },
  {
   "cell_type": "markdown",
   "id": "f60dc01d",
   "metadata": {},
   "source": [
    "We start by getting a list of supported models."
   ]
  },
  {
   "cell_type": "code",
   "execution_count": 5,
   "id": "3e7643bc",
   "metadata": {},
   "outputs": [],
   "source": [
    "model_list = client.models.list().data"
   ]
  },
  {
   "cell_type": "markdown",
   "id": "91e14e3d",
   "metadata": {},
   "source": [
    "In total we have 32 models"
   ]
  },
  {
   "cell_type": "code",
   "execution_count": 6,
   "id": "96f6b9ee",
   "metadata": {},
   "outputs": [
    {
     "data": {
      "text/plain": [
       "32"
      ]
     },
     "execution_count": 6,
     "metadata": {},
     "output_type": "execute_result"
    }
   ],
   "source": [
    "len(model_list)"
   ]
  },
  {
   "cell_type": "markdown",
   "id": "a8e11616",
   "metadata": {},
   "source": [
    "Along with some information about each model..."
   ]
  },
  {
   "cell_type": "code",
   "execution_count": 7,
   "id": "102a537d",
   "metadata": {},
   "outputs": [
    {
     "data": {
      "text/plain": [
       "[Model(id='dall-e-3', created=1698785189, object='model', owned_by='system'),\n",
       " Model(id='gpt-4-1106-preview', created=1698957206, object='model', owned_by='system'),\n",
       " Model(id='whisper-1', created=1677532384, object='model', owned_by='openai-internal')]"
      ]
     },
     "execution_count": 7,
     "metadata": {},
     "output_type": "execute_result"
    }
   ],
   "source": [
    "model_list[:3]"
   ]
  },
  {
   "cell_type": "markdown",
   "id": "69f448b4",
   "metadata": {},
   "source": [
    "But let's just get a list of model names"
   ]
  },
  {
   "cell_type": "code",
   "execution_count": 8,
   "id": "42962461",
   "metadata": {},
   "outputs": [
    {
     "name": "stdout",
     "output_type": "stream",
     "text": [
      "babbage-002\n",
      "dall-e-2\n",
      "dall-e-3\n",
      "davinci-002\n",
      "gpt-3.5-turbo\n",
      "gpt-3.5-turbo-0125\n",
      "gpt-3.5-turbo-0301\n",
      "gpt-3.5-turbo-0613\n",
      "gpt-3.5-turbo-1106\n",
      "gpt-3.5-turbo-16k\n",
      "gpt-3.5-turbo-16k-0613\n",
      "gpt-3.5-turbo-instruct\n",
      "gpt-3.5-turbo-instruct-0914\n",
      "gpt-4\n",
      "gpt-4-0125-preview\n",
      "gpt-4-0613\n",
      "gpt-4-1106-preview\n",
      "gpt-4-1106-vision-preview\n",
      "gpt-4-turbo\n",
      "gpt-4-turbo-2024-04-09\n",
      "gpt-4-turbo-preview\n",
      "gpt-4-vision-preview\n",
      "gpt-4o\n",
      "gpt-4o-2024-05-13\n",
      "text-embedding-3-large\n",
      "text-embedding-3-small\n",
      "text-embedding-ada-002\n",
      "tts-1\n",
      "tts-1-1106\n",
      "tts-1-hd\n",
      "tts-1-hd-1106\n",
      "whisper-1\n"
     ]
    }
   ],
   "source": [
    "print(\"\\n\".join(sorted([model.id for model in model_list])))"
   ]
  },
  {
   "cell_type": "markdown",
   "id": "4770f275",
   "metadata": {},
   "source": [
    "## Basic Prompt"
   ]
  },
  {
   "cell_type": "markdown",
   "id": "12ce70f1",
   "metadata": {},
   "source": [
    "The recommended model for exploration is `gpt-4o`, so we'll stick with it for now. The basic setup is relatively straightforward:"
   ]
  },
  {
   "cell_type": "code",
   "execution_count": 9,
   "id": "adafc6c3",
   "metadata": {},
   "outputs": [
    {
     "name": "stdout",
     "output_type": "stream",
     "text": [
      "CPU times: user 8.69 ms, sys: 2.84 ms, total: 11.5 ms\n",
      "Wall time: 3.84 s\n"
     ]
    }
   ],
   "source": [
    "%%time\n",
    "response = client.chat.completions.create(\n",
    "  model=\"gpt-4o\",\n",
    "  messages=[\n",
    "        {\n",
    "            \"role\": \"user\", \n",
    "            \"content\": \"What was Superman's weakness?\"\n",
    "        },\n",
    "    ]\n",
    ")"
   ]
  },
  {
   "cell_type": "markdown",
   "id": "8fa3d11a",
   "metadata": {},
   "source": [
    "Which produces a response object"
   ]
  },
  {
   "cell_type": "code",
   "execution_count": 10,
   "id": "44cbe6a5",
   "metadata": {},
   "outputs": [
    {
     "data": {
      "text/plain": [
       "openai.types.chat.chat_completion.ChatCompletion"
      ]
     },
     "execution_count": 10,
     "metadata": {},
     "output_type": "execute_result"
    }
   ],
   "source": [
    "type(response)"
   ]
  },
  {
   "cell_type": "markdown",
   "id": "222b82bc",
   "metadata": {},
   "source": [
    "Which we can treat as a simple object"
   ]
  },
  {
   "cell_type": "code",
   "execution_count": 11,
   "id": "b4a35e8b",
   "metadata": {},
   "outputs": [
    {
     "name": "stdout",
     "output_type": "stream",
     "text": [
      "Choice(finish_reason='stop', index=0, logprobs=None, message=ChatCompletionMessage(content=\"Superman's primary weakness is Kryptonite, a mineral from his home planet, Krypton. When exposed to Kryptonite, Superman loses his powers and experiences severe pain and physical weakness. There are various forms of Kryptonite, each with different effects, but the most commonly known is green Kryptonite.\\n\\nAdditionally, Superman has a few other vulnerabilities:\\n1. **Red Sun Radiation**: Earth's yellow sun is a source of Superman's powers. Exposure to red sun radiation (similar to Krypton's sun) renders him powerless.\\n2. **Magic**: Superman is susceptible to magical attacks. Unlike his physical invulnerability, magical forces can harm or affect him in ways that conventional weaponry cannot.\\n3. **Psychological Weaknesses**: Though not a physical weakness, Superman's strong moral code, compassion, and care for others can be exploited by his enemies.\\n\\nThese weaknesses add layers of complexity to his character and provide challenges that he must overcome.\", role='assistant', function_call=None, tool_calls=None))\n"
     ]
    }
   ],
   "source": [
    "pprint(response.choices[0])"
   ]
  },
  {
   "cell_type": "markdown",
   "id": "0ad0fb2d",
   "metadata": {},
   "source": [
    "The model answer can be found in the \"message\" named tuple inside the \"choices\" list"
   ]
  },
  {
   "cell_type": "code",
   "execution_count": 14,
   "id": "832a11d4",
   "metadata": {},
   "outputs": [
    {
     "name": "stdout",
     "output_type": "stream",
     "text": [
      "Superman's primary weakness is Kryptonite, a mineral from his home planet, Krypton. When exposed to Kryptonite, Superman loses his powers and experiences severe pain and physical weakness. There are various forms of Kryptonite, each with different effects, but the most commonly known is green Kryptonite.\n",
      "\n",
      "Additionally, Superman has a few other vulnerabilities:\n",
      "1. **Red Sun Radiation**: Earth's yellow sun is a source of Superman's powers. Exposure to red sun radiation (similar to Krypton's sun) renders him powerless.\n",
      "2. **Magic**: Superman is susceptible to magical attacks. Unlike his physical invulnerability, magical forces can harm or affect him in ways that conventional weaponry cannot.\n",
      "3. **Psychological Weaknesses**: Though not a physical weakness, Superman's strong moral code, compassion, and care for others can be exploited by his enemies.\n",
      "\n",
      "These weaknesses add layers of complexity to his character and provide challenges that he must overcome.\n"
     ]
    }
   ],
   "source": [
    "print(response.choices[0].message.content)"
   ]
  },
  {
   "cell_type": "markdown",
   "id": "b8f96500",
   "metadata": {},
   "source": [
    "To request multiple answers, we must include the `n` parameter with the number of answers we want"
   ]
  },
  {
   "cell_type": "code",
   "execution_count": 15,
   "id": "934d4574",
   "metadata": {},
   "outputs": [
    {
     "name": "stdout",
     "output_type": "stream",
     "text": [
      "CPU times: user 10.2 ms, sys: 2.85 ms, total: 13.1 ms\n",
      "Wall time: 9.68 s\n"
     ]
    }
   ],
   "source": [
    "%%time\n",
    "response = client.chat.completions.create(\n",
    "    model=\"gpt-4o\",\n",
    "    messages=[\n",
    "        {\"role\": \"user\", \"content\": \"What are the different kinds of Kryptonite?\"},\n",
    "    ],\n",
    "    n=3\n",
    ")"
   ]
  },
  {
   "cell_type": "markdown",
   "id": "23c985ec",
   "metadata": {},
   "source": [
    "And we can access each of the answers individually int he choices list"
   ]
  },
  {
   "cell_type": "code",
   "execution_count": 16,
   "id": "1bcad922",
   "metadata": {},
   "outputs": [
    {
     "name": "stdout",
     "output_type": "stream",
     "text": [
      "==========\n",
      "Assistant\n",
      "==========\n",
      "Kryptonite is a fictional substance from the Superman series, primarily known for being harmful to Superman and other Kryptonians. Over the years, various types of Kryptonite have been introduced, each with different effects. Here's a list of some of the more notable types:\n",
      "\n",
      "1. **Green Kryptonite**: The classic form that weakens and can potentially kill Superman and other Kryptonians with prolonged exposure.\n",
      "\n",
      "2. **Red Kryptonite**: Causes bizarre and unpredictable effects on Kryptonians. The specific effect can vary with each exposure, including physical transformations, changes in personality, or temporary powers.\n",
      "\n",
      "3. **Blue Kryptonite**: Typically affects Bizarro, the imperfect clone of Superman, in much the same way that Green Kryptonite affects Superman. In some instances, it can also have calming effects on Kryptonians with certain conditions.\n",
      "\n",
      "4. **Gold Kryptonite**: Permanently removes a Kryptonian's superpowers, essentially making them human.\n",
      "\n",
      "5. **White Kryptonite**: Lethal to all plant life, both on Earth and Krypton, but does not affect animal life.\n",
      "\n",
      "6. **Silver Kryptonite**: Introduced in \"Smallville\", it causes hallucinations and paranoia in Kryptonians.\n",
      "\n",
      "7. **Black Kryptonite**: Can split a Kryptonian's personality into good and evil parts or re-merge them.\n",
      "\n",
      "8. **Jewel Kryptonite**: Has been presented as amplifying psychic abilities:\n",
      "\n",
      "9. **Pink Kryptonite**: Causes bizarre, often humorous gender-bending or stereotypical behavior in Superman, typically used in non-canon, tongue-in-cheek stories.\n",
      "\n",
      "10. **Anti-Kryptonite**: Primarily affects non-superpowered Kryptonians and has no effect on those with superpowers.\n",
      "\n",
      "11. **X-Kryptonite**: Created accidentally by Supergirl, it gives Earth creatures superpowers temporarily.\n",
      "\n",
      "Various media, comics, TV shows, and movies within the Superman franchise may introduce additional variations of Kryptonite or slight shifts in the effects of known types. The descriptions and uses of different kinds of Kryptonite can sometimes vary based on the source material.\n",
      "==========\n",
      "\n",
      "==========\n",
      "Assistant\n",
      "==========\n",
      "Kryptonite is a fictional substance from the Superman series of comic books published by DC Comics. While the most commonly known form is green Kryptonite, there are several other varieties, each having different effects on Superman and other Kryptonians. Here are some of the different types of Kryptonite:\n",
      "\n",
      "1. **Green Kryptonite**: This is the original and most well-known form. It weakens Superman, drains his powers, and can ultimately kill him with prolonged exposure.\n",
      "\n",
      "2. **Red Kryptonite**: This form causes bizarre and unpredictable effects on Superman, such as altering his personality, mutating his physical form, or giving him temporary new powers. The effects typically last for 24 to 48 hours.\n",
      "\n",
      "3. **Blue Kryptonite**: This affects Bizarro, Superman's imperfect clone, in a similar way that green Kryptonite affects Superman, rendering Bizarro weak and powerless.\n",
      "\n",
      "4. **Gold Kryptonite**: This variety has the ability to permanently remove a Kryptonian's superpowers. In some versions, this effect is temporary but lasts longer.\n",
      "\n",
      "5. **White Kryptonite**: White Kryptonite affects all plant life from any world, killing it upon contact.\n",
      "\n",
      "6. **Black Kryptonite**: This form has the ability to split a Kryptonian into two separate beings: one good and one evil.\n",
      "\n",
      "7. **Silver Kryptonite**: Introduced in the TV series \"Smallville,\" silver Kryptonite causes extreme paranoia and hallucinations in Kryptonians.\n",
      "\n",
      "8. **Periwinkle Kryptonite**: This version is less widely known and causes extreme mood swings in Kryptonians, often making them overly affectionate.\n",
      "\n",
      "9. **Jewel Kryptonite**: This type has never been clearly defined but is thought to amplify psychic powers.\n",
      "\n",
      "Each of these types of Kryptonite adds different dynamics and elements of danger and intrigue to the stories of Superman and his adventures.\n",
      "==========\n",
      "\n",
      "==========\n",
      "Assistant\n",
      "==========\n",
      "Kryptonite is the well-known fictional substance from the DC Comics universe that primarily affects Superman and other Kryptonians. Over the years, various types of Kryptonite have been introduced, each with different properties and effects. Here are some of the main types:\n",
      "\n",
      "1. **Green Kryptonite**: This is the most well-known type. It emits radiation that is deadly to Kryptonians, causing weakness, pain, and can potentially lead to death with prolonged exposure.\n",
      "\n",
      "2. **Red Kryptonite**: Red Kryptonite causes unpredictable and temporary effects in Kryptonians. These effects can range from physical transformations to emotional and behavioral changes, and they usually last for about 24 to 48 hours.\n",
      "\n",
      "3. **Blue Kryptonite**: This type affects Bizarro, the imperfect clone of Superman, in a similar way that Green Kryptonite affects Superman. It can weaken and harm Bizarro but has no known effect on regular Kryptonians.\n",
      "\n",
      "4. **Gold Kryptonite**: Gold Kryptonite has the ability to permanently remove a Kryptonian's superpowers, rendering them as an ordinary human. It's a particularly dangerous form for any Kryptonian.\n",
      "\n",
      "5. **White Kryptonite**: This variant is deadly to all plant life, both Kryptonian and terrestrial, but does not harm Kryptonians.\n",
      "\n",
      "6. **Black Kryptonite**: Black Kryptonite has the ability to split a Kryptonian into two separate entities, one representing their good side and the other their evil side.\n",
      "\n",
      "7. **Silver Kryptonite**: Silver Kryptonite induces hallucinations and paranoia in Kryptonians, often leading them to experience extreme delusions and irrational fears.\n",
      "\n",
      "8. **Jewel Kryptonite**: Found in the Phantom Zone, Jewel Kryptonite can amplify the psychic abilities of those trapped inside the Phantom Zone, allowing them to affect the physical world outside.\n",
      "\n",
      "9. **Anti-Kryptonite**: This version has no effect on normal Kryptonians but can affect non-superpowered Kryptonians, like those from the planet Argo City.\n",
      "\n",
      "10. **Pink Kryptonite**: Seen in some alternate or humorous contexts, Pink Kryptonite is often depicted as having bizarre effects such as altering a Kryptonian's sexual orientation.\n",
      "\n",
      "11. **X-Kryptonite**: Created accidentally by Supergirl, X-Kryptonite grants superpowers to non-Kryptonian life forms. \n",
      "\n",
      "These types show the diverse range of narrative possibilities that Kryptonite introduces into the Superman lore, allowing for a variety of plot devices and character development opportunities.\n",
      "==========\n",
      "\n"
     ]
    }
   ],
   "source": [
    "for output in response.choices:\n",
    "    print(\"==========\")\n",
    "    print(output.message.role.title()) \n",
    "    print(\"==========\")\n",
    "    print(output.message.content)\n",
    "    print(\"==========\\n\")"
   ]
  },
  {
   "cell_type": "code",
   "execution_count": 17,
   "id": "279d48c0",
   "metadata": {},
   "outputs": [
    {
     "data": {
      "text/plain": [
       "CompletionUsage(completion_tokens=1305, prompt_tokens=16, total_tokens=1321)"
      ]
     },
     "execution_count": 17,
     "metadata": {},
     "output_type": "execute_result"
    }
   ],
   "source": [
    "response.usage"
   ]
  },
  {
   "cell_type": "markdown",
   "id": "b18509d4",
   "metadata": {},
   "source": [
    "# Temperature"
   ]
  },
  {
   "cell_type": "code",
   "execution_count": 23,
   "id": "8ddb64d6",
   "metadata": {},
   "outputs": [
    {
     "name": "stdout",
     "output_type": "stream",
     "text": [
      "CPU times: user 8.48 ms, sys: 2.53 ms, total: 11 ms\n",
      "Wall time: 7.55 s\n"
     ]
    }
   ],
   "source": [
    "%%time\n",
    "response = client.chat.completions.create(\n",
    "    model=\"gpt-4o\",\n",
    "    messages=[\n",
    "        {\"role\": \"user\", \"content\": \"Tell me a short story\"},\n",
    "    ],\n",
    "    temperature=1.2\n",
    ")"
   ]
  },
  {
   "cell_type": "code",
   "execution_count": 24,
   "id": "22fd09b8",
   "metadata": {},
   "outputs": [
    {
     "name": "stdout",
     "output_type": "stream",
     "text": [
      "Once in a secluded village nestled between misty mountains and dense forests, there lived a curious young girl named Elowen. Her boundless curiosity was matched by her love for the village's ancient lore.\n",
      "\n",
      "One evening, as the sun dipped low and painted the sky with shades of amber and rose, Elowen's grandmother shared a tale about a hidden gemstone—The Heart of the Forest. It was said to possess immense healing powers and had been lost for centuries.\n",
      "\n",
      "The tale left Elowen wide-eyed and determined. The next morning, with a small satchel filled with essentials, she set off into the forest. She wandered through towering trees and listened to the harmonious symphony of rustling leaves and chirping birds.\n",
      "\n",
      "As twilight cast a violet glow, she came upon an enigmatic stream. It shimmered as if laced with stardust. Following the stream, she stumbled upon an ancient, gnarled tree at its end, with roots intertwined like guarding serpents.\n",
      "\n",
      "Elowen cautiously approached, feeling drawn to the tree's majestic presence. Noticing a small opening between the roots, she slipped inside and was greeted by an ethereal glow. In the heart of the tree lay the coveted gemstone, radiating a soft, pulsating light. \n",
      "\n",
      "The gem filled Elowen with warmth and a surge of vitality. She gently cradled it, realizing the significance it could bring to her ailing village, known for its scarce resources and impoverished inhabitants.\n",
      "\n",
      "With gratitude in her heart, she made her way back home. The villagers were in awe when they saw the glowing Heart of the Forest. Its powers rejuvenated their crops, healed their sick, and brought an era of unprecedented prosperity.\n",
      "\n",
      "Elowen became a village heroine, not just for her bravery, but for her unwavering belief in the mythical, in the possible, and in the extraordinary. She proved that sometimes, all it takes is a curious heart and an indomitable spirit to transform the world.\n"
     ]
    }
   ],
   "source": [
    "print(response.choices[0].message.content)"
   ]
  },
  {
   "cell_type": "code",
   "execution_count": 25,
   "id": "86beb86f",
   "metadata": {},
   "outputs": [
    {
     "name": "stdout",
     "output_type": "stream",
     "text": [
      "CPU times: user 7.8 ms, sys: 2.03 ms, total: 9.83 ms\n",
      "Wall time: 3.3 s\n"
     ]
    }
   ],
   "source": [
    "%%time\n",
    "response = client.chat.completions.create(\n",
    "    model=\"gpt-3.5-turbo\",\n",
    "    messages=[\n",
    "        {\"role\": \"user\", \"content\": \"Tell me a short story\"},\n",
    "    ],\n",
    "    temperature=0\n",
    ")"
   ]
  },
  {
   "cell_type": "code",
   "execution_count": 26,
   "id": "1855d3f5",
   "metadata": {},
   "outputs": [
    {
     "name": "stdout",
     "output_type": "stream",
     "text": [
      "Once upon a time, in a small village nestled in the mountains, there lived a young girl named Lily. Lily was known for her kindness and generosity, always willing to help those in need.\n",
      "\n",
      "One day, a terrible storm hit the village, causing widespread damage and leaving many families homeless. Lily knew she had to do something to help. She gathered her friends and together they started a relief effort, collecting food, clothing, and supplies for those affected by the storm.\n",
      "\n",
      "As word spread of Lily's efforts, more and more people in the village joined in, donating whatever they could to help their neighbors in need. Soon, the village was buzzing with activity as everyone worked together to rebuild and support those who had lost everything.\n",
      "\n",
      "Thanks to Lily's leadership and the community's generosity, the village was able to recover from the storm stronger than ever before. And from that day on, Lily was known as a hero, a shining example of how one person's kindness and compassion can make a difference in the world.\n"
     ]
    }
   ],
   "source": [
    "print(response.choices[0].message.content)"
   ]
  },
  {
   "cell_type": "markdown",
   "id": "7d8a12a1",
   "metadata": {},
   "source": [
    "## Few-shot prompting"
   ]
  },
  {
   "cell_type": "markdown",
   "id": "6bca0dde",
   "metadata": {},
   "source": [
    "We can also provide several examples of mappings between input and output."
   ]
  },
  {
   "cell_type": "code",
   "execution_count": 27,
   "id": "80a730c8",
   "metadata": {},
   "outputs": [
    {
     "name": "stdout",
     "output_type": "stream",
     "text": [
      "This last-minute change means we can't do everything for the client's project.\n"
     ]
    }
   ],
   "source": [
    "response = client.chat.completions.create(\n",
    "    model=\"gpt-4o\",\n",
    "    messages=[\n",
    "        {\"role\": \"system\", \"content\": \"You are a helpful, pattern-following assistant.\"},\n",
    "        {\"role\": \"user\", \"content\": \"Help me translate the following corporate jargon into plain English.\"},\n",
    "        {\"role\": \"assistant\", \"content\": \"Sure, I'd be happy to!\"},\n",
    "        {\"role\": \"user\", \"content\": \"New synergies will help drive top-line growth.\"},\n",
    "        {\"role\": \"assistant\", \"content\": \"Things working well together will increase revenue.\"},\n",
    "        {\"role\": \"user\", \"content\": \"Let's circle back when we have more bandwidth to touch base on opportunities for increased leverage.\"},\n",
    "        {\"role\": \"assistant\", \"content\": \"Let's talk later when we're less busy about how to do better.\"},\n",
    "        {\"role\": \"user\", \"content\": \"This late pivot means we don't have time to boil the ocean for the client deliverable.\"},\n",
    "    ],\n",
    "    temperature=0,\n",
    ")\n",
    "\n",
    "print(response.choices[0].message.content)"
   ]
  },
  {
   "cell_type": "markdown",
   "id": "7d83c1cb",
   "metadata": {},
   "source": [
    "# Formatted output"
   ]
  },
  {
   "cell_type": "code",
   "execution_count": 28,
   "id": "cc5d104c",
   "metadata": {},
   "outputs": [
    {
     "name": "stdout",
     "output_type": "stream",
     "text": [
      "CPU times: user 10.2 ms, sys: 2.89 ms, total: 13.1 ms\n",
      "Wall time: 5.14 s\n"
     ]
    }
   ],
   "source": [
    "%%time\n",
    "userInput = \"blueberry pancakes\"\n",
    "\n",
    "prompt = \"\"\"return a recipe for %s.\n",
    "        Provide your response as a JSON object with the following schema:\n",
    "        {\"dish\": \"%s\", \"ingredients\": [\"\", \"\", ...],\n",
    "        \"instructions\": [\"\", \"\", ... ]}\"\"\" % (userInput, userInput)\n",
    "\n",
    "response = client.chat.completions.create(\n",
    "          model = \"gpt-4o\",\n",
    "          messages = [\n",
    "            { \"role\": \"system\", \"content\": \"You are a helpful recipe assistant.\"},\n",
    "            { \"role\": \"user\",   \"content\": prompt }\n",
    "          ]\n",
    ")"
   ]
  },
  {
   "cell_type": "code",
   "execution_count": 29,
   "id": "d7e701cc",
   "metadata": {},
   "outputs": [],
   "source": [
    "json_output = response.choices[0].message.content"
   ]
  },
  {
   "cell_type": "code",
   "execution_count": 33,
   "id": "7814a207-d78e-4ed6-bb31-21008ba188a7",
   "metadata": {},
   "outputs": [
    {
     "name": "stdout",
     "output_type": "stream",
     "text": [
      "```json\n",
      "{\n",
      "  \"dish\": \"blueberry pancakes\",\n",
      "  \"ingredients\": [\n",
      "    \"1 cup all-purpose flour\",\n",
      "    \"1 tablespoon sugar\",\n",
      "    \"1 teaspoon baking powder\",\n",
      "    \"1/2 teaspoon baking soda\",\n",
      "    \"1/4 teaspoon salt\",\n",
      "    \"1 cup buttermilk\",\n",
      "    \"1 large egg\",\n",
      "    \"2 tablespoons unsalted butter, melted\",\n",
      "    \"1 teaspoon vanilla extract\",\n",
      "    \"1 cup fresh blueberries\",\n",
      "    \"Extra butter or oil for cooking\"\n",
      "  ],\n",
      "  \"instructions\": [\n",
      "    \"In a large bowl, whisk together the flour, sugar, baking powder, baking soda, and salt.\",\n",
      "    \"In another bowl, whisk together the buttermilk, egg, melted butter, and vanilla extract.\",\n",
      "    \"Pour the wet ingredients into the dry ingredients and stir until just combined. The batter will be a bit lumpy; do not overmix.\",\n",
      "    \"Gently fold in the fresh blueberries.\",\n",
      "    \"Heat a griddle or large non-stick skillet over medium heat and lightly grease with butter or oil.\",\n",
      "    \"Pour 1/4 cup of batter onto the griddle for each pancake. Cook until bubbles form on the surface and the edges look set, about 2-3 minutes.\",\n",
      "    \"Carefully flip the pancakes and cook until golden brown on the other side, about 1-2 minutes more.\",\n",
      "    \"Transfer the cooked pancakes to a plate and keep warm. Repeat with the remaining batter, adding more butter or oil to the griddle as needed.\",\n",
      "    \"Serve the blueberry pancakes warm with your favorite toppings, such as maple syrup, extra butter, or additional fresh blueberries.\"\n",
      "  ]\n",
      "}\n",
      "```\n"
     ]
    }
   ],
   "source": [
    "print(json_output)"
   ]
  },
  {
   "cell_type": "code",
   "execution_count": 34,
   "id": "d9733d8e",
   "metadata": {},
   "outputs": [],
   "source": [
    "output = json.loads(\"\"\"{\n",
    "  \"dish\": \"blueberry pancakes\",\n",
    "  \"ingredients\": [\n",
    "    \"1 cup all-purpose flour\",\n",
    "    \"1 tablespoon sugar\",\n",
    "    \"1 teaspoon baking powder\",\n",
    "    \"1/2 teaspoon baking soda\",\n",
    "    \"1/4 teaspoon salt\",\n",
    "    \"1 cup buttermilk\",\n",
    "    \"1 large egg\",\n",
    "    \"2 tablespoons unsalted butter, melted\",\n",
    "    \"1 teaspoon vanilla extract\",\n",
    "    \"1 cup fresh blueberries\",\n",
    "    \"Extra butter or oil for cooking\"\n",
    "  ],\n",
    "  \"instructions\": [\n",
    "    \"In a large bowl, whisk together the flour, sugar, baking powder, baking soda, and salt.\",\n",
    "    \"In another bowl, whisk together the buttermilk, egg, melted butter, and vanilla extract.\",\n",
    "    \"Pour the wet ingredients into the dry ingredients and stir until just combined. The batter will be a bit lumpy; do not overmix.\",\n",
    "    \"Gently fold in the fresh blueberries.\",\n",
    "    \"Heat a griddle or large non-stick skillet over medium heat and lightly grease with butter or oil.\",\n",
    "    \"Pour 1/4 cup of batter onto the griddle for each pancake. Cook until bubbles form on the surface and the edges look set, about 2-3 minutes.\",\n",
    "    \"Carefully flip the pancakes and cook until golden brown on the other side, about 1-2 minutes more.\",\n",
    "    \"Transfer the cooked pancakes to a plate and keep warm. Repeat with the remaining batter, adding more butter or oil to the griddle as needed.\",\n",
    "    \"Serve the blueberry pancakes warm with your favorite toppings, such as maple syrup, extra butter, or additional fresh blueberries.\"\n",
    "  ]\n",
    "}\"\"\")"
   ]
  },
  {
   "cell_type": "code",
   "execution_count": 35,
   "id": "d03723fd",
   "metadata": {},
   "outputs": [
    {
     "data": {
      "text/plain": [
       "['1 cup all-purpose flour',\n",
       " '1 tablespoon sugar',\n",
       " '1 teaspoon baking powder',\n",
       " '1/2 teaspoon baking soda',\n",
       " '1/4 teaspoon salt',\n",
       " '1 cup buttermilk',\n",
       " '1 large egg',\n",
       " '2 tablespoons unsalted butter, melted',\n",
       " '1 teaspoon vanilla extract',\n",
       " '1 cup fresh blueberries',\n",
       " 'Extra butter or oil for cooking']"
      ]
     },
     "execution_count": 35,
     "metadata": {},
     "output_type": "execute_result"
    }
   ],
   "source": [
    "output[\"ingredients\"]"
   ]
  },
  {
   "cell_type": "code",
   "execution_count": 36,
   "id": "db048b15",
   "metadata": {},
   "outputs": [
    {
     "data": {
      "text/plain": [
       "['In a large bowl, whisk together the flour, sugar, baking powder, baking soda, and salt.',\n",
       " 'In another bowl, whisk together the buttermilk, egg, melted butter, and vanilla extract.',\n",
       " 'Pour the wet ingredients into the dry ingredients and stir until just combined. The batter will be a bit lumpy; do not overmix.',\n",
       " 'Gently fold in the fresh blueberries.',\n",
       " 'Heat a griddle or large non-stick skillet over medium heat and lightly grease with butter or oil.',\n",
       " 'Pour 1/4 cup of batter onto the griddle for each pancake. Cook until bubbles form on the surface and the edges look set, about 2-3 minutes.',\n",
       " 'Carefully flip the pancakes and cook until golden brown on the other side, about 1-2 minutes more.',\n",
       " 'Transfer the cooked pancakes to a plate and keep warm. Repeat with the remaining batter, adding more butter or oil to the griddle as needed.',\n",
       " 'Serve the blueberry pancakes warm with your favorite toppings, such as maple syrup, extra butter, or additional fresh blueberries.']"
      ]
     },
     "execution_count": 36,
     "metadata": {},
     "output_type": "execute_result"
    }
   ],
   "source": [
    "output[\"instructions\"]"
   ]
  },
  {
   "cell_type": "markdown",
   "id": "0811b139",
   "metadata": {},
   "source": [
    "# Translation"
   ]
  },
  {
   "cell_type": "code",
   "execution_count": 37,
   "id": "5a0e7e05",
   "metadata": {},
   "outputs": [],
   "source": [
    "response = client.chat.completions.create(\n",
    "    model='gpt-3.5-turbo',\n",
    "    messages=[{\"role\": \"system\", \"content\": \"You're a professional English-Italian translator.\"}, \n",
    "              {\"role\": \"user\", \"content\": \"Translate 'Be the change that you wish to see in the world.' into Italian\"}],\n",
    "    temperature=0,\n",
    ")"
   ]
  },
  {
   "cell_type": "code",
   "execution_count": 38,
   "id": "ca268762",
   "metadata": {},
   "outputs": [
    {
     "data": {
      "text/plain": [
       "'\"Sii il cambiamento che desideri vedere nel mondo.\"'"
      ]
     },
     "execution_count": 38,
     "metadata": {},
     "output_type": "execute_result"
    }
   ],
   "source": [
    "response.choices[0].message.content"
   ]
  },
  {
   "cell_type": "markdown",
   "id": "7cc3b0cc",
   "metadata": {},
   "source": [
    "# Process unstructured information"
   ]
  },
  {
   "cell_type": "markdown",
   "id": "351cfe4a",
   "metadata": {},
   "source": [
    "Inspired by https://platform.openai.com/examples/default-parse-data"
   ]
  },
  {
   "cell_type": "code",
   "execution_count": 39,
   "id": "d0d87024",
   "metadata": {},
   "outputs": [],
   "source": [
    "prompt = \"\"\"There are many fruits that were found on the recently discovered planet Goocrux. \n",
    "There are neoskizzles that grow there, which are purple and taste like candy. There are also \n",
    "loheckles, which are a grayish blue fruit and are very tart, a little bit like a lemon. Pounits \n",
    "are a bright green color and are more savory than sweet. There are also plenty of loopnovas which \n",
    "are a neon pink flavor and taste like cotton candy. Finally, there are fruits called glowls, which \n",
    "have a very sour and bitter taste which is acidic and caustic, and a pale orange tinge to them.\"\"\""
   ]
  },
  {
   "cell_type": "code",
   "execution_count": 40,
   "id": "0354c130",
   "metadata": {},
   "outputs": [],
   "source": [
    "response = client.chat.completions.create(\n",
    "    model='gpt-4o',\n",
    "    messages=[\n",
    "        {\"role\": \"system\", \n",
    "         \"content\": \"You will be provided with unstructured data, and your task is to parse it into CSV format.\"}, \n",
    "        {\"role\": \"user\", \n",
    "         \"content\": prompt}],\n",
    "    temperature=0,\n",
    ")"
   ]
  },
  {
   "cell_type": "code",
   "execution_count": 41,
   "id": "7529da42",
   "metadata": {},
   "outputs": [
    {
     "name": "stdout",
     "output_type": "stream",
     "text": [
      "```csv\n",
      "Fruit,Color,Taste\n",
      "Neoskizzles,Purple,Candy\n",
      "Loheckles,Grayish Blue,Tart\n",
      "Pounits,Bright Green,Savory\n",
      "Loopnovas,Neon Pink,Cotton Candy\n",
      "Glowls,Pale Orange,Sour and Bitter\n",
      "```\n"
     ]
    }
   ],
   "source": [
    "print(response.choices[0].message.content)"
   ]
  },
  {
   "cell_type": "code",
   "execution_count": 42,
   "id": "f0daaad4",
   "metadata": {},
   "outputs": [],
   "source": [
    "response = client.chat.completions.create(\n",
    "    model='gpt-4o',\n",
    "    messages=[{\"role\": \"system\", \"content\": \"\"\"\n",
    "            Read this paragraph \n",
    "            \n",
    "            `%s` \n",
    "            \n",
    "            and use it to answer some questions.\"\"\" % prompt}, \n",
    "              {\"role\": \"user\", \"content\": \"What are pounits?\"}],\n",
    "    temperature=0,\n",
    ")"
   ]
  },
  {
   "cell_type": "code",
   "execution_count": 43,
   "id": "94e1155b",
   "metadata": {},
   "outputs": [
    {
     "name": "stdout",
     "output_type": "stream",
     "text": [
      "Pounits are a bright green fruit found on the planet Goocrux. They are more savory than sweet.\n"
     ]
    }
   ],
   "source": [
    "print(response.choices[0].message.content)"
   ]
  },
  {
   "cell_type": "markdown",
   "id": "2ec8a68a",
   "metadata": {},
   "source": [
    "<center>\n",
    "     <img src=\"https://raw.githubusercontent.com/DataForScience/Networks/master/data/D4Sci_logo_full.png\" alt=\"Data For Science, Inc\" align=\"center\" border=\"0\" width=300px> \n",
    "</center>"
   ]
  }
 ],
 "metadata": {
  "kernelspec": {
   "display_name": "Python 3 (ipykernel)",
   "language": "python",
   "name": "python3"
  },
  "language_info": {
   "codemirror_mode": {
    "name": "ipython",
    "version": 3
   },
   "file_extension": ".py",
   "mimetype": "text/x-python",
   "name": "python",
   "nbconvert_exporter": "python",
   "pygments_lexer": "ipython3",
   "version": "3.11.7"
  },
  "varInspector": {
   "cols": {
    "lenName": 16,
    "lenType": 16,
    "lenVar": 40
   },
   "kernels_config": {
    "python": {
     "delete_cmd_postfix": "",
     "delete_cmd_prefix": "del ",
     "library": "var_list.py",
     "varRefreshCmd": "print(var_dic_list())"
    },
    "r": {
     "delete_cmd_postfix": ") ",
     "delete_cmd_prefix": "rm(",
     "library": "var_list.r",
     "varRefreshCmd": "cat(var_dic_list()) "
    }
   },
   "types_to_exclude": [
    "module",
    "function",
    "builtin_function_or_method",
    "instance",
    "_Feature"
   ],
   "window_display": false
  }
 },
 "nbformat": 4,
 "nbformat_minor": 5
}
